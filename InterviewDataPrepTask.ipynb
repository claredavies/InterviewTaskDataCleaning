{
  "nbformat": 4,
  "nbformat_minor": 0,
  "metadata": {
    "colab": {
      "provenance": [],
      "collapsed_sections": [
        "sYZduvOG-NLF",
        "EoXzzGoH-TNj",
        "FQZbeNe1_kLf",
        "xPw5jvnbBU6_",
        "STiXKaTkAxoi",
        "PMhJRMDGA3Zo",
        "uIzNIorrCei0",
        "Xy6ieu5cl7V6",
        "mVI-QhFtmxtn",
        "6wRa2qDPNvQy",
        "tDwinK76Pi-f",
        "CmrduCGvM2tZ",
        "qTOtKY7VWioN"
      ],
      "include_colab_link": true
    },
    "kernelspec": {
      "name": "python3",
      "display_name": "Python 3"
    },
    "language_info": {
      "name": "python"
    }
  },
  "cells": [
    {
      "cell_type": "markdown",
      "metadata": {
        "id": "view-in-github",
        "colab_type": "text"
      },
      "source": [
        "<a href=\"https://colab.research.google.com/github/claredavies/InterviewTaskDataCleaning/blob/main/InterviewDataPrepTask.ipynb\" target=\"_parent\"><img src=\"https://colab.research.google.com/assets/colab-badge.svg\" alt=\"Open In Colab\"/></a>"
      ]
    },
    {
      "cell_type": "markdown",
      "source": [
        "# Libraries"
      ],
      "metadata": {
        "id": "sYZduvOG-NLF"
      }
    },
    {
      "cell_type": "code",
      "execution_count": 1,
      "metadata": {
        "id": "eza77N_D-KUM"
      },
      "outputs": [],
      "source": [
        "import numpy as np\n",
        "from google.colab import files\n",
        "import pandas as pd\n",
        "from matplotlib import pyplot as plt\n",
        "from pandas.api.types import is_numeric_dtype\n",
        "from pandas.api.types import is_string_dtype\n",
        "import re\n",
        "import socket\n",
        "import datetime\n",
        "from datetime import datetime"
      ]
    },
    {
      "cell_type": "code",
      "source": [
        "pd.set_option('max_rows', 99999)\n",
        "pd.set_option('max_colwidth', 400)\n",
        "pd.set_option('display.max_rows', None)"
      ],
      "metadata": {
        "id": "oSin7yeuMauf"
      },
      "execution_count": 2,
      "outputs": []
    },
    {
      "cell_type": "markdown",
      "source": [
        "# Read in files"
      ],
      "metadata": {
        "id": "EoXzzGoH-TNj"
      }
    },
    {
      "cell_type": "code",
      "source": [
        "!git clone https://github.com/claredavies/InterviewTaskDataCleaning.git"
      ],
      "metadata": {
        "colab": {
          "base_uri": "https://localhost:8080/"
        },
        "id": "by8etXVk-lk3",
        "outputId": "6af8b0b9-0b4d-47dc-8cb5-09d11980de3b"
      },
      "execution_count": 3,
      "outputs": [
        {
          "output_type": "stream",
          "name": "stdout",
          "text": [
            "Cloning into 'InterviewTaskDataCleaning'...\n",
            "remote: Enumerating objects: 43, done.\u001b[K\n",
            "remote: Counting objects: 100% (43/43), done.\u001b[K\n",
            "remote: Compressing objects: 100% (41/41), done.\u001b[K\n",
            "remote: Total 43 (delta 22), reused 0 (delta 0), pack-reused 0\u001b[K\n",
            "Unpacking objects: 100% (43/43), done.\n"
          ]
        }
      ]
    },
    {
      "cell_type": "code",
      "source": [
        "%cd InterviewTaskDataCleaning"
      ],
      "metadata": {
        "colab": {
          "base_uri": "https://localhost:8080/"
        },
        "id": "1FyOSiFo_M7H",
        "outputId": "f694f946-634e-474f-9127-4810873a997c"
      },
      "execution_count": 4,
      "outputs": [
        {
          "output_type": "stream",
          "name": "stdout",
          "text": [
            "/content/InterviewTaskDataCleaning\n"
          ]
        }
      ]
    },
    {
      "cell_type": "code",
      "source": [
        "df = pd.read_csv('InputData.csv')\n",
        "df.head(3)"
      ],
      "metadata": {
        "colab": {
          "base_uri": "https://localhost:8080/",
          "height": 0
        },
        "id": "yGrn2o25-skt",
        "outputId": "0d3673b0-08c6-4de0-9a34-b7870d45285f"
      },
      "execution_count": 5,
      "outputs": [
        {
          "output_type": "execute_result",
          "data": {
            "text/plain": [
              "   Ref First_Name Last_Name                   Email Gender      IP_Address  \\\n",
              "0    1   Germayne   Simmons    gsimmons0@cdbaby.com   Male   24.48.223.251   \n",
              "1    2      Cosmo    Pleass   cpleass1@netscape.com   Male   108.87.136.28   \n",
              "2    3     Henrik      Boag  hboag2@bizjournals.com   Male  221.105.60.101   \n",
              "\n",
              "  Date_of_Birth  \n",
              "0    18/11/1959  \n",
              "1    08/11/1935  \n",
              "2    07/10/1989  "
            ],
            "text/html": [
              "\n",
              "  <div id=\"df-ef837c6d-5da5-4bcc-ab89-d5c306733206\">\n",
              "    <div class=\"colab-df-container\">\n",
              "      <div>\n",
              "<style scoped>\n",
              "    .dataframe tbody tr th:only-of-type {\n",
              "        vertical-align: middle;\n",
              "    }\n",
              "\n",
              "    .dataframe tbody tr th {\n",
              "        vertical-align: top;\n",
              "    }\n",
              "\n",
              "    .dataframe thead th {\n",
              "        text-align: right;\n",
              "    }\n",
              "</style>\n",
              "<table border=\"1\" class=\"dataframe\">\n",
              "  <thead>\n",
              "    <tr style=\"text-align: right;\">\n",
              "      <th></th>\n",
              "      <th>Ref</th>\n",
              "      <th>First_Name</th>\n",
              "      <th>Last_Name</th>\n",
              "      <th>Email</th>\n",
              "      <th>Gender</th>\n",
              "      <th>IP_Address</th>\n",
              "      <th>Date_of_Birth</th>\n",
              "    </tr>\n",
              "  </thead>\n",
              "  <tbody>\n",
              "    <tr>\n",
              "      <th>0</th>\n",
              "      <td>1</td>\n",
              "      <td>Germayne</td>\n",
              "      <td>Simmons</td>\n",
              "      <td>gsimmons0@cdbaby.com</td>\n",
              "      <td>Male</td>\n",
              "      <td>24.48.223.251</td>\n",
              "      <td>18/11/1959</td>\n",
              "    </tr>\n",
              "    <tr>\n",
              "      <th>1</th>\n",
              "      <td>2</td>\n",
              "      <td>Cosmo</td>\n",
              "      <td>Pleass</td>\n",
              "      <td>cpleass1@netscape.com</td>\n",
              "      <td>Male</td>\n",
              "      <td>108.87.136.28</td>\n",
              "      <td>08/11/1935</td>\n",
              "    </tr>\n",
              "    <tr>\n",
              "      <th>2</th>\n",
              "      <td>3</td>\n",
              "      <td>Henrik</td>\n",
              "      <td>Boag</td>\n",
              "      <td>hboag2@bizjournals.com</td>\n",
              "      <td>Male</td>\n",
              "      <td>221.105.60.101</td>\n",
              "      <td>07/10/1989</td>\n",
              "    </tr>\n",
              "  </tbody>\n",
              "</table>\n",
              "</div>\n",
              "      <button class=\"colab-df-convert\" onclick=\"convertToInteractive('df-ef837c6d-5da5-4bcc-ab89-d5c306733206')\"\n",
              "              title=\"Convert this dataframe to an interactive table.\"\n",
              "              style=\"display:none;\">\n",
              "        \n",
              "  <svg xmlns=\"http://www.w3.org/2000/svg\" height=\"24px\"viewBox=\"0 0 24 24\"\n",
              "       width=\"24px\">\n",
              "    <path d=\"M0 0h24v24H0V0z\" fill=\"none\"/>\n",
              "    <path d=\"M18.56 5.44l.94 2.06.94-2.06 2.06-.94-2.06-.94-.94-2.06-.94 2.06-2.06.94zm-11 1L8.5 8.5l.94-2.06 2.06-.94-2.06-.94L8.5 2.5l-.94 2.06-2.06.94zm10 10l.94 2.06.94-2.06 2.06-.94-2.06-.94-.94-2.06-.94 2.06-2.06.94z\"/><path d=\"M17.41 7.96l-1.37-1.37c-.4-.4-.92-.59-1.43-.59-.52 0-1.04.2-1.43.59L10.3 9.45l-7.72 7.72c-.78.78-.78 2.05 0 2.83L4 21.41c.39.39.9.59 1.41.59.51 0 1.02-.2 1.41-.59l7.78-7.78 2.81-2.81c.8-.78.8-2.07 0-2.86zM5.41 20L4 18.59l7.72-7.72 1.47 1.35L5.41 20z\"/>\n",
              "  </svg>\n",
              "      </button>\n",
              "      \n",
              "  <style>\n",
              "    .colab-df-container {\n",
              "      display:flex;\n",
              "      flex-wrap:wrap;\n",
              "      gap: 12px;\n",
              "    }\n",
              "\n",
              "    .colab-df-convert {\n",
              "      background-color: #E8F0FE;\n",
              "      border: none;\n",
              "      border-radius: 50%;\n",
              "      cursor: pointer;\n",
              "      display: none;\n",
              "      fill: #1967D2;\n",
              "      height: 32px;\n",
              "      padding: 0 0 0 0;\n",
              "      width: 32px;\n",
              "    }\n",
              "\n",
              "    .colab-df-convert:hover {\n",
              "      background-color: #E2EBFA;\n",
              "      box-shadow: 0px 1px 2px rgba(60, 64, 67, 0.3), 0px 1px 3px 1px rgba(60, 64, 67, 0.15);\n",
              "      fill: #174EA6;\n",
              "    }\n",
              "\n",
              "    [theme=dark] .colab-df-convert {\n",
              "      background-color: #3B4455;\n",
              "      fill: #D2E3FC;\n",
              "    }\n",
              "\n",
              "    [theme=dark] .colab-df-convert:hover {\n",
              "      background-color: #434B5C;\n",
              "      box-shadow: 0px 1px 3px 1px rgba(0, 0, 0, 0.15);\n",
              "      filter: drop-shadow(0px 1px 2px rgba(0, 0, 0, 0.3));\n",
              "      fill: #FFFFFF;\n",
              "    }\n",
              "  </style>\n",
              "\n",
              "      <script>\n",
              "        const buttonEl =\n",
              "          document.querySelector('#df-ef837c6d-5da5-4bcc-ab89-d5c306733206 button.colab-df-convert');\n",
              "        buttonEl.style.display =\n",
              "          google.colab.kernel.accessAllowed ? 'block' : 'none';\n",
              "\n",
              "        async function convertToInteractive(key) {\n",
              "          const element = document.querySelector('#df-ef837c6d-5da5-4bcc-ab89-d5c306733206');\n",
              "          const dataTable =\n",
              "            await google.colab.kernel.invokeFunction('convertToInteractive',\n",
              "                                                     [key], {});\n",
              "          if (!dataTable) return;\n",
              "\n",
              "          const docLinkHtml = 'Like what you see? Visit the ' +\n",
              "            '<a target=\"_blank\" href=https://colab.research.google.com/notebooks/data_table.ipynb>data table notebook</a>'\n",
              "            + ' to learn more about interactive tables.';\n",
              "          element.innerHTML = '';\n",
              "          dataTable['output_type'] = 'display_data';\n",
              "          await google.colab.output.renderOutput(dataTable, element);\n",
              "          const docLink = document.createElement('div');\n",
              "          docLink.innerHTML = docLinkHtml;\n",
              "          element.appendChild(docLink);\n",
              "        }\n",
              "      </script>\n",
              "    </div>\n",
              "  </div>\n",
              "  "
            ]
          },
          "metadata": {},
          "execution_count": 5
        }
      ]
    },
    {
      "cell_type": "markdown",
      "source": [
        "# Functions"
      ],
      "metadata": {
        "id": "m1xbAFdAGEux"
      }
    },
    {
      "cell_type": "code",
      "source": [
        "def boolCheckLengthOverLimitString(value, limit):\n",
        "  lengthFound = len(value)\n",
        "  if(lengthFound > limit):\n",
        "    return True\n",
        "  else:\n",
        "    return False"
      ],
      "metadata": {
        "id": "ffk6AfaOKBmi"
      },
      "execution_count": 6,
      "outputs": []
    },
    {
      "cell_type": "code",
      "source": [
        "def boolCheckLengthOverLimitInt(value, limit):\n",
        "  stringValue = str(value)\n",
        "  return boolCheckLengthOverLimitString(stringValue, limit)"
      ],
      "metadata": {
        "id": "ebP1vUyjKWCM"
      },
      "execution_count": 7,
      "outputs": []
    },
    {
      "cell_type": "code",
      "source": [
        "def checkFirstLetterCapitalised(string):\n",
        "  lengthWord = len(string)\n",
        "  return string[0].isupper()"
      ],
      "metadata": {
        "id": "dyjqgweSQgVV"
      },
      "execution_count": 8,
      "outputs": []
    },
    {
      "cell_type": "code",
      "source": [
        "def containsNumber(string):\n",
        "    return any(char.isdigit() for char in string)"
      ],
      "metadata": {
        "id": "iGP7jNXmmg-B"
      },
      "execution_count": 9,
      "outputs": []
    },
    {
      "cell_type": "code",
      "source": [
        "def checkIfSpacesBetweenWords(string):\n",
        "  res = bool(re.search(r\"\\s\", string))\n",
        "  return res"
      ],
      "metadata": {
        "id": "gEw1nnXsjurl"
      },
      "execution_count": 10,
      "outputs": []
    },
    {
      "cell_type": "code",
      "source": [
        "def checkMaleOrFemale(string):\n",
        "  lowercaseString = string.lower()\n",
        "  if lowercaseString == 'female':\n",
        "    return True\n",
        "  elif lowercaseString == 'male':\n",
        "    return True\n",
        "  else:\n",
        "    return False"
      ],
      "metadata": {
        "id": "uUyc1g16nWAf"
      },
      "execution_count": 11,
      "outputs": []
    },
    {
      "cell_type": "code",
      "source": [
        "def checkIfIPV4Valid(string):\n",
        "  try:\n",
        "      socket.inet_aton(string)\n",
        "      return True\n",
        "      # legal\n",
        "  except socket.error:\n",
        "    return False"
      ],
      "metadata": {
        "id": "vxv56EGgOucQ"
      },
      "execution_count": 12,
      "outputs": []
    },
    {
      "cell_type": "code",
      "source": [
        "def checkFormatDate(string):\n",
        "  format = '%d/%m/%Y'\n",
        "  try:\n",
        "    datetime.strptime(string, format)\n",
        "    return True\n",
        "  except ValueError:\n",
        "    return False "
      ],
      "metadata": {
        "id": "lFqaaUezQ6Xx"
      },
      "execution_count": 13,
      "outputs": []
    },
    {
      "cell_type": "code",
      "source": [
        "def check18OrOverBy1stDec2020(startDate):\n",
        "  endDate = '01/12/2020'\n",
        "  endDate = datetime.strptime(endDate, '%d/%m/%Y')\n",
        "  startDate = datetime.strptime(startDate, '%d/%m/%Y')\n",
        "  yearsOld = endDate.year - startDate.year - ((endDate.month, endDate.day) < (startDate.month, startDate.day))\n",
        "  if yearsOld >= 18:\n",
        "    return True\n",
        "  else:\n",
        "    return False"
      ],
      "metadata": {
        "id": "b4aW_RjiSWSx"
      },
      "execution_count": 14,
      "outputs": []
    },
    {
      "cell_type": "code",
      "source": [
        "def createHTMLOfDf(df, name):\n",
        "  html = df.to_html()\n",
        "  \n",
        "  # write html to file\n",
        "  text_file = open(name, \"w\")\n",
        "  text_file.write(html)\n",
        "  text_file.close()"
      ],
      "metadata": {
        "id": "FtZO12l4ZUKc"
      },
      "execution_count": 15,
      "outputs": []
    },
    {
      "cell_type": "code",
      "source": [
        "messageErrorNA = \"Value is NaN\"\n",
        "messageErrorOverLength = \"Length is over the limit\"\n",
        "messageErrorCaseIncorrect = \"Case is incorrect\"\n",
        "messageErrorContainsUnwantedNumbers = \"Unwanted numbers contained\"\n",
        "messageErrorUnwantedSpace = \"Unwanted space\"\n",
        "messageErrorNotMaleOrFemale = \"Not Male or Female\"\n",
        "messageErrorNotString = \"Not a string\"\n",
        "messageErrorNotValidIPAddress = \"Not a valid IPv4\"\n",
        "messageErrorNot18OrOverBy1stDec2020 = \"Not 18 or over by 1st Dec 2020\"\n",
        "messageDateOfBirthIncorrectFormat = \"Date of birth not in format dd/mm/yyyy\""
      ],
      "metadata": {
        "id": "zjIyWrns_9Nc"
      },
      "execution_count": 16,
      "outputs": []
    },
    {
      "cell_type": "markdown",
      "source": [
        "# Check Duplicates"
      ],
      "metadata": {
        "id": "FQZbeNe1_kLf"
      }
    },
    {
      "cell_type": "code",
      "source": [
        "dfWithoutRef = df.drop('Ref', axis=1)\n",
        "dfWithoutRef.head(3)"
      ],
      "metadata": {
        "colab": {
          "base_uri": "https://localhost:8080/",
          "height": 0
        },
        "id": "jYxu7swd_mym",
        "outputId": "3b8da143-a497-4795-838c-f01a15724970"
      },
      "execution_count": 17,
      "outputs": [
        {
          "output_type": "execute_result",
          "data": {
            "text/plain": [
              "  First_Name Last_Name                   Email Gender      IP_Address  \\\n",
              "0   Germayne   Simmons    gsimmons0@cdbaby.com   Male   24.48.223.251   \n",
              "1      Cosmo    Pleass   cpleass1@netscape.com   Male   108.87.136.28   \n",
              "2     Henrik      Boag  hboag2@bizjournals.com   Male  221.105.60.101   \n",
              "\n",
              "  Date_of_Birth  \n",
              "0    18/11/1959  \n",
              "1    08/11/1935  \n",
              "2    07/10/1989  "
            ],
            "text/html": [
              "\n",
              "  <div id=\"df-ba5ce936-b66a-43a4-8f01-aa027ec781be\">\n",
              "    <div class=\"colab-df-container\">\n",
              "      <div>\n",
              "<style scoped>\n",
              "    .dataframe tbody tr th:only-of-type {\n",
              "        vertical-align: middle;\n",
              "    }\n",
              "\n",
              "    .dataframe tbody tr th {\n",
              "        vertical-align: top;\n",
              "    }\n",
              "\n",
              "    .dataframe thead th {\n",
              "        text-align: right;\n",
              "    }\n",
              "</style>\n",
              "<table border=\"1\" class=\"dataframe\">\n",
              "  <thead>\n",
              "    <tr style=\"text-align: right;\">\n",
              "      <th></th>\n",
              "      <th>First_Name</th>\n",
              "      <th>Last_Name</th>\n",
              "      <th>Email</th>\n",
              "      <th>Gender</th>\n",
              "      <th>IP_Address</th>\n",
              "      <th>Date_of_Birth</th>\n",
              "    </tr>\n",
              "  </thead>\n",
              "  <tbody>\n",
              "    <tr>\n",
              "      <th>0</th>\n",
              "      <td>Germayne</td>\n",
              "      <td>Simmons</td>\n",
              "      <td>gsimmons0@cdbaby.com</td>\n",
              "      <td>Male</td>\n",
              "      <td>24.48.223.251</td>\n",
              "      <td>18/11/1959</td>\n",
              "    </tr>\n",
              "    <tr>\n",
              "      <th>1</th>\n",
              "      <td>Cosmo</td>\n",
              "      <td>Pleass</td>\n",
              "      <td>cpleass1@netscape.com</td>\n",
              "      <td>Male</td>\n",
              "      <td>108.87.136.28</td>\n",
              "      <td>08/11/1935</td>\n",
              "    </tr>\n",
              "    <tr>\n",
              "      <th>2</th>\n",
              "      <td>Henrik</td>\n",
              "      <td>Boag</td>\n",
              "      <td>hboag2@bizjournals.com</td>\n",
              "      <td>Male</td>\n",
              "      <td>221.105.60.101</td>\n",
              "      <td>07/10/1989</td>\n",
              "    </tr>\n",
              "  </tbody>\n",
              "</table>\n",
              "</div>\n",
              "      <button class=\"colab-df-convert\" onclick=\"convertToInteractive('df-ba5ce936-b66a-43a4-8f01-aa027ec781be')\"\n",
              "              title=\"Convert this dataframe to an interactive table.\"\n",
              "              style=\"display:none;\">\n",
              "        \n",
              "  <svg xmlns=\"http://www.w3.org/2000/svg\" height=\"24px\"viewBox=\"0 0 24 24\"\n",
              "       width=\"24px\">\n",
              "    <path d=\"M0 0h24v24H0V0z\" fill=\"none\"/>\n",
              "    <path d=\"M18.56 5.44l.94 2.06.94-2.06 2.06-.94-2.06-.94-.94-2.06-.94 2.06-2.06.94zm-11 1L8.5 8.5l.94-2.06 2.06-.94-2.06-.94L8.5 2.5l-.94 2.06-2.06.94zm10 10l.94 2.06.94-2.06 2.06-.94-2.06-.94-.94-2.06-.94 2.06-2.06.94z\"/><path d=\"M17.41 7.96l-1.37-1.37c-.4-.4-.92-.59-1.43-.59-.52 0-1.04.2-1.43.59L10.3 9.45l-7.72 7.72c-.78.78-.78 2.05 0 2.83L4 21.41c.39.39.9.59 1.41.59.51 0 1.02-.2 1.41-.59l7.78-7.78 2.81-2.81c.8-.78.8-2.07 0-2.86zM5.41 20L4 18.59l7.72-7.72 1.47 1.35L5.41 20z\"/>\n",
              "  </svg>\n",
              "      </button>\n",
              "      \n",
              "  <style>\n",
              "    .colab-df-container {\n",
              "      display:flex;\n",
              "      flex-wrap:wrap;\n",
              "      gap: 12px;\n",
              "    }\n",
              "\n",
              "    .colab-df-convert {\n",
              "      background-color: #E8F0FE;\n",
              "      border: none;\n",
              "      border-radius: 50%;\n",
              "      cursor: pointer;\n",
              "      display: none;\n",
              "      fill: #1967D2;\n",
              "      height: 32px;\n",
              "      padding: 0 0 0 0;\n",
              "      width: 32px;\n",
              "    }\n",
              "\n",
              "    .colab-df-convert:hover {\n",
              "      background-color: #E2EBFA;\n",
              "      box-shadow: 0px 1px 2px rgba(60, 64, 67, 0.3), 0px 1px 3px 1px rgba(60, 64, 67, 0.15);\n",
              "      fill: #174EA6;\n",
              "    }\n",
              "\n",
              "    [theme=dark] .colab-df-convert {\n",
              "      background-color: #3B4455;\n",
              "      fill: #D2E3FC;\n",
              "    }\n",
              "\n",
              "    [theme=dark] .colab-df-convert:hover {\n",
              "      background-color: #434B5C;\n",
              "      box-shadow: 0px 1px 3px 1px rgba(0, 0, 0, 0.15);\n",
              "      filter: drop-shadow(0px 1px 2px rgba(0, 0, 0, 0.3));\n",
              "      fill: #FFFFFF;\n",
              "    }\n",
              "  </style>\n",
              "\n",
              "      <script>\n",
              "        const buttonEl =\n",
              "          document.querySelector('#df-ba5ce936-b66a-43a4-8f01-aa027ec781be button.colab-df-convert');\n",
              "        buttonEl.style.display =\n",
              "          google.colab.kernel.accessAllowed ? 'block' : 'none';\n",
              "\n",
              "        async function convertToInteractive(key) {\n",
              "          const element = document.querySelector('#df-ba5ce936-b66a-43a4-8f01-aa027ec781be');\n",
              "          const dataTable =\n",
              "            await google.colab.kernel.invokeFunction('convertToInteractive',\n",
              "                                                     [key], {});\n",
              "          if (!dataTable) return;\n",
              "\n",
              "          const docLinkHtml = 'Like what you see? Visit the ' +\n",
              "            '<a target=\"_blank\" href=https://colab.research.google.com/notebooks/data_table.ipynb>data table notebook</a>'\n",
              "            + ' to learn more about interactive tables.';\n",
              "          element.innerHTML = '';\n",
              "          dataTable['output_type'] = 'display_data';\n",
              "          await google.colab.output.renderOutput(dataTable, element);\n",
              "          const docLink = document.createElement('div');\n",
              "          docLink.innerHTML = docLinkHtml;\n",
              "          element.appendChild(docLink);\n",
              "        }\n",
              "      </script>\n",
              "    </div>\n",
              "  </div>\n",
              "  "
            ]
          },
          "metadata": {},
          "execution_count": 17
        }
      ]
    },
    {
      "cell_type": "code",
      "source": [
        "duplicate = df[dfWithoutRef.duplicated()]\n",
        "print(\"Duplicate Rows :\")\n",
        "print(duplicate)"
      ],
      "metadata": {
        "colab": {
          "base_uri": "https://localhost:8080/"
        },
        "id": "vQQGN6xiAKpb",
        "outputId": "e08242fb-811d-46dc-f34d-91ed7a2a7fa1"
      },
      "execution_count": 18,
      "outputs": [
        {
          "output_type": "stream",
          "name": "stdout",
          "text": [
            "Duplicate Rows :\n",
            "Empty DataFrame\n",
            "Columns: [Ref, First_Name, Last_Name, Email, Gender, IP_Address, Date_of_Birth]\n",
            "Index: []\n"
          ]
        }
      ]
    },
    {
      "cell_type": "markdown",
      "source": [
        "# Check size - should be 1000"
      ],
      "metadata": {
        "id": "xPw5jvnbBU6_"
      }
    },
    {
      "cell_type": "code",
      "source": [
        "print(df.shape)"
      ],
      "metadata": {
        "colab": {
          "base_uri": "https://localhost:8080/"
        },
        "id": "V6ndF6SqBvOa",
        "outputId": "ae1aa38a-c771-4a2a-9dc5-678d46ab61cd"
      },
      "execution_count": 19,
      "outputs": [
        {
          "output_type": "stream",
          "name": "stdout",
          "text": [
            "(1000, 7)\n"
          ]
        }
      ]
    },
    {
      "cell_type": "markdown",
      "source": [
        "# Check Ref Column"
      ],
      "metadata": {
        "id": "STiXKaTkAxoi"
      }
    },
    {
      "cell_type": "code",
      "source": [
        "# want to add in check for unique\n",
        "def checkRefColumn(input, columnName, ref):\n",
        "  dfFlaws = pd.DataFrame(columns=['Ref', 'ColumnName', 'ColumnValue', 'ColumnIssue','Fixed',\"FixedResult\"])\n",
        "\n",
        "  if boolCheckLengthOverLimitInt(input, 8) == True:\n",
        "    issueMessage = messageErrorOverLength\n",
        "    dfFlaws = dfFlaws.append({'Ref': ref,'ColumnName': columnName, 'ColumnValue': input, 'ColumnIssue': issueMessage, 'Fixed': False, 'FixedResult': 'N/A'}, ignore_index=True)\n",
        "\n",
        "  elif pd.isna(input):\n",
        "    issueMessage = messageErrorNA\n",
        "    dfFlaws = dfFlaws.append({'Ref': ref, 'ColumnName': columnName, 'ColumnValue': input, 'ColumnIssue': issueMessage, 'Fixed': False, 'FixedResult': 'N/A'}, ignore_index=True)\n",
        "\n",
        "  return dfFlaws"
      ],
      "metadata": {
        "id": "1C7Llqk8dq_t"
      },
      "execution_count": 20,
      "outputs": []
    },
    {
      "cell_type": "markdown",
      "source": [
        "# Check First Name"
      ],
      "metadata": {
        "id": "PMhJRMDGA3Zo"
      }
    },
    {
      "cell_type": "code",
      "source": [
        "def checkColumnFirstName(input, columnName, ref):\n",
        "  dfFlaws = pd.DataFrame(columns=['Ref', 'ColumnName', 'ColumnValue', 'ColumnIssue','Fixed',\"FixedResult\"])\n",
        "\n",
        "  if pd.isna(input):\n",
        "    issueMessage = messageErrorNA\n",
        "    dfFlaws = dfFlaws.append({'Ref': ref,'ColumnName': columnName, 'ColumnValue': input, 'ColumnIssue': issueMessage, 'Fixed': False, 'FixedResult': 'N/A'}, ignore_index=True)\n",
        "\n",
        "  else:\n",
        "    if boolCheckLengthOverLimitInt(input, 20) == True:\n",
        "      issueMessage = messageErrorOverLength\n",
        "      dfFlaws = dfFlaws.append({'Ref': ref,'ColumnName': columnName, 'ColumnValue': input, 'ColumnIssue': issueMessage, 'Fixed': False, 'FixedResult': 'N/A'}, ignore_index=True)\n",
        "\n",
        "\n",
        "    if(checkFirstLetterCapitalised(input) == False):\n",
        "      issueMessage = messageErrorCaseIncorrect\n",
        "      dfFlaws = dfFlaws.append({'Ref': ref,'ColumnName': columnName, 'ColumnValue': input, 'ColumnIssue': issueMessage, 'Fixed': False, 'FixedResult': 'N/A'}, ignore_index=True)\n",
        "\n",
        "    if checkIfSpacesBetweenWords(input) == True:\n",
        "      issueMessage = messageErrorUnwantedSpace\n",
        "      dfFlaws = dfFlaws.append({'Ref': ref,'ColumnName': columnName, 'ColumnValue': input, 'ColumnIssue': issueMessage, 'Fixed': False, 'FixedResult': 'N/A'}, ignore_index=True)\n",
        "\n",
        "    # need to search for numbers within\n",
        "    if containsNumber(input) == True:\n",
        "      issueMessage = messageErrorContainsUnwantedNumbers\n",
        "      dfFlaws = dfFlaws.append({'Ref': ref,'ColumnName': columnName, 'ColumnValue': input, 'ColumnIssue': issueMessage, 'Fixed': False, 'FixedResult': 'N/A'}, ignore_index=True)\n",
        "\n",
        "  return dfFlaws"
      ],
      "metadata": {
        "id": "OpT9wm7BfC0S"
      },
      "execution_count": 21,
      "outputs": []
    },
    {
      "cell_type": "markdown",
      "source": [
        "# Check Second Name"
      ],
      "metadata": {
        "id": "uIzNIorrCei0"
      }
    },
    {
      "cell_type": "code",
      "source": [
        "def checkColumnSecondName(input, columnName, ref):\n",
        "  dfFlaws = pd.DataFrame(columns=['Ref', 'ColumnName', 'ColumnValue', 'ColumnIssue','Fixed',\"FixedResult\"])\n",
        "\n",
        "  if pd.isna(input):\n",
        "    issueMessage = messageErrorNA\n",
        "    dfFlaws = dfFlaws.append({'Ref': ref,'ColumnName': columnName, 'ColumnValue': input, 'ColumnIssue': issueMessage, 'Fixed': False, 'FixedResult': 'N/A'}, ignore_index=True)\n",
        "\n",
        "  else:\n",
        "    if boolCheckLengthOverLimitInt(input, 40) == True:\n",
        "      issueMessage = messageErrorOverLength\n",
        "      dfFlaws = dfFlaws.append({'Ref': ref,'ColumnName': columnName, 'ColumnValue': input, 'ColumnIssue': issueMessage, 'Fixed': False, 'FixedResult': 'N/A'}, ignore_index=True)\n",
        "\n",
        "    if(checkFirstLetterCapitalised(input) == False):\n",
        "      issueMessage = messageErrorCaseIncorrect\n",
        "      dfFlaws = dfFlaws.append({'Ref': ref,'ColumnName': columnName, 'ColumnValue': input, 'ColumnIssue': issueMessage, 'Fixed': False, 'FixedResult': 'N/A'}, ignore_index=True)\n",
        "\n",
        "\n",
        "    # need to search for numbers within\n",
        "    if containsNumber(input) == True:\n",
        "      issueMessage = messageErrorContainsUnwantedNumbers\n",
        "      dfFlaws = dfFlaws.append({'Ref': ref,'ColumnName': columnName, 'ColumnValue': input, 'ColumnIssue': issueMessage, 'Fixed': False, 'FixedResult': 'N/A'}, ignore_index=True)\n",
        "\n",
        "    if checkIfSpacesBetweenWords(input) == True:\n",
        "      issueMessage = messageErrorUnwantedSpace\n",
        "      dfFlaws = dfFlaws.append({'Ref': ref,'ColumnName': columnName, 'ColumnValue': input, 'ColumnIssue': issueMessage, 'Fixed': False, 'FixedResult': 'N/A'}, ignore_index=True)\n",
        "  \n",
        "  return dfFlaws"
      ],
      "metadata": {
        "id": "-gkcyz7cfvXp"
      },
      "execution_count": 22,
      "outputs": []
    },
    {
      "cell_type": "markdown",
      "source": [
        "# Check Email "
      ],
      "metadata": {
        "id": "Xy6ieu5cl7V6"
      }
    },
    {
      "cell_type": "code",
      "source": [
        "def checkColumnEmail(input, columnName, ref):\n",
        "  dfFlaws = pd.DataFrame(columns=['Ref', 'ColumnName', 'ColumnValue', 'ColumnIssue','Fixed',\"FixedResult\"])\n",
        "\n",
        "  if boolCheckLengthOverLimitInt(input, 254) == True:\n",
        "    issueMessage = messageErrorOverLength\n",
        "    dfFlaws = dfFlaws.append({'Ref': ref,'ColumnName': columnName, 'ColumnValue': input, 'ColumnIssue': issueMessage, 'Fixed': False, 'FixedResult': 'N/A'}, ignore_index=True)\n",
        "\n",
        "  return dfFlaws"
      ],
      "metadata": {
        "id": "mmyjYiArgK6P"
      },
      "execution_count": 23,
      "outputs": []
    },
    {
      "cell_type": "markdown",
      "source": [
        "# Check Gender"
      ],
      "metadata": {
        "id": "mVI-QhFtmxtn"
      }
    },
    {
      "cell_type": "code",
      "source": [
        "def checkColumnGender(input, columnName, ref):\n",
        "  dfFlaws = pd.DataFrame(columns=['Ref', 'ColumnName', 'ColumnValue', 'ColumnIssue','Fixed',\"FixedResult\"])\n",
        "\n",
        "  if pd.notna(input):\n",
        "    if type(input) == str:\n",
        "      if boolCheckLengthOverLimitInt(input, 6) == True:\n",
        "        issueMessage = messageErrorOverLength\n",
        "        dfFlaws = dfFlaws.append({'Ref': ref,'ColumnName': columnName, 'ColumnValue': input, 'ColumnIssue': issueMessage, 'Fixed': False, 'FixedResult': 'N/A'}, ignore_index=True)\n",
        "\n",
        "      if checkMaleOrFemale(input) == False:\n",
        "        issueMessage = messageErrorNotMaleOrFemale\n",
        "        dfFlaws = dfFlaws.append({'Ref': ref,'ColumnName': columnName, 'ColumnValue': input, 'ColumnIssue': issueMessage, 'Fixed': False, 'FixedResult': 'N/A'}, ignore_index=True)\n",
        "    \n",
        "      if checkIfSpacesBetweenWords(input) == True:\n",
        "        issueMessage = messageErrorUnwantedSpace\n",
        "        dfFlaws = dfFlaws.append({'Ref': ref,'ColumnName': columnName, 'ColumnValue': input, 'ColumnIssue': issueMessage, 'Fixed': False, 'FixedResult': 'N/A'}, ignore_index=True)\n",
        "  \n",
        "    else:\n",
        "      issueMessage = messageErrorNotString\n",
        "      dfFlaws = dfFlaws.append({'Ref': ref,'ColumnName': columnName, 'ColumnValue': input, 'ColumnIssue': issueMessage, 'Fixed': False, 'FixedResult': 'N/A'}, ignore_index=True)\n",
        "  else:\n",
        "      issueMessage = messageErrorNA\n",
        "      dfFlaws = dfFlaws.append({'Ref': ref,'ColumnName': columnName, 'ColumnValue': input, 'ColumnIssue': issueMessage, 'Fixed': False, 'FixedResult': 'N/A'}, ignore_index=True)\n",
        "  \n",
        "  return dfFlaws"
      ],
      "metadata": {
        "id": "uSys4ozRgcSd"
      },
      "execution_count": 24,
      "outputs": []
    },
    {
      "cell_type": "markdown",
      "source": [
        "# Check IP Address"
      ],
      "metadata": {
        "id": "6wRa2qDPNvQy"
      }
    },
    {
      "cell_type": "code",
      "source": [
        "def checkColumnIPAddress(input, columnName, ref):\n",
        "  dfFlaws = pd.DataFrame(columns=['Ref', 'ColumnName', 'ColumnValue', 'ColumnIssue','Fixed',\"FixedResult\"])\n",
        "\n",
        "  if pd.notna(input):\n",
        "    if type(input) == str:\n",
        "\n",
        "      if boolCheckLengthOverLimitInt(input, 15) == True:\n",
        "        issueMessage = messageErrorOverLength\n",
        "        dfFlaws = dfFlaws.append({'Ref': ref,'ColumnName': columnName, 'ColumnValue': input, 'ColumnIssue': issueMessage, 'Fixed': False, 'FixedResult': 'N/A'}, ignore_index=True)\n",
        "      \n",
        "      if checkIfIPV4Valid(input) == False:\n",
        "        issueMessage = messageErrorNotValidIPAddress \n",
        "        dfFlaws = dfFlaws.append({'Ref': ref,'ColumnName': columnName, 'ColumnValue': input, 'ColumnIssue': issueMessage, 'Fixed': False, 'FixedResult': 'N/A'}, ignore_index=True)\n",
        "\n",
        "    else:\n",
        "      issueMessage = messageErrorNotString\n",
        "      dfFlaws = dfFlaws.append({'Ref': ref,'ColumnName': columnName, 'ColumnValue': input, 'ColumnIssue': issueMessage, 'Fixed': False, 'FixedResult': 'N/A'}, ignore_index=True)\n",
        "\n",
        "  else:\n",
        "    issueMessage = messageErrorNA\n",
        "    dfFlaws = dfFlaws.append({'Ref': ref,'ColumnName': columnName, 'ColumnValue': input, 'ColumnIssue': issueMessage, 'Fixed': False, 'FixedResult': 'N/A'}, ignore_index=True)\n",
        "  \n",
        "  return dfFlaws"
      ],
      "metadata": {
        "id": "orU2uDQlg0df"
      },
      "execution_count": 25,
      "outputs": []
    },
    {
      "cell_type": "markdown",
      "source": [
        "# Check Date of Birth"
      ],
      "metadata": {
        "id": "tDwinK76Pi-f"
      }
    },
    {
      "cell_type": "code",
      "source": [
        "def checkColumnDateOfBirth(input, columnName, ref):\n",
        "  dfFlaws = pd.DataFrame(columns=['Ref', 'ColumnName', 'ColumnValue', 'ColumnIssue','Fixed',\"FixedResult\"])\n",
        "\n",
        "  if pd.notna(input):\n",
        "    if type(input) == str:\n",
        "\n",
        "      if boolCheckLengthOverLimitInt(input, 10) == True:\n",
        "        issueMessage = messageErrorOverLength\n",
        "        dfFlaws = dfFlaws.append({'Ref': ref,'ColumnName': columnName, 'ColumnValue': input, 'ColumnIssue': issueMessage, 'Fixed': False, 'FixedResult': 'N/A'}, ignore_index=True)\n",
        "      \n",
        "      if checkFormatDate(input) == False:\n",
        "        issueMessage = messageDateOfBirthIncorrectFormat\n",
        "        dfFlaws = dfFlaws.append({'Ref': ref,'ColumnName': columnName, 'ColumnValue': input, 'ColumnIssue': issueMessage, 'Fixed': False, 'FixedResult': 'N/A'}, ignore_index=True)\n",
        "      \n",
        "      else:\n",
        "        if check18OrOverBy1stDec2020(input) == False:\n",
        "           issueMessage = messageErrorNot18OrOverBy1stDec2020\n",
        "           dfFlaws = dfFlaws.append({'Ref': ref,'ColumnName': columnName, 'ColumnValue': input, 'ColumnIssue': issueMessage, 'Fixed': False, 'FixedResult': 'N/A'}, ignore_index=True)\n",
        "    else:\n",
        "        issueMessage = messageErrorNotString\n",
        "        dfFlaws = dfFlaws.append({'Ref': ref,'ColumnName': columnName, 'ColumnValue': input, 'ColumnIssue': issueMessage, 'Fixed': False, 'FixedResult': 'N/A'}, ignore_index=True)\n",
        "\n",
        "  else:\n",
        "    issueMessage = messageErrorNA\n",
        "    dfFlaws = dfFlaws.append({'Ref': ref,'ColumnName': columnName, 'ColumnValue': input, 'ColumnIssue': issueMessage, 'Fixed': False, 'FixedResult': 'N/A'}, ignore_index=True)\n",
        "  \n",
        "  return dfFlaws"
      ],
      "metadata": {
        "id": "0k_L0L58hIwA"
      },
      "execution_count": 26,
      "outputs": []
    },
    {
      "cell_type": "markdown",
      "source": [
        "# Find List of Errors"
      ],
      "metadata": {
        "id": "qUKCpG6NeI9N"
      }
    },
    {
      "cell_type": "code",
      "source": [
        "def findErrorsData(dataframe):\n",
        "\n",
        "  # check all values unique\n",
        "  print(\"Are ref unique: \" + str(dataframe['Ref'].is_unique))\n",
        "\n",
        "  # check each row\n",
        "  dfErrorsFound = pd.DataFrame(columns=['Ref', 'ColumnName', 'ColumnValue', 'ColumnIssue','Fixed',\"FixedResult\"])\n",
        "\n",
        "  for index, row in dataframe.iterrows():\n",
        "    dfErrorsFoundRefColumn = checkRefColumn(row[\"Ref\"], \"Ref\", row[\"Ref\"])\n",
        "    if dfErrorsFoundRefColumn.empty == False:\n",
        "      dfErrorsFound = dfErrorsFound.append(dfErrorsFoundRefColumn, ignore_index=True)\n",
        "\n",
        "    dfErrorsFoundFirstNameColumn = checkColumnFirstName(row[\"First_Name\"], \"First_Name\", row[\"Ref\"])\n",
        "    if dfErrorsFoundFirstNameColumn.empty == False:\n",
        "      dfErrorsFound = dfErrorsFound.append(dfErrorsFoundFirstNameColumn, ignore_index=True)\n",
        "\n",
        "    dfErrorsFoundLastNameColumn = checkColumnSecondName(row[\"Last_Name\"], \"Last_Name\", row[\"Ref\"])\n",
        "    if dfErrorsFoundLastNameColumn.empty == False:\n",
        "      dfErrorsFound = dfErrorsFound.append(dfErrorsFoundLastNameColumn, ignore_index=True)\n",
        "\n",
        "    dfErrorsFoundEmailColumn = checkColumnEmail(row[\"Email\"], \"Email\", row[\"Ref\"])\n",
        "    if dfErrorsFoundEmailColumn.empty == False:\n",
        "      dfErrorsFound = dfErrorsFound.append(dfErrorsFoundEmailColumn, ignore_index=True)\n",
        "\n",
        "    dfErrorsFoundGenderColumn = checkColumnGender(row[\"Gender\"], \"Gender\", row[\"Ref\"])\n",
        "    if dfErrorsFoundGenderColumn.empty == False:\n",
        "      dfErrorsFound = dfErrorsFound.append(dfErrorsFoundGenderColumn, ignore_index=True)\n",
        "\n",
        "    dfErrorsFoundIPAddressColumn = checkColumnIPAddress(row[\"IP_Address\"], \"IP_Address\", row[\"Ref\"])\n",
        "    if dfErrorsFoundIPAddressColumn.empty == False:\n",
        "      dfErrorsFound = dfErrorsFound.append(dfErrorsFoundIPAddressColumn, ignore_index=True)\n",
        "\n",
        "    dfErrorsFoundDateOfBirthColumn = checkColumnDateOfBirth(row[\"Date_of_Birth\"], \"Date_of_Birth\", row[\"Ref\"])\n",
        "    if dfErrorsFoundDateOfBirthColumn.empty == False:\n",
        "      dfErrorsFound = dfErrorsFound.append(dfErrorsFoundDateOfBirthColumn, ignore_index=True)\n",
        "\n",
        "  return dfErrorsFound"
      ],
      "metadata": {
        "id": "GUz4KZ6feLH-"
      },
      "execution_count": 27,
      "outputs": []
    },
    {
      "cell_type": "code",
      "source": [
        "dfErrors = findErrorsData(df)"
      ],
      "metadata": {
        "colab": {
          "base_uri": "https://localhost:8080/"
        },
        "id": "oNepHDi3D5ar",
        "outputId": "4009cc39-d33e-4222-bb86-57fdbd9995e6"
      },
      "execution_count": 28,
      "outputs": [
        {
          "output_type": "stream",
          "name": "stdout",
          "text": [
            "Are ref unique: True\n"
          ]
        }
      ]
    },
    {
      "cell_type": "code",
      "source": [
        "print(dfErrors.head())"
      ],
      "metadata": {
        "colab": {
          "base_uri": "https://localhost:8080/"
        },
        "id": "JWGIHhQbv5Pz",
        "outputId": "ae145494-1bc2-4915-b4d3-60579d68496c"
      },
      "execution_count": 29,
      "outputs": [
        {
          "output_type": "stream",
          "name": "stdout",
          "text": [
            "  Ref  ColumnName                              ColumnValue  \\\n",
            "0   6  First_Name                               christabel   \n",
            "1   6   Last_Name                                    start   \n",
            "2   9  IP_Address  1df6:b3b9:cdb7:d246:3fe9:7288:46ee:e528   \n",
            "3   9  IP_Address  1df6:b3b9:cdb7:d246:3fe9:7288:46ee:e528   \n",
            "4  27   Last_Name                                      NaN   \n",
            "\n",
            "                ColumnIssue  Fixed FixedResult  \n",
            "0         Case is incorrect  False         N/A  \n",
            "1         Case is incorrect  False         N/A  \n",
            "2  Length is over the limit  False         N/A  \n",
            "3          Not a valid IPv4  False         N/A  \n",
            "4              Value is NaN  False         N/A  \n"
          ]
        }
      ]
    },
    {
      "cell_type": "code",
      "source": [
        "createHTMLOfDf(dfErrors, \"DfErrors.html\")"
      ],
      "metadata": {
        "id": "3giiEpVnIiSN"
      },
      "execution_count": 30,
      "outputs": []
    },
    {
      "cell_type": "markdown",
      "source": [
        "# Data Error Exploration"
      ],
      "metadata": {
        "id": "CmrduCGvM2tZ"
      }
    },
    {
      "cell_type": "code",
      "source": [
        "def inspectRowsEffectedByError(dfOriginal, dfErrors, errorMessage):\n",
        "  noRowsOriginalDf = len(dfOriginal.index)\n",
        "  errorDfSpecificErrorMsg = dfErrors[dfErrors['ColumnIssue'] == errorMessage]\n",
        "  print(\"where: \" + errorMessage)\n",
        "  noRowsErrorDfSpecificErrorMsg = len(errorDfSpecificErrorMsg.index)\n",
        "  percentage = (noRowsErrorDfSpecificErrorMsg/noRowsOriginalDf)*100\n",
        "  percentage = str(round(percentage, 2))\n",
        "  print(\"% where : \" + errorMessage + \"  \" + percentage + \"%\") \n",
        "  print()\n",
        "  return errorDfSpecificErrorMsg"
      ],
      "metadata": {
        "id": "AVd7jTj7POGW"
      },
      "execution_count": 31,
      "outputs": []
    },
    {
      "cell_type": "markdown",
      "source": [
        "Gender"
      ],
      "metadata": {
        "id": "ijnky0Zp4G8k"
      }
    },
    {
      "cell_type": "code",
      "source": [
        "errorDfSpecificErrorMsg = dfErrors[dfErrors['ColumnIssue'] == messageErrorNotMaleOrFemale]\n",
        "print(errorDfSpecificErrorMsg)\n",
        "\n",
        "genderIsOne = df[df['Gender'] == '1']\n",
        "print(genderIsOne)\n",
        "\n",
        "genderIsTwo = df[df['Gender'] == '2']\n",
        "print(genderIsTwo)\n",
        "\n",
        "genderIsM = df[df['Gender'] == 'm ']\n",
        "print(genderIsM)\n",
        "\n",
        "genderIsF = df[df['Gender'] == 'f ']\n",
        "print(genderIsF)\n",
        "\n",
        "genderIsFem = df[df['Gender'] == 'fem ']\n",
        "print(genderIsFem)"
      ],
      "metadata": {
        "colab": {
          "base_uri": "https://localhost:8080/"
        },
        "id": "IB6gPfvdM5wP",
        "outputId": "a09a00d5-4ff4-4313-d762-7710593036b0"
      },
      "execution_count": 32,
      "outputs": [
        {
          "output_type": "stream",
          "name": "stdout",
          "text": [
            "    Ref ColumnName ColumnValue         ColumnIssue  Fixed FixedResult\n",
            "14  124     Gender           1  Not Male or Female  False         N/A\n",
            "18  158     Gender          m   Not Male or Female  False         N/A\n",
            "35  347     Gender           1  Not Male or Female  False         N/A\n",
            "37  354     Gender           1  Not Male or Female  False         N/A\n",
            "39  402     Gender        fem   Not Male or Female  False         N/A\n",
            "52  521     Gender           2  Not Male or Female  False         N/A\n",
            "58  586     Gender          f   Not Male or Female  False         N/A\n",
            "     Ref First_Name Last_Name                       Email Gender  \\\n",
            "123  124  Benedicta    Nurden    bnurden3f@friendfeed.com      1   \n",
            "346  347     Eadith      Call   ecall9m@deliciousdays.com      1   \n",
            "353  354       Maxy  Skilbeck  mskilbeck9t@friendfeed.com      1   \n",
            "\n",
            "        IP_Address Date_of_Birth  \n",
            "123  97.133.217.98    16/07/1940  \n",
            "346    3.46.15.157    22/06/2003  \n",
            "353  241.81.36.194    03/04/1960  \n",
            "     Ref First_Name Last_Name                            Email Gender  \\\n",
            "520  521     Delano  Kirstein  dkirsteineg@merriam-webster.com      2   \n",
            "\n",
            "        IP_Address Date_of_Birth  \n",
            "520  20.244.21.127    04/05/1990  \n",
            "     Ref First_Name Last_Name                     Email Gender  \\\n",
            "157  158     Willis     Izhak  wizhak4d@yellowpages.com     m    \n",
            "\n",
            "          IP_Address Date_of_Birth  \n",
            "157  113.148.149.188    27/10/1937  \n",
            "     Ref First_Name Last_Name                       Email Gender  \\\n",
            "585  586   Birgitta  Trangmar  btrangmarg9@craigslist.org     f    \n",
            "\n",
            "       IP_Address Date_of_Birth  \n",
            "585  89.110.3.214    23/05/1972  \n",
            "     Ref First_Name Last_Name                   Email Gender       IP_Address  \\\n",
            "401  402    Juanita     Trace  jtraceb5@mediafire.com   fem   125.174.177.143   \n",
            "\n",
            "    Date_of_Birth  \n",
            "401    10/10/1991  \n"
          ]
        }
      ]
    },
    {
      "cell_type": "markdown",
      "source": [
        "Containing Numbers"
      ],
      "metadata": {
        "id": "bq66VDth4KLA"
      }
    },
    {
      "cell_type": "code",
      "source": [
        "errorDfSpecificErrorMsg = dfErrors[dfErrors['ColumnIssue'] == messageErrorContainsUnwantedNumbers]\n",
        "print(errorDfSpecificErrorMsg)\n",
        "\n",
        "genderIs1ain = df[df['First_Name'] == '1ain']\n",
        "print(genderIs1ain)"
      ],
      "metadata": {
        "colab": {
          "base_uri": "https://localhost:8080/"
        },
        "id": "-EIfyBa9WpUQ",
        "outputId": "668ee6a7-7719-4754-fe3d-6ef5c634a6b1"
      },
      "execution_count": 33,
      "outputs": [
        {
          "output_type": "stream",
          "name": "stdout",
          "text": [
            "    Ref  ColumnName ColumnValue                 ColumnIssue  Fixed FixedResult\n",
            "28  298   Last_Name     Gambe11  Unwanted numbers contained  False         N/A\n",
            "47  482  First_Name        1ain  Unwanted numbers contained  False         N/A\n",
            "55  554  First_Name        0wen  Unwanted numbers contained  False         N/A\n",
            "83  815   Last_Name  0'Dowgaine  Unwanted numbers contained  False         N/A\n",
            "     Ref First_Name Last_Name                    Email Gender     IP_Address  \\\n",
            "481  482       1ain    Freeth  ifreethdd@artisteer.com   Male  162.225.238.5   \n",
            "\n",
            "    Date_of_Birth  \n",
            "481    03/10/1935  \n"
          ]
        }
      ]
    },
    {
      "cell_type": "markdown",
      "source": [
        "Date"
      ],
      "metadata": {
        "id": "zJhN8AS24MLZ"
      }
    },
    {
      "cell_type": "code",
      "source": [
        "errorDfSpecificErrorMsg = dfErrors[dfErrors['ColumnIssue'] == messageDateOfBirthIncorrectFormat]\n",
        "print(errorDfSpecificErrorMsg)"
      ],
      "metadata": {
        "colab": {
          "base_uri": "https://localhost:8080/"
        },
        "id": "znzjvhSEZ38I",
        "outputId": "135e63a3-cd83-48de-b6ae-eabb2425bf01"
      },
      "execution_count": 34,
      "outputs": [
        {
          "output_type": "stream",
          "name": "stdout",
          "text": [
            "     Ref     ColumnName  ColumnValue                             ColumnIssue  \\\n",
            "5     36  Date_of_Birth   01/31/1995  Date of birth not in format dd/mm/yyyy   \n",
            "10   102  Date_of_Birth   27/27/1991  Date of birth not in format dd/mm/yyyy   \n",
            "90   878  Date_of_Birth  09-MAY-1956  Date of birth not in format dd/mm/yyyy   \n",
            "101  965  Date_of_Birth  06/05/1943*  Date of birth not in format dd/mm/yyyy   \n",
            "\n",
            "     Fixed FixedResult  \n",
            "5    False         N/A  \n",
            "10   False         N/A  \n",
            "90   False         N/A  \n",
            "101  False         N/A  \n"
          ]
        }
      ]
    },
    {
      "cell_type": "markdown",
      "source": [
        "# Clean Functions"
      ],
      "metadata": {
        "id": "8i-o2V0BgA1k"
      }
    },
    {
      "cell_type": "code",
      "source": [
        "def removeSpace(value):\n",
        "  valueWithoutSpace = value.replace(\" \", \"\")\n",
        "  return valueWithoutSpace"
      ],
      "metadata": {
        "id": "Nb7vtDwBgUFU"
      },
      "execution_count": 35,
      "outputs": []
    },
    {
      "cell_type": "code",
      "source": [
        "def fixSpace(df, ref, columnName):\n",
        "  row = df[df['Ref'] == ref]\n",
        "  rowValueColumnName = row[columnName].iat[0]\n",
        "  rowValueColumnNameWithoutSpace = removeSpace(rowValueColumnName)\n",
        "  df.loc[df['Ref'] == ref,[columnName]] = rowValueColumnNameWithoutSpace\n",
        "  return df"
      ],
      "metadata": {
        "id": "Mpskw4A7aqsG"
      },
      "execution_count": 36,
      "outputs": []
    },
    {
      "cell_type": "code",
      "source": [
        "def fixNumbersToLetters(df, ref, columnName):\n",
        "  row = df[df['Ref'] == ref]\n",
        "  rowValueColumnName = row[columnName].iat[0]\n",
        "  rowValueColumnNameWithoutNumbers = convertNumbersToLetters(rowValueColumnName)\n",
        "  df.loc[df['Ref'] == ref,[columnName]] = rowValueColumnNameWithoutNumbers\n",
        "  return df"
      ],
      "metadata": {
        "id": "2f0Ng9ZjqXgx"
      },
      "execution_count": 37,
      "outputs": []
    },
    {
      "cell_type": "code",
      "source": [
        "def convertNumbersToLetters(value):\n",
        "  stringWithout0 = value.replace(\"0\", \"o\" )\n",
        "  stringWithout0And1 = stringWithout0.replace(\"1\", \"l\" )\n",
        "  return stringWithout0And1"
      ],
      "metadata": {
        "id": "e8F4w7yjnqCN"
      },
      "execution_count": 38,
      "outputs": []
    },
    {
      "cell_type": "code",
      "source": [
        "def capitalismFirstLetter(df, ref, columnName):\n",
        "  row = df[df['Ref'] == ref]\n",
        "  rowValueColumnName = row[columnName].iat[0]\n",
        "  rowValueColumnNameCapitalised = convertNumbersToLetters(rowValueColumnName)\n",
        "  df.loc[df['Ref'] == ref,[columnName]] = rowValueColumnNameCapitalised.capitalize()\n",
        "  return df"
      ],
      "metadata": {
        "id": "RrhvxSyVwpEP"
      },
      "execution_count": 39,
      "outputs": []
    },
    {
      "cell_type": "code",
      "source": [
        "def replaceGenderTerms(value):\n",
        "  value = str(value)\n",
        "  if value == 'l':\n",
        "    value = 'Female'\n",
        "  elif value == '1':\n",
        "    value = 'Female'\n",
        "  elif value == '2':\n",
        "    value = 'Male'\n",
        "  elif value == 'm':\n",
        "    value = 'Male'\n",
        "  elif value == 'f':\n",
        "    value = 'Female'\n",
        "  elif value == 'fem':\n",
        "    value = 'Female'\n",
        "  return value"
      ],
      "metadata": {
        "id": "VoNlXKqqyASi"
      },
      "execution_count": 57,
      "outputs": []
    },
    {
      "cell_type": "code",
      "source": [
        "def fixGenderTerms(df, ref, columnName):\n",
        "  row = df[df['Ref'] == ref]\n",
        "  rowValueColumnName = row[columnName].iat[0]\n",
        "  df.loc[df['Ref'] == ref,[columnName]] = replaceGenderTerms(rowValueColumnName)\n",
        "  return df"
      ],
      "metadata": {
        "id": "lqLqNXuByjKs"
      },
      "execution_count": 41,
      "outputs": []
    },
    {
      "cell_type": "code",
      "source": [
        "def dateInFormMMDDYYYY(input):\n",
        "  format = '%m/%d/%Y'\n",
        "  try:\n",
        "    datetime.strptime(input, format)\n",
        "    return True\n",
        "  except ValueError:\n",
        "    return False "
      ],
      "metadata": {
        "id": "CGPl_jwSKXsy"
      },
      "execution_count": 42,
      "outputs": []
    },
    {
      "cell_type": "code",
      "source": [
        "def dateContainMonthName(input):\n",
        "  format = '%d-%B-%Y'\n",
        "  try:\n",
        "    datetime.strptime(input, format)\n",
        "    return True\n",
        "  except ValueError:\n",
        "    return False "
      ],
      "metadata": {
        "id": "xzlsS0kMOlMn"
      },
      "execution_count": 43,
      "outputs": []
    },
    {
      "cell_type": "code",
      "source": [
        "def convertDateMonthName(input):\n",
        "  input = datetime.strptime(input, \"%d-%B-%Y\").strftime(\"%d/%m/%Y\")\n",
        "  return input"
      ],
      "metadata": {
        "id": "1GmLc2LPOjkK"
      },
      "execution_count": 44,
      "outputs": []
    },
    {
      "cell_type": "code",
      "source": [
        "def dateConvertMMDDYYYYToDDMMYYYY(input):\n",
        "  input = datetime.strptime(input, \"%m/%d/%Y\").strftime(\"%d/%m/%Y\")\n",
        "  return input"
      ],
      "metadata": {
        "id": "lL4XX0ZRKRbI"
      },
      "execution_count": 45,
      "outputs": []
    },
    {
      "cell_type": "code",
      "source": [
        "def checkIfContainsSpecialCharactersOtherThanSlash(input):\n",
        "  special_characters = ['@','#','%', '*']\n",
        "  return any(c in special_characters for c in input)"
      ],
      "metadata": {
        "id": "QEaSE8Y9PuOM"
      },
      "execution_count": 46,
      "outputs": []
    },
    {
      "cell_type": "code",
      "source": [
        "def removeSpecialCharactersOtherThanSlash(input):\n",
        "  special_characters = ['@','#','%', '*']\n",
        "  out_list = []\n",
        "  for x in input:\n",
        "    for y in special_characters:\n",
        "        if y in x:\n",
        "            input = input.replace(x,'')\n",
        "  return input"
      ],
      "metadata": {
        "id": "fK_IVxAZQcOF"
      },
      "execution_count": 47,
      "outputs": []
    },
    {
      "cell_type": "code",
      "source": [
        "def fixDate(df, ref, columnName):\n",
        "  row = df[df['Ref'] == ref]\n",
        "  rowValueColumnName = row[columnName].iat[0]\n",
        "  if dateInFormMMDDYYYY(rowValueColumnName):\n",
        "    df.loc[df['Ref'] == ref,[columnName]] = dateConvertMMDDYYYYToDDMMYYYY(rowValueColumnName)\n",
        "  elif dateContainMonthName(rowValueColumnName):\n",
        "    df.loc[df['Ref'] == ref,[columnName]] = convertDateMonthName(rowValueColumnName)\n",
        "  elif checkIfContainsSpecialCharactersOtherThanSlash(rowValueColumnName):\n",
        "    df.loc[df['Ref'] == ref,[columnName]] = removeSpecialCharactersOtherThanSlash(rowValueColumnName)\n",
        "  return df"
      ],
      "metadata": {
        "id": "jho0vVK_J2oK"
      },
      "execution_count": 48,
      "outputs": []
    },
    {
      "cell_type": "markdown",
      "source": [
        "# To fix"
      ],
      "metadata": {
        "id": "PQYAQx-NWlhG"
      }
    },
    {
      "cell_type": "code",
      "source": [
        "def fixValues(df):\n",
        "  dfClean = df.copy()\n",
        "\n",
        "  # remove unwanted spaces\n",
        "  errorDfSpaces = dfErrors[dfErrors['ColumnIssue'] == messageErrorUnwantedSpace]\n",
        "  for index, row in errorDfSpaces.iterrows():\n",
        "    dfClean = fixSpace(dfClean, row[\"Ref\"], row[\"ColumnName\"])\n",
        "\n",
        "  # remove unwanted numbers\n",
        "  errorDfUnwantedNumbers = dfErrors[dfErrors['ColumnIssue'] == messageErrorContainsUnwantedNumbers]\n",
        "  for index, row in errorDfUnwantedNumbers.iterrows():\n",
        "    dfClean = fixNumbersToLetters(dfClean, row[\"Ref\"], row[\"ColumnName\"])\n",
        "  \n",
        "  # fix case (first capital)\n",
        "  errorDfCaseIncorrect = dfErrors[dfErrors['ColumnIssue'] == messageErrorCaseIncorrect]\n",
        "  for index, row in errorDfCaseIncorrect.iterrows():\n",
        "    dfClean = capitalismFirstLetter(dfClean, row[\"Ref\"], row[\"ColumnName\"])\n",
        "  \n",
        "  # fix gender\n",
        "  errorDfUnwantedGenders = dfErrors[dfErrors['ColumnIssue'] == messageErrorNotMaleOrFemale]\n",
        "  for index, row in errorDfUnwantedGenders.iterrows():\n",
        "    dfClean = fixGenderTerms(dfClean, row[\"Ref\"], row[\"ColumnName\"])\n",
        "  \n",
        "  # fix date of birth format\n",
        "  errorDfDateOfBirthFormat = dfErrors[dfErrors['ColumnIssue'] == messageDateOfBirthIncorrectFormat]\n",
        "  for index, row in errorDfDateOfBirthFormat.iterrows():\n",
        "    dfClean = fixDate(dfClean, row[\"Ref\"], row[\"ColumnName\"])\n",
        "  \n",
        "  dfErrorsCleaned = findErrorsData(dfClean)\n",
        "  createHTMLOfDf(dfErrorsCleaned, \"DfErrorsFixErrorsCleaned.html\")"
      ],
      "metadata": {
        "id": "uhx5FTFhaYp0"
      },
      "execution_count": 67,
      "outputs": []
    },
    {
      "cell_type": "code",
      "source": [
        "cleanDf = fixValues(df)"
      ],
      "metadata": {
        "colab": {
          "base_uri": "https://localhost:8080/"
        },
        "id": "G0qgM-xCbOxt",
        "outputId": "a2a3581d-f6a3-4c4a-d33d-fa539765624a"
      },
      "execution_count": 68,
      "outputs": [
        {
          "output_type": "stream",
          "name": "stdout",
          "text": [
            "Are ref unique: True\n"
          ]
        }
      ]
    },
    {
      "cell_type": "markdown",
      "source": [
        "# To Delete"
      ],
      "metadata": {
        "id": "qTOtKY7VWioN"
      }
    },
    {
      "cell_type": "markdown",
      "source": [
        "To be deleted"
      ],
      "metadata": {
        "id": "nM1Jhyu1R8WS"
      }
    },
    {
      "cell_type": "code",
      "source": [
        "inspectRowsEffectedByError(df, dfErrors, messageErrorNA)\n",
        "\n",
        "inspectRowsEffectedByError(df, dfErrors, messageErrorOverLength)\n",
        "\n",
        "inspectRowsEffectedByError(df, dfErrors, messageErrorNotValidIPAddress)\n",
        "\n",
        "inspectRowsEffectedByError(df, dfErrors, messageErrorNot18OrOverBy1stDec2020)\n",
        "\n",
        "inspectRowsEffectedByError(df, dfErrors, messageErrorNotString)"
      ],
      "metadata": {
        "colab": {
          "base_uri": "https://localhost:8080/",
          "height": 1000
        },
        "id": "5q3CbK_yR7sM",
        "outputId": "78022ff7-3aca-48ab-f9f5-40a7ba4a0076"
      },
      "execution_count": null,
      "outputs": [
        {
          "output_type": "stream",
          "name": "stdout",
          "text": [
            "where: Value is NaN\n",
            "% where : Value is NaN  0.7%\n",
            "\n",
            "where: Length is over the limit\n",
            "% where : Length is over the limit  0.6%\n",
            "\n",
            "where: Not a valid IPv4\n",
            "% where : Not a valid IPv4  0.6%\n",
            "\n",
            "where: Not 18 or over by 1st Dec 2020\n",
            "% where : Not 18 or over by 1st Dec 2020  4.5%\n",
            "\n"
          ]
        },
        {
          "output_type": "execute_result",
          "data": {
            "text/plain": [
              "     Ref     ColumnName ColumnValue                     ColumnIssue  Fixed  \\\n",
              "6     64  Date_of_Birth  28/06/2003  Not 18 or over by 1st Dec 2020  False   \n",
              "7     77  Date_of_Birth  18/10/2004  Not 18 or over by 1st Dec 2020  False   \n",
              "15   119  Date_of_Birth  21/12/2003  Not 18 or over by 1st Dec 2020  False   \n",
              "16   120  Date_of_Birth  23/06/2004  Not 18 or over by 1st Dec 2020  False   \n",
              "20   133  Date_of_Birth  25/03/2003  Not 18 or over by 1st Dec 2020  False   \n",
              "21   145  Date_of_Birth  21/03/2005  Not 18 or over by 1st Dec 2020  False   \n",
              "31   249  Date_of_Birth  08/07/2005  Not 18 or over by 1st Dec 2020  False   \n",
              "35   308  Date_of_Birth  26/07/2004  Not 18 or over by 1st Dec 2020  False   \n",
              "37   328  Date_of_Birth  15/09/2004  Not 18 or over by 1st Dec 2020  False   \n",
              "38   329  Date_of_Birth  30/09/2005  Not 18 or over by 1st Dec 2020  False   \n",
              "39   331  Date_of_Birth  01/08/2005  Not 18 or over by 1st Dec 2020  False   \n",
              "40   335  Date_of_Birth  20/09/2005  Not 18 or over by 1st Dec 2020  False   \n",
              "43   347  Date_of_Birth  22/06/2003  Not 18 or over by 1st Dec 2020  False   \n",
              "46   396  Date_of_Birth  24/09/2005  Not 18 or over by 1st Dec 2020  False   \n",
              "48   415  Date_of_Birth  05/02/2004  Not 18 or over by 1st Dec 2020  False   \n",
              "53   479  Date_of_Birth  26/12/2003  Not 18 or over by 1st Dec 2020  False   \n",
              "57   495  Date_of_Birth  07/07/2003  Not 18 or over by 1st Dec 2020  False   \n",
              "58   499  Date_of_Birth  01/11/2005  Not 18 or over by 1st Dec 2020  False   \n",
              "60   516  Date_of_Birth  18/07/2003  Not 18 or over by 1st Dec 2020  False   \n",
              "62   525  Date_of_Birth  05/04/2004  Not 18 or over by 1st Dec 2020  False   \n",
              "65   562  Date_of_Birth  13/04/2003  Not 18 or over by 1st Dec 2020  False   \n",
              "66   583  Date_of_Birth  17/11/2005  Not 18 or over by 1st Dec 2020  False   \n",
              "68   596  Date_of_Birth  04/04/2005  Not 18 or over by 1st Dec 2020  False   \n",
              "69   611  Date_of_Birth  17/10/2004  Not 18 or over by 1st Dec 2020  False   \n",
              "71   613  Date_of_Birth  06/07/2004  Not 18 or over by 1st Dec 2020  False   \n",
              "77   647  Date_of_Birth  08/08/2005  Not 18 or over by 1st Dec 2020  False   \n",
              "78   655  Date_of_Birth  30/09/2004  Not 18 or over by 1st Dec 2020  False   \n",
              "79   659  Date_of_Birth  31/03/2004  Not 18 or over by 1st Dec 2020  False   \n",
              "80   662  Date_of_Birth  20/04/2004  Not 18 or over by 1st Dec 2020  False   \n",
              "81   686  Date_of_Birth  01/07/2043  Not 18 or over by 1st Dec 2020  False   \n",
              "83   696  Date_of_Birth  22/07/2005  Not 18 or over by 1st Dec 2020  False   \n",
              "84   698  Date_of_Birth  14/07/2020  Not 18 or over by 1st Dec 2020  False   \n",
              "87   714  Date_of_Birth  10/11/2003  Not 18 or over by 1st Dec 2020  False   \n",
              "88   722  Date_of_Birth  31/08/2003  Not 18 or over by 1st Dec 2020  False   \n",
              "90   751  Date_of_Birth  20/04/2005  Not 18 or over by 1st Dec 2020  False   \n",
              "94   765  Date_of_Birth  26/02/2005  Not 18 or over by 1st Dec 2020  False   \n",
              "97   771  Date_of_Birth  30/11/2003  Not 18 or over by 1st Dec 2020  False   \n",
              "102  819  Date_of_Birth  15/09/2003  Not 18 or over by 1st Dec 2020  False   \n",
              "103  833  Date_of_Birth  17/07/2004  Not 18 or over by 1st Dec 2020  False   \n",
              "107  861  Date_of_Birth  29/08/2005  Not 18 or over by 1st Dec 2020  False   \n",
              "108  868  Date_of_Birth  14/10/2004  Not 18 or over by 1st Dec 2020  False   \n",
              "116  895  Date_of_Birth  16/05/2004  Not 18 or over by 1st Dec 2020  False   \n",
              "121  934  Date_of_Birth  16/04/2004  Not 18 or over by 1st Dec 2020  False   \n",
              "128  979  Date_of_Birth  20/01/2005  Not 18 or over by 1st Dec 2020  False   \n",
              "129  991  Date_of_Birth  30/06/2005  Not 18 or over by 1st Dec 2020  False   \n",
              "\n",
              "    FixedResult  \n",
              "6           N/A  \n",
              "7           N/A  \n",
              "15          N/A  \n",
              "16          N/A  \n",
              "20          N/A  \n",
              "21          N/A  \n",
              "31          N/A  \n",
              "35          N/A  \n",
              "37          N/A  \n",
              "38          N/A  \n",
              "39          N/A  \n",
              "40          N/A  \n",
              "43          N/A  \n",
              "46          N/A  \n",
              "48          N/A  \n",
              "53          N/A  \n",
              "57          N/A  \n",
              "58          N/A  \n",
              "60          N/A  \n",
              "62          N/A  \n",
              "65          N/A  \n",
              "66          N/A  \n",
              "68          N/A  \n",
              "69          N/A  \n",
              "71          N/A  \n",
              "77          N/A  \n",
              "78          N/A  \n",
              "79          N/A  \n",
              "80          N/A  \n",
              "81          N/A  \n",
              "83          N/A  \n",
              "84          N/A  \n",
              "87          N/A  \n",
              "88          N/A  \n",
              "90          N/A  \n",
              "94          N/A  \n",
              "97          N/A  \n",
              "102         N/A  \n",
              "103         N/A  \n",
              "107         N/A  \n",
              "108         N/A  \n",
              "116         N/A  \n",
              "121         N/A  \n",
              "128         N/A  \n",
              "129         N/A  "
            ],
            "text/html": [
              "\n",
              "  <div id=\"df-2aedd82c-757c-4011-9f48-8c57d57d151a\">\n",
              "    <div class=\"colab-df-container\">\n",
              "      <div>\n",
              "<style scoped>\n",
              "    .dataframe tbody tr th:only-of-type {\n",
              "        vertical-align: middle;\n",
              "    }\n",
              "\n",
              "    .dataframe tbody tr th {\n",
              "        vertical-align: top;\n",
              "    }\n",
              "\n",
              "    .dataframe thead th {\n",
              "        text-align: right;\n",
              "    }\n",
              "</style>\n",
              "<table border=\"1\" class=\"dataframe\">\n",
              "  <thead>\n",
              "    <tr style=\"text-align: right;\">\n",
              "      <th></th>\n",
              "      <th>Ref</th>\n",
              "      <th>ColumnName</th>\n",
              "      <th>ColumnValue</th>\n",
              "      <th>ColumnIssue</th>\n",
              "      <th>Fixed</th>\n",
              "      <th>FixedResult</th>\n",
              "    </tr>\n",
              "  </thead>\n",
              "  <tbody>\n",
              "    <tr>\n",
              "      <th>6</th>\n",
              "      <td>64</td>\n",
              "      <td>Date_of_Birth</td>\n",
              "      <td>28/06/2003</td>\n",
              "      <td>Not 18 or over by 1st Dec 2020</td>\n",
              "      <td>False</td>\n",
              "      <td>N/A</td>\n",
              "    </tr>\n",
              "    <tr>\n",
              "      <th>7</th>\n",
              "      <td>77</td>\n",
              "      <td>Date_of_Birth</td>\n",
              "      <td>18/10/2004</td>\n",
              "      <td>Not 18 or over by 1st Dec 2020</td>\n",
              "      <td>False</td>\n",
              "      <td>N/A</td>\n",
              "    </tr>\n",
              "    <tr>\n",
              "      <th>15</th>\n",
              "      <td>119</td>\n",
              "      <td>Date_of_Birth</td>\n",
              "      <td>21/12/2003</td>\n",
              "      <td>Not 18 or over by 1st Dec 2020</td>\n",
              "      <td>False</td>\n",
              "      <td>N/A</td>\n",
              "    </tr>\n",
              "    <tr>\n",
              "      <th>16</th>\n",
              "      <td>120</td>\n",
              "      <td>Date_of_Birth</td>\n",
              "      <td>23/06/2004</td>\n",
              "      <td>Not 18 or over by 1st Dec 2020</td>\n",
              "      <td>False</td>\n",
              "      <td>N/A</td>\n",
              "    </tr>\n",
              "    <tr>\n",
              "      <th>20</th>\n",
              "      <td>133</td>\n",
              "      <td>Date_of_Birth</td>\n",
              "      <td>25/03/2003</td>\n",
              "      <td>Not 18 or over by 1st Dec 2020</td>\n",
              "      <td>False</td>\n",
              "      <td>N/A</td>\n",
              "    </tr>\n",
              "    <tr>\n",
              "      <th>21</th>\n",
              "      <td>145</td>\n",
              "      <td>Date_of_Birth</td>\n",
              "      <td>21/03/2005</td>\n",
              "      <td>Not 18 or over by 1st Dec 2020</td>\n",
              "      <td>False</td>\n",
              "      <td>N/A</td>\n",
              "    </tr>\n",
              "    <tr>\n",
              "      <th>31</th>\n",
              "      <td>249</td>\n",
              "      <td>Date_of_Birth</td>\n",
              "      <td>08/07/2005</td>\n",
              "      <td>Not 18 or over by 1st Dec 2020</td>\n",
              "      <td>False</td>\n",
              "      <td>N/A</td>\n",
              "    </tr>\n",
              "    <tr>\n",
              "      <th>35</th>\n",
              "      <td>308</td>\n",
              "      <td>Date_of_Birth</td>\n",
              "      <td>26/07/2004</td>\n",
              "      <td>Not 18 or over by 1st Dec 2020</td>\n",
              "      <td>False</td>\n",
              "      <td>N/A</td>\n",
              "    </tr>\n",
              "    <tr>\n",
              "      <th>37</th>\n",
              "      <td>328</td>\n",
              "      <td>Date_of_Birth</td>\n",
              "      <td>15/09/2004</td>\n",
              "      <td>Not 18 or over by 1st Dec 2020</td>\n",
              "      <td>False</td>\n",
              "      <td>N/A</td>\n",
              "    </tr>\n",
              "    <tr>\n",
              "      <th>38</th>\n",
              "      <td>329</td>\n",
              "      <td>Date_of_Birth</td>\n",
              "      <td>30/09/2005</td>\n",
              "      <td>Not 18 or over by 1st Dec 2020</td>\n",
              "      <td>False</td>\n",
              "      <td>N/A</td>\n",
              "    </tr>\n",
              "    <tr>\n",
              "      <th>39</th>\n",
              "      <td>331</td>\n",
              "      <td>Date_of_Birth</td>\n",
              "      <td>01/08/2005</td>\n",
              "      <td>Not 18 or over by 1st Dec 2020</td>\n",
              "      <td>False</td>\n",
              "      <td>N/A</td>\n",
              "    </tr>\n",
              "    <tr>\n",
              "      <th>40</th>\n",
              "      <td>335</td>\n",
              "      <td>Date_of_Birth</td>\n",
              "      <td>20/09/2005</td>\n",
              "      <td>Not 18 or over by 1st Dec 2020</td>\n",
              "      <td>False</td>\n",
              "      <td>N/A</td>\n",
              "    </tr>\n",
              "    <tr>\n",
              "      <th>43</th>\n",
              "      <td>347</td>\n",
              "      <td>Date_of_Birth</td>\n",
              "      <td>22/06/2003</td>\n",
              "      <td>Not 18 or over by 1st Dec 2020</td>\n",
              "      <td>False</td>\n",
              "      <td>N/A</td>\n",
              "    </tr>\n",
              "    <tr>\n",
              "      <th>46</th>\n",
              "      <td>396</td>\n",
              "      <td>Date_of_Birth</td>\n",
              "      <td>24/09/2005</td>\n",
              "      <td>Not 18 or over by 1st Dec 2020</td>\n",
              "      <td>False</td>\n",
              "      <td>N/A</td>\n",
              "    </tr>\n",
              "    <tr>\n",
              "      <th>48</th>\n",
              "      <td>415</td>\n",
              "      <td>Date_of_Birth</td>\n",
              "      <td>05/02/2004</td>\n",
              "      <td>Not 18 or over by 1st Dec 2020</td>\n",
              "      <td>False</td>\n",
              "      <td>N/A</td>\n",
              "    </tr>\n",
              "    <tr>\n",
              "      <th>53</th>\n",
              "      <td>479</td>\n",
              "      <td>Date_of_Birth</td>\n",
              "      <td>26/12/2003</td>\n",
              "      <td>Not 18 or over by 1st Dec 2020</td>\n",
              "      <td>False</td>\n",
              "      <td>N/A</td>\n",
              "    </tr>\n",
              "    <tr>\n",
              "      <th>57</th>\n",
              "      <td>495</td>\n",
              "      <td>Date_of_Birth</td>\n",
              "      <td>07/07/2003</td>\n",
              "      <td>Not 18 or over by 1st Dec 2020</td>\n",
              "      <td>False</td>\n",
              "      <td>N/A</td>\n",
              "    </tr>\n",
              "    <tr>\n",
              "      <th>58</th>\n",
              "      <td>499</td>\n",
              "      <td>Date_of_Birth</td>\n",
              "      <td>01/11/2005</td>\n",
              "      <td>Not 18 or over by 1st Dec 2020</td>\n",
              "      <td>False</td>\n",
              "      <td>N/A</td>\n",
              "    </tr>\n",
              "    <tr>\n",
              "      <th>60</th>\n",
              "      <td>516</td>\n",
              "      <td>Date_of_Birth</td>\n",
              "      <td>18/07/2003</td>\n",
              "      <td>Not 18 or over by 1st Dec 2020</td>\n",
              "      <td>False</td>\n",
              "      <td>N/A</td>\n",
              "    </tr>\n",
              "    <tr>\n",
              "      <th>62</th>\n",
              "      <td>525</td>\n",
              "      <td>Date_of_Birth</td>\n",
              "      <td>05/04/2004</td>\n",
              "      <td>Not 18 or over by 1st Dec 2020</td>\n",
              "      <td>False</td>\n",
              "      <td>N/A</td>\n",
              "    </tr>\n",
              "    <tr>\n",
              "      <th>65</th>\n",
              "      <td>562</td>\n",
              "      <td>Date_of_Birth</td>\n",
              "      <td>13/04/2003</td>\n",
              "      <td>Not 18 or over by 1st Dec 2020</td>\n",
              "      <td>False</td>\n",
              "      <td>N/A</td>\n",
              "    </tr>\n",
              "    <tr>\n",
              "      <th>66</th>\n",
              "      <td>583</td>\n",
              "      <td>Date_of_Birth</td>\n",
              "      <td>17/11/2005</td>\n",
              "      <td>Not 18 or over by 1st Dec 2020</td>\n",
              "      <td>False</td>\n",
              "      <td>N/A</td>\n",
              "    </tr>\n",
              "    <tr>\n",
              "      <th>68</th>\n",
              "      <td>596</td>\n",
              "      <td>Date_of_Birth</td>\n",
              "      <td>04/04/2005</td>\n",
              "      <td>Not 18 or over by 1st Dec 2020</td>\n",
              "      <td>False</td>\n",
              "      <td>N/A</td>\n",
              "    </tr>\n",
              "    <tr>\n",
              "      <th>69</th>\n",
              "      <td>611</td>\n",
              "      <td>Date_of_Birth</td>\n",
              "      <td>17/10/2004</td>\n",
              "      <td>Not 18 or over by 1st Dec 2020</td>\n",
              "      <td>False</td>\n",
              "      <td>N/A</td>\n",
              "    </tr>\n",
              "    <tr>\n",
              "      <th>71</th>\n",
              "      <td>613</td>\n",
              "      <td>Date_of_Birth</td>\n",
              "      <td>06/07/2004</td>\n",
              "      <td>Not 18 or over by 1st Dec 2020</td>\n",
              "      <td>False</td>\n",
              "      <td>N/A</td>\n",
              "    </tr>\n",
              "    <tr>\n",
              "      <th>77</th>\n",
              "      <td>647</td>\n",
              "      <td>Date_of_Birth</td>\n",
              "      <td>08/08/2005</td>\n",
              "      <td>Not 18 or over by 1st Dec 2020</td>\n",
              "      <td>False</td>\n",
              "      <td>N/A</td>\n",
              "    </tr>\n",
              "    <tr>\n",
              "      <th>78</th>\n",
              "      <td>655</td>\n",
              "      <td>Date_of_Birth</td>\n",
              "      <td>30/09/2004</td>\n",
              "      <td>Not 18 or over by 1st Dec 2020</td>\n",
              "      <td>False</td>\n",
              "      <td>N/A</td>\n",
              "    </tr>\n",
              "    <tr>\n",
              "      <th>79</th>\n",
              "      <td>659</td>\n",
              "      <td>Date_of_Birth</td>\n",
              "      <td>31/03/2004</td>\n",
              "      <td>Not 18 or over by 1st Dec 2020</td>\n",
              "      <td>False</td>\n",
              "      <td>N/A</td>\n",
              "    </tr>\n",
              "    <tr>\n",
              "      <th>80</th>\n",
              "      <td>662</td>\n",
              "      <td>Date_of_Birth</td>\n",
              "      <td>20/04/2004</td>\n",
              "      <td>Not 18 or over by 1st Dec 2020</td>\n",
              "      <td>False</td>\n",
              "      <td>N/A</td>\n",
              "    </tr>\n",
              "    <tr>\n",
              "      <th>81</th>\n",
              "      <td>686</td>\n",
              "      <td>Date_of_Birth</td>\n",
              "      <td>01/07/2043</td>\n",
              "      <td>Not 18 or over by 1st Dec 2020</td>\n",
              "      <td>False</td>\n",
              "      <td>N/A</td>\n",
              "    </tr>\n",
              "    <tr>\n",
              "      <th>83</th>\n",
              "      <td>696</td>\n",
              "      <td>Date_of_Birth</td>\n",
              "      <td>22/07/2005</td>\n",
              "      <td>Not 18 or over by 1st Dec 2020</td>\n",
              "      <td>False</td>\n",
              "      <td>N/A</td>\n",
              "    </tr>\n",
              "    <tr>\n",
              "      <th>84</th>\n",
              "      <td>698</td>\n",
              "      <td>Date_of_Birth</td>\n",
              "      <td>14/07/2020</td>\n",
              "      <td>Not 18 or over by 1st Dec 2020</td>\n",
              "      <td>False</td>\n",
              "      <td>N/A</td>\n",
              "    </tr>\n",
              "    <tr>\n",
              "      <th>87</th>\n",
              "      <td>714</td>\n",
              "      <td>Date_of_Birth</td>\n",
              "      <td>10/11/2003</td>\n",
              "      <td>Not 18 or over by 1st Dec 2020</td>\n",
              "      <td>False</td>\n",
              "      <td>N/A</td>\n",
              "    </tr>\n",
              "    <tr>\n",
              "      <th>88</th>\n",
              "      <td>722</td>\n",
              "      <td>Date_of_Birth</td>\n",
              "      <td>31/08/2003</td>\n",
              "      <td>Not 18 or over by 1st Dec 2020</td>\n",
              "      <td>False</td>\n",
              "      <td>N/A</td>\n",
              "    </tr>\n",
              "    <tr>\n",
              "      <th>90</th>\n",
              "      <td>751</td>\n",
              "      <td>Date_of_Birth</td>\n",
              "      <td>20/04/2005</td>\n",
              "      <td>Not 18 or over by 1st Dec 2020</td>\n",
              "      <td>False</td>\n",
              "      <td>N/A</td>\n",
              "    </tr>\n",
              "    <tr>\n",
              "      <th>94</th>\n",
              "      <td>765</td>\n",
              "      <td>Date_of_Birth</td>\n",
              "      <td>26/02/2005</td>\n",
              "      <td>Not 18 or over by 1st Dec 2020</td>\n",
              "      <td>False</td>\n",
              "      <td>N/A</td>\n",
              "    </tr>\n",
              "    <tr>\n",
              "      <th>97</th>\n",
              "      <td>771</td>\n",
              "      <td>Date_of_Birth</td>\n",
              "      <td>30/11/2003</td>\n",
              "      <td>Not 18 or over by 1st Dec 2020</td>\n",
              "      <td>False</td>\n",
              "      <td>N/A</td>\n",
              "    </tr>\n",
              "    <tr>\n",
              "      <th>102</th>\n",
              "      <td>819</td>\n",
              "      <td>Date_of_Birth</td>\n",
              "      <td>15/09/2003</td>\n",
              "      <td>Not 18 or over by 1st Dec 2020</td>\n",
              "      <td>False</td>\n",
              "      <td>N/A</td>\n",
              "    </tr>\n",
              "    <tr>\n",
              "      <th>103</th>\n",
              "      <td>833</td>\n",
              "      <td>Date_of_Birth</td>\n",
              "      <td>17/07/2004</td>\n",
              "      <td>Not 18 or over by 1st Dec 2020</td>\n",
              "      <td>False</td>\n",
              "      <td>N/A</td>\n",
              "    </tr>\n",
              "    <tr>\n",
              "      <th>107</th>\n",
              "      <td>861</td>\n",
              "      <td>Date_of_Birth</td>\n",
              "      <td>29/08/2005</td>\n",
              "      <td>Not 18 or over by 1st Dec 2020</td>\n",
              "      <td>False</td>\n",
              "      <td>N/A</td>\n",
              "    </tr>\n",
              "    <tr>\n",
              "      <th>108</th>\n",
              "      <td>868</td>\n",
              "      <td>Date_of_Birth</td>\n",
              "      <td>14/10/2004</td>\n",
              "      <td>Not 18 or over by 1st Dec 2020</td>\n",
              "      <td>False</td>\n",
              "      <td>N/A</td>\n",
              "    </tr>\n",
              "    <tr>\n",
              "      <th>116</th>\n",
              "      <td>895</td>\n",
              "      <td>Date_of_Birth</td>\n",
              "      <td>16/05/2004</td>\n",
              "      <td>Not 18 or over by 1st Dec 2020</td>\n",
              "      <td>False</td>\n",
              "      <td>N/A</td>\n",
              "    </tr>\n",
              "    <tr>\n",
              "      <th>121</th>\n",
              "      <td>934</td>\n",
              "      <td>Date_of_Birth</td>\n",
              "      <td>16/04/2004</td>\n",
              "      <td>Not 18 or over by 1st Dec 2020</td>\n",
              "      <td>False</td>\n",
              "      <td>N/A</td>\n",
              "    </tr>\n",
              "    <tr>\n",
              "      <th>128</th>\n",
              "      <td>979</td>\n",
              "      <td>Date_of_Birth</td>\n",
              "      <td>20/01/2005</td>\n",
              "      <td>Not 18 or over by 1st Dec 2020</td>\n",
              "      <td>False</td>\n",
              "      <td>N/A</td>\n",
              "    </tr>\n",
              "    <tr>\n",
              "      <th>129</th>\n",
              "      <td>991</td>\n",
              "      <td>Date_of_Birth</td>\n",
              "      <td>30/06/2005</td>\n",
              "      <td>Not 18 or over by 1st Dec 2020</td>\n",
              "      <td>False</td>\n",
              "      <td>N/A</td>\n",
              "    </tr>\n",
              "  </tbody>\n",
              "</table>\n",
              "</div>\n",
              "      <button class=\"colab-df-convert\" onclick=\"convertToInteractive('df-2aedd82c-757c-4011-9f48-8c57d57d151a')\"\n",
              "              title=\"Convert this dataframe to an interactive table.\"\n",
              "              style=\"display:none;\">\n",
              "        \n",
              "  <svg xmlns=\"http://www.w3.org/2000/svg\" height=\"24px\"viewBox=\"0 0 24 24\"\n",
              "       width=\"24px\">\n",
              "    <path d=\"M0 0h24v24H0V0z\" fill=\"none\"/>\n",
              "    <path d=\"M18.56 5.44l.94 2.06.94-2.06 2.06-.94-2.06-.94-.94-2.06-.94 2.06-2.06.94zm-11 1L8.5 8.5l.94-2.06 2.06-.94-2.06-.94L8.5 2.5l-.94 2.06-2.06.94zm10 10l.94 2.06.94-2.06 2.06-.94-2.06-.94-.94-2.06-.94 2.06-2.06.94z\"/><path d=\"M17.41 7.96l-1.37-1.37c-.4-.4-.92-.59-1.43-.59-.52 0-1.04.2-1.43.59L10.3 9.45l-7.72 7.72c-.78.78-.78 2.05 0 2.83L4 21.41c.39.39.9.59 1.41.59.51 0 1.02-.2 1.41-.59l7.78-7.78 2.81-2.81c.8-.78.8-2.07 0-2.86zM5.41 20L4 18.59l7.72-7.72 1.47 1.35L5.41 20z\"/>\n",
              "  </svg>\n",
              "      </button>\n",
              "      \n",
              "  <style>\n",
              "    .colab-df-container {\n",
              "      display:flex;\n",
              "      flex-wrap:wrap;\n",
              "      gap: 12px;\n",
              "    }\n",
              "\n",
              "    .colab-df-convert {\n",
              "      background-color: #E8F0FE;\n",
              "      border: none;\n",
              "      border-radius: 50%;\n",
              "      cursor: pointer;\n",
              "      display: none;\n",
              "      fill: #1967D2;\n",
              "      height: 32px;\n",
              "      padding: 0 0 0 0;\n",
              "      width: 32px;\n",
              "    }\n",
              "\n",
              "    .colab-df-convert:hover {\n",
              "      background-color: #E2EBFA;\n",
              "      box-shadow: 0px 1px 2px rgba(60, 64, 67, 0.3), 0px 1px 3px 1px rgba(60, 64, 67, 0.15);\n",
              "      fill: #174EA6;\n",
              "    }\n",
              "\n",
              "    [theme=dark] .colab-df-convert {\n",
              "      background-color: #3B4455;\n",
              "      fill: #D2E3FC;\n",
              "    }\n",
              "\n",
              "    [theme=dark] .colab-df-convert:hover {\n",
              "      background-color: #434B5C;\n",
              "      box-shadow: 0px 1px 3px 1px rgba(0, 0, 0, 0.15);\n",
              "      filter: drop-shadow(0px 1px 2px rgba(0, 0, 0, 0.3));\n",
              "      fill: #FFFFFF;\n",
              "    }\n",
              "  </style>\n",
              "\n",
              "      <script>\n",
              "        const buttonEl =\n",
              "          document.querySelector('#df-2aedd82c-757c-4011-9f48-8c57d57d151a button.colab-df-convert');\n",
              "        buttonEl.style.display =\n",
              "          google.colab.kernel.accessAllowed ? 'block' : 'none';\n",
              "\n",
              "        async function convertToInteractive(key) {\n",
              "          const element = document.querySelector('#df-2aedd82c-757c-4011-9f48-8c57d57d151a');\n",
              "          const dataTable =\n",
              "            await google.colab.kernel.invokeFunction('convertToInteractive',\n",
              "                                                     [key], {});\n",
              "          if (!dataTable) return;\n",
              "\n",
              "          const docLinkHtml = 'Like what you see? Visit the ' +\n",
              "            '<a target=\"_blank\" href=https://colab.research.google.com/notebooks/data_table.ipynb>data table notebook</a>'\n",
              "            + ' to learn more about interactive tables.';\n",
              "          element.innerHTML = '';\n",
              "          dataTable['output_type'] = 'display_data';\n",
              "          await google.colab.output.renderOutput(dataTable, element);\n",
              "          const docLink = document.createElement('div');\n",
              "          docLink.innerHTML = docLinkHtml;\n",
              "          element.appendChild(docLink);\n",
              "        }\n",
              "      </script>\n",
              "    </div>\n",
              "  </div>\n",
              "  "
            ]
          },
          "metadata": {},
          "execution_count": 82
        }
      ]
    },
    {
      "cell_type": "code",
      "source": [],
      "metadata": {
        "id": "9KrBP18IbmxB"
      },
      "execution_count": null,
      "outputs": []
    }
  ]
}
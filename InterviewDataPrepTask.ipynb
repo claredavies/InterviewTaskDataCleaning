{
  "nbformat": 4,
  "nbformat_minor": 0,
  "metadata": {
    "colab": {
      "provenance": [],
      "collapsed_sections": [
        "sYZduvOG-NLF",
        "EoXzzGoH-TNj",
        "m1xbAFdAGEux",
        "FQZbeNe1_kLf",
        "xPw5jvnbBU6_",
        "STiXKaTkAxoi",
        "PMhJRMDGA3Zo",
        "uIzNIorrCei0",
        "Xy6ieu5cl7V6"
      ],
      "authorship_tag": "ABX9TyPZZesxzp3SMh1YSB3K5qv7",
      "include_colab_link": true
    },
    "kernelspec": {
      "name": "python3",
      "display_name": "Python 3"
    },
    "language_info": {
      "name": "python"
    }
  },
  "cells": [
    {
      "cell_type": "markdown",
      "metadata": {
        "id": "view-in-github",
        "colab_type": "text"
      },
      "source": [
        "<a href=\"https://colab.research.google.com/github/claredavies/InterviewTaskDataCleaning/blob/main/InterviewDataPrepTask.ipynb\" target=\"_parent\"><img src=\"https://colab.research.google.com/assets/colab-badge.svg\" alt=\"Open In Colab\"/></a>"
      ]
    },
    {
      "cell_type": "markdown",
      "source": [
        "# Libraries"
      ],
      "metadata": {
        "id": "sYZduvOG-NLF"
      }
    },
    {
      "cell_type": "code",
      "execution_count": 47,
      "metadata": {
        "id": "eza77N_D-KUM"
      },
      "outputs": [],
      "source": [
        "import numpy as np\n",
        "from google.colab import files\n",
        "import pandas as pd\n",
        "from matplotlib import pyplot as plt\n",
        "from pandas.api.types import is_numeric_dtype\n",
        "from pandas.api.types import is_string_dtype\n",
        "import re\n",
        "import socket\n",
        "import datetime\n",
        "from datetime import datetime"
      ]
    },
    {
      "cell_type": "code",
      "source": [
        "pd.set_option('max_rows', 99999)\n",
        "pd.set_option('max_colwidth', 400)\n",
        "pd.set_option('display.max_rows', None)"
      ],
      "metadata": {
        "id": "oSin7yeuMauf"
      },
      "execution_count": 48,
      "outputs": []
    },
    {
      "cell_type": "markdown",
      "source": [
        "# Read in files"
      ],
      "metadata": {
        "id": "EoXzzGoH-TNj"
      }
    },
    {
      "cell_type": "code",
      "source": [
        "!git clone https://github.com/claredavies/InterviewTaskDataCleaning.git"
      ],
      "metadata": {
        "colab": {
          "base_uri": "https://localhost:8080/"
        },
        "id": "by8etXVk-lk3",
        "outputId": "81c0401a-4b4f-4569-db32-911919df09e2"
      },
      "execution_count": 3,
      "outputs": [
        {
          "output_type": "stream",
          "name": "stdout",
          "text": [
            "Cloning into 'InterviewTaskDataCleaning'...\n",
            "remote: Enumerating objects: 19, done.\u001b[K\n",
            "remote: Counting objects: 100% (19/19), done.\u001b[K\n",
            "remote: Compressing objects: 100% (17/17), done.\u001b[K\n",
            "remote: Total 19 (delta 6), reused 0 (delta 0), pack-reused 0\u001b[K\n",
            "Unpacking objects: 100% (19/19), done.\n"
          ]
        }
      ]
    },
    {
      "cell_type": "code",
      "source": [
        "%cd InterviewTaskDataCleaning"
      ],
      "metadata": {
        "colab": {
          "base_uri": "https://localhost:8080/"
        },
        "id": "1FyOSiFo_M7H",
        "outputId": "131055e1-599d-4279-e502-a75b7c14bbc8"
      },
      "execution_count": 4,
      "outputs": [
        {
          "output_type": "stream",
          "name": "stdout",
          "text": [
            "/content/InterviewTaskDataCleaning\n"
          ]
        }
      ]
    },
    {
      "cell_type": "code",
      "source": [
        "df = pd.read_csv('InputData.csv')\n",
        "df.head(3)"
      ],
      "metadata": {
        "colab": {
          "base_uri": "https://localhost:8080/",
          "height": 0
        },
        "id": "yGrn2o25-skt",
        "outputId": "9754b2e2-e917-4e1c-c0d4-a3a440ebc7aa"
      },
      "execution_count": 5,
      "outputs": [
        {
          "output_type": "execute_result",
          "data": {
            "text/plain": [
              "   Ref First_Name Last_Name                   Email Gender      IP_Address  \\\n",
              "0    1   Germayne   Simmons    gsimmons0@cdbaby.com   Male   24.48.223.251   \n",
              "1    2      Cosmo    Pleass   cpleass1@netscape.com   Male   108.87.136.28   \n",
              "2    3     Henrik      Boag  hboag2@bizjournals.com   Male  221.105.60.101   \n",
              "\n",
              "  Date_of_Birth  \n",
              "0    18/11/1959  \n",
              "1    08/11/1935  \n",
              "2    07/10/1989  "
            ],
            "text/html": [
              "\n",
              "  <div id=\"df-c245691e-98e5-4132-a5e7-e55c26cd2c08\">\n",
              "    <div class=\"colab-df-container\">\n",
              "      <div>\n",
              "<style scoped>\n",
              "    .dataframe tbody tr th:only-of-type {\n",
              "        vertical-align: middle;\n",
              "    }\n",
              "\n",
              "    .dataframe tbody tr th {\n",
              "        vertical-align: top;\n",
              "    }\n",
              "\n",
              "    .dataframe thead th {\n",
              "        text-align: right;\n",
              "    }\n",
              "</style>\n",
              "<table border=\"1\" class=\"dataframe\">\n",
              "  <thead>\n",
              "    <tr style=\"text-align: right;\">\n",
              "      <th></th>\n",
              "      <th>Ref</th>\n",
              "      <th>First_Name</th>\n",
              "      <th>Last_Name</th>\n",
              "      <th>Email</th>\n",
              "      <th>Gender</th>\n",
              "      <th>IP_Address</th>\n",
              "      <th>Date_of_Birth</th>\n",
              "    </tr>\n",
              "  </thead>\n",
              "  <tbody>\n",
              "    <tr>\n",
              "      <th>0</th>\n",
              "      <td>1</td>\n",
              "      <td>Germayne</td>\n",
              "      <td>Simmons</td>\n",
              "      <td>gsimmons0@cdbaby.com</td>\n",
              "      <td>Male</td>\n",
              "      <td>24.48.223.251</td>\n",
              "      <td>18/11/1959</td>\n",
              "    </tr>\n",
              "    <tr>\n",
              "      <th>1</th>\n",
              "      <td>2</td>\n",
              "      <td>Cosmo</td>\n",
              "      <td>Pleass</td>\n",
              "      <td>cpleass1@netscape.com</td>\n",
              "      <td>Male</td>\n",
              "      <td>108.87.136.28</td>\n",
              "      <td>08/11/1935</td>\n",
              "    </tr>\n",
              "    <tr>\n",
              "      <th>2</th>\n",
              "      <td>3</td>\n",
              "      <td>Henrik</td>\n",
              "      <td>Boag</td>\n",
              "      <td>hboag2@bizjournals.com</td>\n",
              "      <td>Male</td>\n",
              "      <td>221.105.60.101</td>\n",
              "      <td>07/10/1989</td>\n",
              "    </tr>\n",
              "  </tbody>\n",
              "</table>\n",
              "</div>\n",
              "      <button class=\"colab-df-convert\" onclick=\"convertToInteractive('df-c245691e-98e5-4132-a5e7-e55c26cd2c08')\"\n",
              "              title=\"Convert this dataframe to an interactive table.\"\n",
              "              style=\"display:none;\">\n",
              "        \n",
              "  <svg xmlns=\"http://www.w3.org/2000/svg\" height=\"24px\"viewBox=\"0 0 24 24\"\n",
              "       width=\"24px\">\n",
              "    <path d=\"M0 0h24v24H0V0z\" fill=\"none\"/>\n",
              "    <path d=\"M18.56 5.44l.94 2.06.94-2.06 2.06-.94-2.06-.94-.94-2.06-.94 2.06-2.06.94zm-11 1L8.5 8.5l.94-2.06 2.06-.94-2.06-.94L8.5 2.5l-.94 2.06-2.06.94zm10 10l.94 2.06.94-2.06 2.06-.94-2.06-.94-.94-2.06-.94 2.06-2.06.94z\"/><path d=\"M17.41 7.96l-1.37-1.37c-.4-.4-.92-.59-1.43-.59-.52 0-1.04.2-1.43.59L10.3 9.45l-7.72 7.72c-.78.78-.78 2.05 0 2.83L4 21.41c.39.39.9.59 1.41.59.51 0 1.02-.2 1.41-.59l7.78-7.78 2.81-2.81c.8-.78.8-2.07 0-2.86zM5.41 20L4 18.59l7.72-7.72 1.47 1.35L5.41 20z\"/>\n",
              "  </svg>\n",
              "      </button>\n",
              "      \n",
              "  <style>\n",
              "    .colab-df-container {\n",
              "      display:flex;\n",
              "      flex-wrap:wrap;\n",
              "      gap: 12px;\n",
              "    }\n",
              "\n",
              "    .colab-df-convert {\n",
              "      background-color: #E8F0FE;\n",
              "      border: none;\n",
              "      border-radius: 50%;\n",
              "      cursor: pointer;\n",
              "      display: none;\n",
              "      fill: #1967D2;\n",
              "      height: 32px;\n",
              "      padding: 0 0 0 0;\n",
              "      width: 32px;\n",
              "    }\n",
              "\n",
              "    .colab-df-convert:hover {\n",
              "      background-color: #E2EBFA;\n",
              "      box-shadow: 0px 1px 2px rgba(60, 64, 67, 0.3), 0px 1px 3px 1px rgba(60, 64, 67, 0.15);\n",
              "      fill: #174EA6;\n",
              "    }\n",
              "\n",
              "    [theme=dark] .colab-df-convert {\n",
              "      background-color: #3B4455;\n",
              "      fill: #D2E3FC;\n",
              "    }\n",
              "\n",
              "    [theme=dark] .colab-df-convert:hover {\n",
              "      background-color: #434B5C;\n",
              "      box-shadow: 0px 1px 3px 1px rgba(0, 0, 0, 0.15);\n",
              "      filter: drop-shadow(0px 1px 2px rgba(0, 0, 0, 0.3));\n",
              "      fill: #FFFFFF;\n",
              "    }\n",
              "  </style>\n",
              "\n",
              "      <script>\n",
              "        const buttonEl =\n",
              "          document.querySelector('#df-c245691e-98e5-4132-a5e7-e55c26cd2c08 button.colab-df-convert');\n",
              "        buttonEl.style.display =\n",
              "          google.colab.kernel.accessAllowed ? 'block' : 'none';\n",
              "\n",
              "        async function convertToInteractive(key) {\n",
              "          const element = document.querySelector('#df-c245691e-98e5-4132-a5e7-e55c26cd2c08');\n",
              "          const dataTable =\n",
              "            await google.colab.kernel.invokeFunction('convertToInteractive',\n",
              "                                                     [key], {});\n",
              "          if (!dataTable) return;\n",
              "\n",
              "          const docLinkHtml = 'Like what you see? Visit the ' +\n",
              "            '<a target=\"_blank\" href=https://colab.research.google.com/notebooks/data_table.ipynb>data table notebook</a>'\n",
              "            + ' to learn more about interactive tables.';\n",
              "          element.innerHTML = '';\n",
              "          dataTable['output_type'] = 'display_data';\n",
              "          await google.colab.output.renderOutput(dataTable, element);\n",
              "          const docLink = document.createElement('div');\n",
              "          docLink.innerHTML = docLinkHtml;\n",
              "          element.appendChild(docLink);\n",
              "        }\n",
              "      </script>\n",
              "    </div>\n",
              "  </div>\n",
              "  "
            ]
          },
          "metadata": {},
          "execution_count": 5
        }
      ]
    },
    {
      "cell_type": "markdown",
      "source": [
        "# Functions"
      ],
      "metadata": {
        "id": "m1xbAFdAGEux"
      }
    },
    {
      "cell_type": "code",
      "source": [
        "def boolCheckLengthOverLimitString(value, limit):\n",
        "  lengthFound = len(value)\n",
        "  if(lengthFound > limit):\n",
        "    return True\n",
        "  else:\n",
        "    return False"
      ],
      "metadata": {
        "id": "ffk6AfaOKBmi"
      },
      "execution_count": 6,
      "outputs": []
    },
    {
      "cell_type": "code",
      "source": [
        "def boolCheckLengthOverLimitInt(value, limit):\n",
        "  stringValue = str(value)\n",
        "  return boolCheckLengthOverLimitString(stringValue, limit)"
      ],
      "metadata": {
        "id": "ebP1vUyjKWCM"
      },
      "execution_count": 7,
      "outputs": []
    },
    {
      "cell_type": "code",
      "source": [
        "def checkCaseCorrect(string):\n",
        "  lengthWord = len(string)\n",
        "  if string[0].isupper() == False:\n",
        "    return False\n",
        "  for i in range(1, lengthWord):\n",
        "    if string[i].isupper() == True:\n",
        "      return False\n",
        "  return True"
      ],
      "metadata": {
        "id": "dyjqgweSQgVV"
      },
      "execution_count": 8,
      "outputs": []
    },
    {
      "cell_type": "code",
      "source": [
        "def checkOnlyCharacter(string):\n",
        "  lengthWord = len(string)\n",
        "  if string.isalpha() == False:\n",
        "    for i in range(0, lengthWord):\n",
        "      if string[i].isalpha() == False:\n",
        "        if(string[i].find(\"-\") == -1 or string[i].find(\"'\") == -1):\n",
        "          return False\n",
        "    return True\n",
        "  else:\n",
        "    return True"
      ],
      "metadata": {
        "id": "R7lFM8ocUOWq"
      },
      "execution_count": 9,
      "outputs": []
    },
    {
      "cell_type": "code",
      "source": [
        "def checkIfSpacesBetweenWords(string):\n",
        "  res = bool(re.search(r\"\\s\", string))\n",
        "  return res"
      ],
      "metadata": {
        "id": "gEw1nnXsjurl"
      },
      "execution_count": 10,
      "outputs": []
    },
    {
      "cell_type": "code",
      "source": [
        "def checkMaleOrFemale(string):\n",
        "  lowercaseString = string.lower()\n",
        "  if lowercaseString == 'female':\n",
        "    return True\n",
        "  elif lowercaseString == 'male':\n",
        "    return True\n",
        "  else:\n",
        "    return False"
      ],
      "metadata": {
        "id": "uUyc1g16nWAf"
      },
      "execution_count": 11,
      "outputs": []
    },
    {
      "cell_type": "code",
      "source": [
        "def checkIfIPV4Valid(string):\n",
        "  try:\n",
        "      socket.inet_aton(string)\n",
        "      return True\n",
        "      # legal\n",
        "  except socket.error:\n",
        "    return False"
      ],
      "metadata": {
        "id": "vxv56EGgOucQ"
      },
      "execution_count": 12,
      "outputs": []
    },
    {
      "cell_type": "code",
      "source": [
        "def checkFormatDate(string):\n",
        "  format = '%d/%m/%Y'\n",
        "  try:\n",
        "    datetime.strptime(string, format)\n",
        "    return True\n",
        "  except ValueError:\n",
        "    return False "
      ],
      "metadata": {
        "id": "lFqaaUezQ6Xx"
      },
      "execution_count": 13,
      "outputs": []
    },
    {
      "cell_type": "code",
      "source": [
        "def check18OrOverBy1stDec2020(startDate):\n",
        "  endDate = '01/12/2020'\n",
        "  endDate = datetime.strptime(endDate, '%d/%m/%Y')\n",
        "  startDate = datetime.strptime(startDate, '%d/%m/%Y')\n",
        "  yearsOld = endDate.year - startDate.year - ((endDate.month, endDate.day) < (startDate.month, startDate.day))\n",
        "  if yearsOld >= 18:\n",
        "    return True\n",
        "  else:\n",
        "    return False"
      ],
      "metadata": {
        "id": "b4aW_RjiSWSx"
      },
      "execution_count": 14,
      "outputs": []
    },
    {
      "cell_type": "markdown",
      "source": [
        "# Check Duplicates"
      ],
      "metadata": {
        "id": "FQZbeNe1_kLf"
      }
    },
    {
      "cell_type": "code",
      "source": [
        "dfWithoutRef = df.drop('Ref', axis=1)\n",
        "dfWithoutRef.head(3)"
      ],
      "metadata": {
        "colab": {
          "base_uri": "https://localhost:8080/",
          "height": 144
        },
        "id": "jYxu7swd_mym",
        "outputId": "0508d056-b1d1-4093-bcbe-efc8aafdd94b"
      },
      "execution_count": 15,
      "outputs": [
        {
          "output_type": "execute_result",
          "data": {
            "text/plain": [
              "  First_Name Last_Name                   Email Gender      IP_Address  \\\n",
              "0   Germayne   Simmons    gsimmons0@cdbaby.com   Male   24.48.223.251   \n",
              "1      Cosmo    Pleass   cpleass1@netscape.com   Male   108.87.136.28   \n",
              "2     Henrik      Boag  hboag2@bizjournals.com   Male  221.105.60.101   \n",
              "\n",
              "  Date_of_Birth  \n",
              "0    18/11/1959  \n",
              "1    08/11/1935  \n",
              "2    07/10/1989  "
            ],
            "text/html": [
              "\n",
              "  <div id=\"df-7d1c8289-7ab7-4738-9dc5-8f4d25213b4a\">\n",
              "    <div class=\"colab-df-container\">\n",
              "      <div>\n",
              "<style scoped>\n",
              "    .dataframe tbody tr th:only-of-type {\n",
              "        vertical-align: middle;\n",
              "    }\n",
              "\n",
              "    .dataframe tbody tr th {\n",
              "        vertical-align: top;\n",
              "    }\n",
              "\n",
              "    .dataframe thead th {\n",
              "        text-align: right;\n",
              "    }\n",
              "</style>\n",
              "<table border=\"1\" class=\"dataframe\">\n",
              "  <thead>\n",
              "    <tr style=\"text-align: right;\">\n",
              "      <th></th>\n",
              "      <th>First_Name</th>\n",
              "      <th>Last_Name</th>\n",
              "      <th>Email</th>\n",
              "      <th>Gender</th>\n",
              "      <th>IP_Address</th>\n",
              "      <th>Date_of_Birth</th>\n",
              "    </tr>\n",
              "  </thead>\n",
              "  <tbody>\n",
              "    <tr>\n",
              "      <th>0</th>\n",
              "      <td>Germayne</td>\n",
              "      <td>Simmons</td>\n",
              "      <td>gsimmons0@cdbaby.com</td>\n",
              "      <td>Male</td>\n",
              "      <td>24.48.223.251</td>\n",
              "      <td>18/11/1959</td>\n",
              "    </tr>\n",
              "    <tr>\n",
              "      <th>1</th>\n",
              "      <td>Cosmo</td>\n",
              "      <td>Pleass</td>\n",
              "      <td>cpleass1@netscape.com</td>\n",
              "      <td>Male</td>\n",
              "      <td>108.87.136.28</td>\n",
              "      <td>08/11/1935</td>\n",
              "    </tr>\n",
              "    <tr>\n",
              "      <th>2</th>\n",
              "      <td>Henrik</td>\n",
              "      <td>Boag</td>\n",
              "      <td>hboag2@bizjournals.com</td>\n",
              "      <td>Male</td>\n",
              "      <td>221.105.60.101</td>\n",
              "      <td>07/10/1989</td>\n",
              "    </tr>\n",
              "  </tbody>\n",
              "</table>\n",
              "</div>\n",
              "      <button class=\"colab-df-convert\" onclick=\"convertToInteractive('df-7d1c8289-7ab7-4738-9dc5-8f4d25213b4a')\"\n",
              "              title=\"Convert this dataframe to an interactive table.\"\n",
              "              style=\"display:none;\">\n",
              "        \n",
              "  <svg xmlns=\"http://www.w3.org/2000/svg\" height=\"24px\"viewBox=\"0 0 24 24\"\n",
              "       width=\"24px\">\n",
              "    <path d=\"M0 0h24v24H0V0z\" fill=\"none\"/>\n",
              "    <path d=\"M18.56 5.44l.94 2.06.94-2.06 2.06-.94-2.06-.94-.94-2.06-.94 2.06-2.06.94zm-11 1L8.5 8.5l.94-2.06 2.06-.94-2.06-.94L8.5 2.5l-.94 2.06-2.06.94zm10 10l.94 2.06.94-2.06 2.06-.94-2.06-.94-.94-2.06-.94 2.06-2.06.94z\"/><path d=\"M17.41 7.96l-1.37-1.37c-.4-.4-.92-.59-1.43-.59-.52 0-1.04.2-1.43.59L10.3 9.45l-7.72 7.72c-.78.78-.78 2.05 0 2.83L4 21.41c.39.39.9.59 1.41.59.51 0 1.02-.2 1.41-.59l7.78-7.78 2.81-2.81c.8-.78.8-2.07 0-2.86zM5.41 20L4 18.59l7.72-7.72 1.47 1.35L5.41 20z\"/>\n",
              "  </svg>\n",
              "      </button>\n",
              "      \n",
              "  <style>\n",
              "    .colab-df-container {\n",
              "      display:flex;\n",
              "      flex-wrap:wrap;\n",
              "      gap: 12px;\n",
              "    }\n",
              "\n",
              "    .colab-df-convert {\n",
              "      background-color: #E8F0FE;\n",
              "      border: none;\n",
              "      border-radius: 50%;\n",
              "      cursor: pointer;\n",
              "      display: none;\n",
              "      fill: #1967D2;\n",
              "      height: 32px;\n",
              "      padding: 0 0 0 0;\n",
              "      width: 32px;\n",
              "    }\n",
              "\n",
              "    .colab-df-convert:hover {\n",
              "      background-color: #E2EBFA;\n",
              "      box-shadow: 0px 1px 2px rgba(60, 64, 67, 0.3), 0px 1px 3px 1px rgba(60, 64, 67, 0.15);\n",
              "      fill: #174EA6;\n",
              "    }\n",
              "\n",
              "    [theme=dark] .colab-df-convert {\n",
              "      background-color: #3B4455;\n",
              "      fill: #D2E3FC;\n",
              "    }\n",
              "\n",
              "    [theme=dark] .colab-df-convert:hover {\n",
              "      background-color: #434B5C;\n",
              "      box-shadow: 0px 1px 3px 1px rgba(0, 0, 0, 0.15);\n",
              "      filter: drop-shadow(0px 1px 2px rgba(0, 0, 0, 0.3));\n",
              "      fill: #FFFFFF;\n",
              "    }\n",
              "  </style>\n",
              "\n",
              "      <script>\n",
              "        const buttonEl =\n",
              "          document.querySelector('#df-7d1c8289-7ab7-4738-9dc5-8f4d25213b4a button.colab-df-convert');\n",
              "        buttonEl.style.display =\n",
              "          google.colab.kernel.accessAllowed ? 'block' : 'none';\n",
              "\n",
              "        async function convertToInteractive(key) {\n",
              "          const element = document.querySelector('#df-7d1c8289-7ab7-4738-9dc5-8f4d25213b4a');\n",
              "          const dataTable =\n",
              "            await google.colab.kernel.invokeFunction('convertToInteractive',\n",
              "                                                     [key], {});\n",
              "          if (!dataTable) return;\n",
              "\n",
              "          const docLinkHtml = 'Like what you see? Visit the ' +\n",
              "            '<a target=\"_blank\" href=https://colab.research.google.com/notebooks/data_table.ipynb>data table notebook</a>'\n",
              "            + ' to learn more about interactive tables.';\n",
              "          element.innerHTML = '';\n",
              "          dataTable['output_type'] = 'display_data';\n",
              "          await google.colab.output.renderOutput(dataTable, element);\n",
              "          const docLink = document.createElement('div');\n",
              "          docLink.innerHTML = docLinkHtml;\n",
              "          element.appendChild(docLink);\n",
              "        }\n",
              "      </script>\n",
              "    </div>\n",
              "  </div>\n",
              "  "
            ]
          },
          "metadata": {},
          "execution_count": 15
        }
      ]
    },
    {
      "cell_type": "code",
      "source": [
        "duplicate = df[dfWithoutRef.duplicated()]\n",
        "print(\"Duplicate Rows :\")\n",
        "print(duplicate)"
      ],
      "metadata": {
        "colab": {
          "base_uri": "https://localhost:8080/"
        },
        "id": "vQQGN6xiAKpb",
        "outputId": "29cfd9dd-7004-4491-da7c-e8dd41bb934a"
      },
      "execution_count": 17,
      "outputs": [
        {
          "output_type": "stream",
          "name": "stdout",
          "text": [
            "Duplicate Rows :\n",
            "Empty DataFrame\n",
            "Columns: [Ref, First_Name, Last_Name, Email, Gender, IP_Address, Date_of_Birth]\n",
            "Index: []\n"
          ]
        }
      ]
    },
    {
      "cell_type": "markdown",
      "source": [
        "# Check size - should be 1000"
      ],
      "metadata": {
        "id": "xPw5jvnbBU6_"
      }
    },
    {
      "cell_type": "code",
      "source": [
        "print(df.shape)"
      ],
      "metadata": {
        "colab": {
          "base_uri": "https://localhost:8080/"
        },
        "id": "V6ndF6SqBvOa",
        "outputId": "4dc0ae1b-b033-46e7-e15c-9989e9ed3d29"
      },
      "execution_count": 46,
      "outputs": [
        {
          "output_type": "stream",
          "name": "stdout",
          "text": [
            "(1000, 7)\n"
          ]
        }
      ]
    },
    {
      "cell_type": "markdown",
      "source": [
        "# Check Ref Column"
      ],
      "metadata": {
        "id": "STiXKaTkAxoi"
      }
    },
    {
      "cell_type": "code",
      "source": [
        "# check numeric\n",
        "print(is_numeric_dtype(df['Ref']))\n",
        "\n",
        "# check all values unique\n",
        "print(df['Ref'].is_unique)"
      ],
      "metadata": {
        "colab": {
          "base_uri": "https://localhost:8080/"
        },
        "id": "TQtTkxzeH4eh",
        "outputId": "9cf721a8-7873-44f2-93eb-537d4b0aa5ce"
      },
      "execution_count": 20,
      "outputs": [
        {
          "output_type": "stream",
          "name": "stdout",
          "text": [
            "True\n",
            "True\n"
          ]
        }
      ]
    },
    {
      "cell_type": "code",
      "source": [
        "# want to add in check for unique\n",
        "def checkRefColumn(input, columnName, index):\n",
        "  dfFlaws = pd.DataFrame(columns=['RowIndex', 'ColumnName', 'ColumnValue', 'ColumnIssue','Fixed',\"FixedResult\"])\n",
        "\n",
        "  if boolCheckLengthOverLimitInt(input, 8) == True:\n",
        "    issueMessage = 'bool check length greater than 8'\n",
        "    dfFlaws = dfFlaws.append({'RowIndex': index,'ColumnName': columnName, 'ColumnValue': input, 'ColumnIssue': issueMessage, 'Fixed': False, 'FixedResult': 'N/A'}, ignore_index=True)\n",
        "\n",
        "  elif pd.isna(input):\n",
        "    issueMessage = 'value is null'\n",
        "    dfFlaws = dfFlaws.append({'RowIndex': index, 'ColumnName': columnName, 'ColumnValue': input, 'ColumnIssue': issueMessage, 'Fixed': False, 'FixedResult': 'N/A'}, ignore_index=True)\n",
        "\n",
        "  return dfFlaws"
      ],
      "metadata": {
        "id": "1C7Llqk8dq_t"
      },
      "execution_count": 21,
      "outputs": []
    },
    {
      "cell_type": "markdown",
      "source": [
        "# Check First Name"
      ],
      "metadata": {
        "id": "PMhJRMDGA3Zo"
      }
    },
    {
      "cell_type": "markdown",
      "source": [
        "Check type (character only)"
      ],
      "metadata": {
        "id": "9KJNNBr_CCl4"
      }
    },
    {
      "cell_type": "code",
      "source": [
        "# check numeric\n",
        "print(is_string_dtype(df['First_Name']))"
      ],
      "metadata": {
        "colab": {
          "base_uri": "https://localhost:8080/"
        },
        "id": "qFx9JvcRLt6T",
        "outputId": "5d3de089-4b00-4430-d7ab-d96b8a41a212"
      },
      "execution_count": 22,
      "outputs": [
        {
          "output_type": "stream",
          "name": "stdout",
          "text": [
            "True\n"
          ]
        }
      ]
    },
    {
      "cell_type": "code",
      "source": [
        "def checkColumnFirstName(input, columnName, index):\n",
        "  dfFlaws = pd.DataFrame(columns=['RowIndex', 'ColumnName', 'ColumnValue', 'ColumnIssue','Fixed',\"FixedResult\"])\n",
        "\n",
        "  if pd.isna(input):\n",
        "    issueMessage = 'value is null'\n",
        "    dfFlaws = dfFlaws.append({'RowIndex': index,'ColumnName': columnName, 'ColumnValue': input, 'ColumnIssue': issueMessage, 'Fixed': False, 'FixedResult': 'N/A'}, ignore_index=True)\n",
        "\n",
        "  else:\n",
        "    if boolCheckLengthOverLimitInt(input, 20) == True:\n",
        "      issueMessage = 'value is over length'\n",
        "      dfFlaws = dfFlaws.append({'RowIndex': index,'ColumnName': columnName, 'ColumnValue': input, 'ColumnIssue': issueMessage, 'Fixed': False, 'FixedResult': 'N/A'}, ignore_index=True)\n",
        "\n",
        "\n",
        "    if(checkCaseCorrect(input) == False):\n",
        "      issueMessage = 'case is incorrect'\n",
        "      dfFlaws = dfFlaws.append({'RowIndex': index,'ColumnName': columnName, 'ColumnValue': input, 'ColumnIssue': issueMessage, 'Fixed': False, 'FixedResult': 'N/A'}, ignore_index=True)\n",
        "\n",
        "\n",
        "    # need to search for numbers within\n",
        "    if checkOnlyCharacter(input) == False:\n",
        "      issueMessage = 'not only characters'\n",
        "      dfFlaws = dfFlaws.append({'RowIndex': index,'ColumnName': columnName, 'ColumnValue': input, 'ColumnIssue': issueMessage, 'Fixed': False, 'FixedResult': 'N/A'}, ignore_index=True)\n",
        "\n",
        "  return dfFlaws"
      ],
      "metadata": {
        "id": "OpT9wm7BfC0S"
      },
      "execution_count": 23,
      "outputs": []
    },
    {
      "cell_type": "markdown",
      "source": [
        "# Check Second Name"
      ],
      "metadata": {
        "id": "uIzNIorrCei0"
      }
    },
    {
      "cell_type": "code",
      "source": [
        "# check numeric\n",
        "print(is_string_dtype(df['Last_Name']))"
      ],
      "metadata": {
        "colab": {
          "base_uri": "https://localhost:8080/"
        },
        "id": "nyZklHbSasyV",
        "outputId": "168f5101-c747-47d5-afd4-a5ed8672bd4c"
      },
      "execution_count": 24,
      "outputs": [
        {
          "output_type": "stream",
          "name": "stdout",
          "text": [
            "True\n"
          ]
        }
      ]
    },
    {
      "cell_type": "code",
      "source": [
        "def checkColumnSecondName(input, columnName, index):\n",
        "  dfFlaws = pd.DataFrame(columns=['RowIndex', 'ColumnName', 'ColumnValue', 'ColumnIssue','Fixed',\"FixedResult\"])\n",
        "\n",
        "  if pd.isna(input):\n",
        "    issueMessage = 'value is null'\n",
        "    dfFlaws = dfFlaws.append({'RowIndex': index,'ColumnName': columnName, 'ColumnValue': input, 'ColumnIssue': issueMessage, 'Fixed': False, 'FixedResult': 'N/A'}, ignore_index=True)\n",
        "\n",
        "  else:\n",
        "    if boolCheckLengthOverLimitInt(input, 40) == True:\n",
        "      issueMessage = 'value is over length'\n",
        "      dfFlaws = dfFlaws.append({'RowIndex': index,'ColumnName': columnName, 'ColumnValue': input, 'ColumnIssue': issueMessage, 'Fixed': False, 'FixedResult': 'N/A'}, ignore_index=True)\n",
        "\n",
        "    if(checkCaseCorrect(input) == False):\n",
        "      issueMessage = 'case is incorrect'\n",
        "      dfFlaws = dfFlaws.append({'RowIndex': index,'ColumnName': columnName, 'ColumnValue': input, 'ColumnIssue': issueMessage, 'Fixed': False, 'FixedResult': 'N/A'}, ignore_index=True)\n",
        "\n",
        "\n",
        "    # need to search for numbers within\n",
        "    if checkOnlyCharacter(input) == False:\n",
        "      issueMessage = 'not only characters'\n",
        "      dfFlaws = dfFlaws.append({'RowIndex': index,'ColumnName': columnName, 'ColumnValue': input, 'ColumnIssue': issueMessage, 'Fixed': False, 'FixedResult': 'N/A'}, ignore_index=True)\n",
        "\n",
        "    if checkIfSpacesBetweenWords(input) == True:\n",
        "      issueMessage = 'space between words'\n",
        "      dfFlaws = dfFlaws.append({'RowIndex': index,'ColumnName': columnName, 'ColumnValue': input, 'ColumnIssue': issueMessage, 'Fixed': False, 'FixedResult': 'N/A'}, ignore_index=True)\n",
        "  \n",
        "  return dfFlaws"
      ],
      "metadata": {
        "id": "-gkcyz7cfvXp"
      },
      "execution_count": 38,
      "outputs": []
    },
    {
      "cell_type": "markdown",
      "source": [
        "# Check Email "
      ],
      "metadata": {
        "id": "Xy6ieu5cl7V6"
      }
    },
    {
      "cell_type": "code",
      "source": [
        "# check string\n",
        "print(is_string_dtype(df['Email']))"
      ],
      "metadata": {
        "colab": {
          "base_uri": "https://localhost:8080/"
        },
        "id": "2ZtzDmrgl-yh",
        "outputId": "4b149e28-6292-4dbb-db50-d6ece35f70c4"
      },
      "execution_count": 26,
      "outputs": [
        {
          "output_type": "stream",
          "name": "stdout",
          "text": [
            "True\n"
          ]
        }
      ]
    },
    {
      "cell_type": "code",
      "source": [
        "def checkColumnEmail(input, columnName, index):\n",
        "  dfFlaws = pd.DataFrame(columns=['RowIndex', 'ColumnName', 'ColumnValue', 'ColumnIssue','Fixed',\"FixedResult\"])\n",
        "\n",
        "  if boolCheckLengthOverLimitInt(input, 254) == True:\n",
        "    issueMessage = 'value is over length'\n",
        "    dfFlaws = dfFlaws.append({'RowIndex': index,'ColumnName': columnName, 'ColumnValue': input, 'ColumnIssue': issueMessage, 'Fixed': False, 'FixedResult': 'N/A'}, ignore_index=True)\n",
        "\n",
        "  return dfFlaws"
      ],
      "metadata": {
        "id": "mmyjYiArgK6P"
      },
      "execution_count": 27,
      "outputs": []
    },
    {
      "cell_type": "markdown",
      "source": [
        "# Check Gender"
      ],
      "metadata": {
        "id": "mVI-QhFtmxtn"
      }
    },
    {
      "cell_type": "code",
      "source": [
        "def checkColumnGender(input, columnName, index):\n",
        "  dfFlaws = pd.DataFrame(columns=['RowIndex', 'ColumnName', 'ColumnValue', 'ColumnIssue','Fixed',\"FixedResult\"])\n",
        "\n",
        "  if pd.notna(input):\n",
        "    if type(input) == str:\n",
        "      if boolCheckLengthOverLimitInt(input, 6) == True:\n",
        "        issueMessage = 'value is over length'\n",
        "        dfFlaws = dfFlaws.append({'RowIndex': index,'ColumnName': columnName, 'ColumnValue': input, 'ColumnIssue': issueMessage, 'Fixed': False, 'FixedResult': 'N/A'}, ignore_index=True)\n",
        "\n",
        "      if checkMaleOrFemale(input) == False:\n",
        "        issueMessage = 'not male or female'\n",
        "        dfFlaws = dfFlaws.append({'RowIndex': index,'ColumnName': columnName, 'ColumnValue': input, 'ColumnIssue': issueMessage, 'Fixed': False, 'FixedResult': 'N/A'}, ignore_index=True)\n",
        "    else:\n",
        "      issueMessage = 'not string'\n",
        "      dfFlaws = dfFlaws.append({'RowIndex': index,'ColumnName': columnName, 'ColumnValue': input, 'ColumnIssue': issueMessage, 'Fixed': False, 'FixedResult': 'N/A'}, ignore_index=True)\n",
        "  else:\n",
        "      issueMessage = 'value is null'\n",
        "      dfFlaws = dfFlaws.append({'RowIndex': index,'ColumnName': columnName, 'ColumnValue': input, 'ColumnIssue': issueMessage, 'Fixed': False, 'FixedResult': 'N/A'}, ignore_index=True)\n",
        "  \n",
        "  return dfFlaws"
      ],
      "metadata": {
        "id": "uSys4ozRgcSd"
      },
      "execution_count": 39,
      "outputs": []
    },
    {
      "cell_type": "markdown",
      "source": [
        "# Check IP Address"
      ],
      "metadata": {
        "id": "6wRa2qDPNvQy"
      }
    },
    {
      "cell_type": "code",
      "source": [
        "def checkColumnIPAddress(input, columnName, index):\n",
        "  dfFlaws = pd.DataFrame(columns=['RowIndex', 'ColumnName', 'ColumnValue', 'ColumnIssue','Fixed',\"FixedResult\"])\n",
        "\n",
        "  if pd.notna(row['IP_Address']):\n",
        "    if type(row['IP_Address']) == str:\n",
        "\n",
        "      if boolCheckLengthOverLimitInt(row['IP_Address'], 15) == True:\n",
        "        issueMessage = 'value is over length'\n",
        "        dfFlaws = dfFlaws.append({'RowIndex': index,'ColumnName': columnName, 'ColumnValue': input, 'ColumnIssue': issueMessage, 'Fixed': False, 'FixedResult': 'N/A'}, ignore_index=True)\n",
        "      \n",
        "      if checkIfIPV4Valid(row['IP_Address']) == False:\n",
        "        issueMessage = 'not valid IPV4'\n",
        "        dfFlaws = dfFlaws.append({'RowIndex': index,'ColumnName': columnName, 'ColumnValue': input, 'ColumnIssue': issueMessage, 'Fixed': False, 'FixedResult': 'N/A'}, ignore_index=True)\n",
        "\n",
        "    else:\n",
        "      issueMessage = 'not string'\n",
        "      dfFlaws = dfFlaws.append({'RowIndex': index,'ColumnName': columnName, 'ColumnValue': input, 'ColumnIssue': issueMessage, 'Fixed': False, 'FixedResult': 'N/A'}, ignore_index=True)\n",
        "\n",
        "  else:\n",
        "    issueMessage = 'value is null'\n",
        "    dfFlaws = dfFlaws.append({'RowIndex': index,'ColumnName': columnName, 'ColumnValue': input, 'ColumnIssue': issueMessage, 'Fixed': False, 'FixedResult': 'N/A'}, ignore_index=True)\n",
        "  \n",
        "  return dfFlaws"
      ],
      "metadata": {
        "id": "orU2uDQlg0df"
      },
      "execution_count": 40,
      "outputs": []
    },
    {
      "cell_type": "markdown",
      "source": [
        "# Check Date of Birth"
      ],
      "metadata": {
        "id": "tDwinK76Pi-f"
      }
    },
    {
      "cell_type": "code",
      "source": [
        "def checkColumnDateOfBirth(input, columnName, index):\n",
        "  dfFlaws = pd.DataFrame(columns=['RowIndex', 'ColumnName', 'ColumnValue', 'ColumnIssue','Fixed',\"FixedResult\"])\n",
        "\n",
        "  if pd.notna(row['Date_of_Birth']):\n",
        "    if type(row['Date_of_Birth']) == str:\n",
        "\n",
        "      if boolCheckLengthOverLimitInt(row['Date_of_Birth'], 10) == True:\n",
        "        issueMessage = 'value is over length'\n",
        "        dfFlaws = dfFlaws.append({'RowIndex': index,'ColumnName': columnName, 'ColumnValue': input, 'ColumnIssue': issueMessage, 'Fixed': False, 'FixedResult': 'N/A'}, ignore_index=True)\n",
        "      \n",
        "      if checkFormatDate(row['Date_of_Birth']) == False:\n",
        "        issueMessage = 'date of birth format no dd/mm/yyyy'\n",
        "        dfFlaws = dfFlaws.append({'RowIndex': index,'ColumnName': columnName, 'ColumnValue': input, 'ColumnIssue': issueMessage, 'Fixed': False, 'FixedResult': 'N/A'}, ignore_index=True)\n",
        "      \n",
        "      else:\n",
        "        if check18OrOverBy1stDec2020(row['Date_of_Birth']) == False:\n",
        "           issueMessage = 'Issue with age - not 18 by 1st December 2020'\n",
        "           dfFlaws = dfFlaws.append({'RowIndex': index,'ColumnName': columnName, 'ColumnValue': input, 'ColumnIssue': issueMessage, 'Fixed': False, 'FixedResult': 'N/A'}, ignore_index=True)\n",
        "    else:\n",
        "        issueMessage = 'not string'\n",
        "        dfFlaws = dfFlaws.append({'RowIndex': index,'ColumnName': columnName, 'ColumnValue': input, 'ColumnIssue': issueMessage, 'Fixed': False, 'FixedResult': 'N/A'}, ignore_index=True)\n",
        "\n",
        "  else:\n",
        "    issueMessage = 'value is null'\n",
        "    dfFlaws = dfFlaws.append({'RowIndex': index,'ColumnName': columnName, 'ColumnValue': input, 'ColumnIssue': issueMessage, 'Fixed': False, 'FixedResult': 'N/A'}, ignore_index=True)\n",
        "  \n",
        "  return dfFlaws"
      ],
      "metadata": {
        "id": "0k_L0L58hIwA"
      },
      "execution_count": 41,
      "outputs": []
    },
    {
      "cell_type": "markdown",
      "source": [
        "# Overall"
      ],
      "metadata": {
        "id": "qUKCpG6NeI9N"
      }
    },
    {
      "cell_type": "code",
      "source": [
        "# check each row\n",
        "dfFlaws = pd.DataFrame(columns=['RowIndex', 'ColumnName', 'ColumnValue', 'ColumnIssue','Fixed',\"FixedResult\"])\n",
        "\n",
        "for index, row in df.iterrows():\n",
        "  dfFlawsRefColumn = checkRefColumn(row[\"Ref\"], \"Ref\", index)\n",
        "  if dfFlawsRefColumn.empty == False:\n",
        "    dfFlaws = dfFlaws.append(dfFlawsRefColumn, ignore_index=True)\n",
        "\n",
        "  dfFlawsFirstNameColumn = checkColumnFirstName(row[\"First_Name\"], \"First_Name\", index)\n",
        "  if dfFlawsFirstNameColumn.empty == False:\n",
        "    dfFlaws = dfFlaws.append(dfFlawsFirstNameColumn, ignore_index=True)\n",
        "\n",
        "  dfFlawsLastNameColumn = checkColumnSecondName(row[\"Last_Name\"], \"Last_Name\", index)\n",
        "  if dfFlawsLastNameColumn.empty == False:\n",
        "    dfFlaws = dfFlaws.append(dfFlawsLastNameColumn, ignore_index=True)\n",
        "\n",
        "  dfFlawsEmailColumn = checkColumnEmail(row[\"Email\"], \"Email\", index)\n",
        "  if dfFlawsEmailColumn.empty == False:\n",
        "    dfFlaws = dfFlaws.append(dfFlawsEmailColumn, ignore_index=True)\n",
        "\n",
        "  dfFlawsGenderColumn = checkColumnGender(row[\"Gender\"], \"Gender\", index)\n",
        "  if dfFlawsGenderColumn.empty == False:\n",
        "    dfFlaws = dfFlaws.append(dfFlawsGenderColumn, ignore_index=True)\n",
        "\n",
        "  dfFlawsIPAddressColumn = checkColumnIPAddress(row[\"IP_Address\"], \"IP_Address\", index)\n",
        "  if dfFlawsIPAddressColumn.empty == False:\n",
        "    dfFlaws = dfFlaws.append(dfFlawsIPAddressColumn, ignore_index=True)\n",
        "\n",
        "  dfFlawsDateOfBirthColumn = checkColumnDateOfBirth(row[\"Date_of_Birth\"], \"Date_of_Birth\", index)\n",
        "  if dfFlawsDateOfBirthColumn.empty == False:\n",
        "    dfFlaws = dfFlaws.append(dfFlawsDateOfBirthColumn, ignore_index=True)"
      ],
      "metadata": {
        "id": "GUz4KZ6feLH-"
      },
      "execution_count": 45,
      "outputs": []
    },
    {
      "cell_type": "code",
      "source": [
        "print(dfFlaws.head())"
      ],
      "metadata": {
        "colab": {
          "base_uri": "https://localhost:8080/"
        },
        "id": "JWGIHhQbv5Pz",
        "outputId": "19debb58-629f-4dee-abaf-8f07a3da47ee"
      },
      "execution_count": 49,
      "outputs": [
        {
          "output_type": "stream",
          "name": "stdout",
          "text": [
            "  RowIndex  ColumnName                              ColumnValue  \\\n",
            "0        5  First_Name                               christabel   \n",
            "1        5   Last_Name                                    start   \n",
            "2        8  IP_Address  1df6:b3b9:cdb7:d246:3fe9:7288:46ee:e528   \n",
            "3        8  IP_Address  1df6:b3b9:cdb7:d246:3fe9:7288:46ee:e528   \n",
            "4       26   Last_Name                                      NaN   \n",
            "\n",
            "            ColumnIssue  Fixed FixedResult  \n",
            "0     case is incorrect  False         N/A  \n",
            "1     case is incorrect  False         N/A  \n",
            "2  value is over length  False         N/A  \n",
            "3        not valid IPV4  False         N/A  \n",
            "4         value is null  False         N/A  \n"
          ]
        }
      ]
    },
    {
      "cell_type": "code",
      "source": [
        "dfFlaws.to_csv(\"ProblemsWithData\", sep='\\t', encoding='utf-8')"
      ],
      "metadata": {
        "id": "3giiEpVnIiSN"
      },
      "execution_count": 51,
      "outputs": []
    }
  ]
}
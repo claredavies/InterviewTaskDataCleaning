{
  "nbformat": 4,
  "nbformat_minor": 0,
  "metadata": {
    "colab": {
      "provenance": [],
      "collapsed_sections": [
        "sYZduvOG-NLF",
        "EoXzzGoH-TNj",
        "FQZbeNe1_kLf",
        "xPw5jvnbBU6_",
        "STiXKaTkAxoi",
        "uIzNIorrCei0",
        "Xy6ieu5cl7V6",
        "mVI-QhFtmxtn",
        "6wRa2qDPNvQy",
        "tDwinK76Pi-f",
        "qTOtKY7VWioN"
      ],
      "authorship_tag": "ABX9TyPkGgl+s3elU537GIrD1emI",
      "include_colab_link": true
    },
    "kernelspec": {
      "name": "python3",
      "display_name": "Python 3"
    },
    "language_info": {
      "name": "python"
    }
  },
  "cells": [
    {
      "cell_type": "markdown",
      "metadata": {
        "id": "view-in-github",
        "colab_type": "text"
      },
      "source": [
        "<a href=\"https://colab.research.google.com/github/claredavies/InterviewTaskDataCleaning/blob/main/InterviewDataPrepTask.ipynb\" target=\"_parent\"><img src=\"https://colab.research.google.com/assets/colab-badge.svg\" alt=\"Open In Colab\"/></a>"
      ]
    },
    {
      "cell_type": "markdown",
      "source": [
        "# Libraries"
      ],
      "metadata": {
        "id": "sYZduvOG-NLF"
      }
    },
    {
      "cell_type": "code",
      "execution_count": 6,
      "metadata": {
        "id": "eza77N_D-KUM"
      },
      "outputs": [],
      "source": [
        "import numpy as np\n",
        "from google.colab import files\n",
        "import pandas as pd\n",
        "from matplotlib import pyplot as plt\n",
        "from pandas.api.types import is_numeric_dtype\n",
        "from pandas.api.types import is_string_dtype\n",
        "import re\n",
        "import socket\n",
        "import datetime\n",
        "from datetime import datetime"
      ]
    },
    {
      "cell_type": "code",
      "source": [
        "pd.set_option('max_rows', 99999)\n",
        "pd.set_option('max_colwidth', 400)\n",
        "pd.set_option('display.max_rows', None)"
      ],
      "metadata": {
        "id": "oSin7yeuMauf"
      },
      "execution_count": 7,
      "outputs": []
    },
    {
      "cell_type": "markdown",
      "source": [
        "# Read in files"
      ],
      "metadata": {
        "id": "EoXzzGoH-TNj"
      }
    },
    {
      "cell_type": "code",
      "source": [
        "!git clone https://github.com/claredavies/InterviewTaskDataCleaning.git"
      ],
      "metadata": {
        "colab": {
          "base_uri": "https://localhost:8080/"
        },
        "id": "by8etXVk-lk3",
        "outputId": "7e2439df-d6a5-4b20-c232-a6e9a7712c4f"
      },
      "execution_count": 8,
      "outputs": [
        {
          "output_type": "stream",
          "name": "stdout",
          "text": [
            "Cloning into 'InterviewTaskDataCleaning'...\n",
            "remote: Enumerating objects: 22, done.\u001b[K\n",
            "remote: Counting objects: 100% (22/22), done.\u001b[K\n",
            "remote: Compressing objects: 100% (20/20), done.\u001b[K\n",
            "remote: Total 22 (delta 8), reused 0 (delta 0), pack-reused 0\u001b[K\n",
            "Unpacking objects: 100% (22/22), done.\n"
          ]
        }
      ]
    },
    {
      "cell_type": "code",
      "source": [
        "%cd InterviewTaskDataCleaning"
      ],
      "metadata": {
        "colab": {
          "base_uri": "https://localhost:8080/"
        },
        "id": "1FyOSiFo_M7H",
        "outputId": "c676e08d-ad09-4a05-d291-1bf6e25ebc96"
      },
      "execution_count": 9,
      "outputs": [
        {
          "output_type": "stream",
          "name": "stdout",
          "text": [
            "/content/InterviewTaskDataCleaning\n"
          ]
        }
      ]
    },
    {
      "cell_type": "code",
      "source": [
        "df = pd.read_csv('InputData.csv')\n",
        "df.head(3)"
      ],
      "metadata": {
        "colab": {
          "base_uri": "https://localhost:8080/",
          "height": 144
        },
        "id": "yGrn2o25-skt",
        "outputId": "d51f9f84-a2fd-4dd2-8787-4ae99ef6429d"
      },
      "execution_count": 10,
      "outputs": [
        {
          "output_type": "execute_result",
          "data": {
            "text/plain": [
              "   Ref First_Name Last_Name                   Email Gender      IP_Address  \\\n",
              "0    1   Germayne   Simmons    gsimmons0@cdbaby.com   Male   24.48.223.251   \n",
              "1    2      Cosmo    Pleass   cpleass1@netscape.com   Male   108.87.136.28   \n",
              "2    3     Henrik      Boag  hboag2@bizjournals.com   Male  221.105.60.101   \n",
              "\n",
              "  Date_of_Birth  \n",
              "0    18/11/1959  \n",
              "1    08/11/1935  \n",
              "2    07/10/1989  "
            ],
            "text/html": [
              "\n",
              "  <div id=\"df-c2bb3b9b-bf79-431a-8f4d-4065017c2c83\">\n",
              "    <div class=\"colab-df-container\">\n",
              "      <div>\n",
              "<style scoped>\n",
              "    .dataframe tbody tr th:only-of-type {\n",
              "        vertical-align: middle;\n",
              "    }\n",
              "\n",
              "    .dataframe tbody tr th {\n",
              "        vertical-align: top;\n",
              "    }\n",
              "\n",
              "    .dataframe thead th {\n",
              "        text-align: right;\n",
              "    }\n",
              "</style>\n",
              "<table border=\"1\" class=\"dataframe\">\n",
              "  <thead>\n",
              "    <tr style=\"text-align: right;\">\n",
              "      <th></th>\n",
              "      <th>Ref</th>\n",
              "      <th>First_Name</th>\n",
              "      <th>Last_Name</th>\n",
              "      <th>Email</th>\n",
              "      <th>Gender</th>\n",
              "      <th>IP_Address</th>\n",
              "      <th>Date_of_Birth</th>\n",
              "    </tr>\n",
              "  </thead>\n",
              "  <tbody>\n",
              "    <tr>\n",
              "      <th>0</th>\n",
              "      <td>1</td>\n",
              "      <td>Germayne</td>\n",
              "      <td>Simmons</td>\n",
              "      <td>gsimmons0@cdbaby.com</td>\n",
              "      <td>Male</td>\n",
              "      <td>24.48.223.251</td>\n",
              "      <td>18/11/1959</td>\n",
              "    </tr>\n",
              "    <tr>\n",
              "      <th>1</th>\n",
              "      <td>2</td>\n",
              "      <td>Cosmo</td>\n",
              "      <td>Pleass</td>\n",
              "      <td>cpleass1@netscape.com</td>\n",
              "      <td>Male</td>\n",
              "      <td>108.87.136.28</td>\n",
              "      <td>08/11/1935</td>\n",
              "    </tr>\n",
              "    <tr>\n",
              "      <th>2</th>\n",
              "      <td>3</td>\n",
              "      <td>Henrik</td>\n",
              "      <td>Boag</td>\n",
              "      <td>hboag2@bizjournals.com</td>\n",
              "      <td>Male</td>\n",
              "      <td>221.105.60.101</td>\n",
              "      <td>07/10/1989</td>\n",
              "    </tr>\n",
              "  </tbody>\n",
              "</table>\n",
              "</div>\n",
              "      <button class=\"colab-df-convert\" onclick=\"convertToInteractive('df-c2bb3b9b-bf79-431a-8f4d-4065017c2c83')\"\n",
              "              title=\"Convert this dataframe to an interactive table.\"\n",
              "              style=\"display:none;\">\n",
              "        \n",
              "  <svg xmlns=\"http://www.w3.org/2000/svg\" height=\"24px\"viewBox=\"0 0 24 24\"\n",
              "       width=\"24px\">\n",
              "    <path d=\"M0 0h24v24H0V0z\" fill=\"none\"/>\n",
              "    <path d=\"M18.56 5.44l.94 2.06.94-2.06 2.06-.94-2.06-.94-.94-2.06-.94 2.06-2.06.94zm-11 1L8.5 8.5l.94-2.06 2.06-.94-2.06-.94L8.5 2.5l-.94 2.06-2.06.94zm10 10l.94 2.06.94-2.06 2.06-.94-2.06-.94-.94-2.06-.94 2.06-2.06.94z\"/><path d=\"M17.41 7.96l-1.37-1.37c-.4-.4-.92-.59-1.43-.59-.52 0-1.04.2-1.43.59L10.3 9.45l-7.72 7.72c-.78.78-.78 2.05 0 2.83L4 21.41c.39.39.9.59 1.41.59.51 0 1.02-.2 1.41-.59l7.78-7.78 2.81-2.81c.8-.78.8-2.07 0-2.86zM5.41 20L4 18.59l7.72-7.72 1.47 1.35L5.41 20z\"/>\n",
              "  </svg>\n",
              "      </button>\n",
              "      \n",
              "  <style>\n",
              "    .colab-df-container {\n",
              "      display:flex;\n",
              "      flex-wrap:wrap;\n",
              "      gap: 12px;\n",
              "    }\n",
              "\n",
              "    .colab-df-convert {\n",
              "      background-color: #E8F0FE;\n",
              "      border: none;\n",
              "      border-radius: 50%;\n",
              "      cursor: pointer;\n",
              "      display: none;\n",
              "      fill: #1967D2;\n",
              "      height: 32px;\n",
              "      padding: 0 0 0 0;\n",
              "      width: 32px;\n",
              "    }\n",
              "\n",
              "    .colab-df-convert:hover {\n",
              "      background-color: #E2EBFA;\n",
              "      box-shadow: 0px 1px 2px rgba(60, 64, 67, 0.3), 0px 1px 3px 1px rgba(60, 64, 67, 0.15);\n",
              "      fill: #174EA6;\n",
              "    }\n",
              "\n",
              "    [theme=dark] .colab-df-convert {\n",
              "      background-color: #3B4455;\n",
              "      fill: #D2E3FC;\n",
              "    }\n",
              "\n",
              "    [theme=dark] .colab-df-convert:hover {\n",
              "      background-color: #434B5C;\n",
              "      box-shadow: 0px 1px 3px 1px rgba(0, 0, 0, 0.15);\n",
              "      filter: drop-shadow(0px 1px 2px rgba(0, 0, 0, 0.3));\n",
              "      fill: #FFFFFF;\n",
              "    }\n",
              "  </style>\n",
              "\n",
              "      <script>\n",
              "        const buttonEl =\n",
              "          document.querySelector('#df-c2bb3b9b-bf79-431a-8f4d-4065017c2c83 button.colab-df-convert');\n",
              "        buttonEl.style.display =\n",
              "          google.colab.kernel.accessAllowed ? 'block' : 'none';\n",
              "\n",
              "        async function convertToInteractive(key) {\n",
              "          const element = document.querySelector('#df-c2bb3b9b-bf79-431a-8f4d-4065017c2c83');\n",
              "          const dataTable =\n",
              "            await google.colab.kernel.invokeFunction('convertToInteractive',\n",
              "                                                     [key], {});\n",
              "          if (!dataTable) return;\n",
              "\n",
              "          const docLinkHtml = 'Like what you see? Visit the ' +\n",
              "            '<a target=\"_blank\" href=https://colab.research.google.com/notebooks/data_table.ipynb>data table notebook</a>'\n",
              "            + ' to learn more about interactive tables.';\n",
              "          element.innerHTML = '';\n",
              "          dataTable['output_type'] = 'display_data';\n",
              "          await google.colab.output.renderOutput(dataTable, element);\n",
              "          const docLink = document.createElement('div');\n",
              "          docLink.innerHTML = docLinkHtml;\n",
              "          element.appendChild(docLink);\n",
              "        }\n",
              "      </script>\n",
              "    </div>\n",
              "  </div>\n",
              "  "
            ]
          },
          "metadata": {},
          "execution_count": 10
        }
      ]
    },
    {
      "cell_type": "markdown",
      "source": [
        "# Functions"
      ],
      "metadata": {
        "id": "m1xbAFdAGEux"
      }
    },
    {
      "cell_type": "code",
      "source": [
        "def boolCheckLengthOverLimitString(value, limit):\n",
        "  lengthFound = len(value)\n",
        "  if(lengthFound > limit):\n",
        "    return True\n",
        "  else:\n",
        "    return False"
      ],
      "metadata": {
        "id": "ffk6AfaOKBmi"
      },
      "execution_count": 11,
      "outputs": []
    },
    {
      "cell_type": "code",
      "source": [
        "def boolCheckLengthOverLimitInt(value, limit):\n",
        "  stringValue = str(value)\n",
        "  return boolCheckLengthOverLimitString(stringValue, limit)"
      ],
      "metadata": {
        "id": "ebP1vUyjKWCM"
      },
      "execution_count": 12,
      "outputs": []
    },
    {
      "cell_type": "code",
      "source": [
        "def checkFirstLetterCapitalised(string):\n",
        "  lengthWord = len(string)\n",
        "  return string[0].isupper()"
      ],
      "metadata": {
        "id": "dyjqgweSQgVV"
      },
      "execution_count": 52,
      "outputs": []
    },
    {
      "cell_type": "code",
      "source": [
        "def containsNumber(string):\n",
        "    return any(char.isdigit() for char in string)"
      ],
      "metadata": {
        "id": "iGP7jNXmmg-B"
      },
      "execution_count": 158,
      "outputs": []
    },
    {
      "cell_type": "code",
      "source": [
        "def checkIfSpacesBetweenWords(string):\n",
        "  res = bool(re.search(r\"\\s\", string))\n",
        "  return res"
      ],
      "metadata": {
        "id": "gEw1nnXsjurl"
      },
      "execution_count": 15,
      "outputs": []
    },
    {
      "cell_type": "code",
      "source": [
        "def checkMaleOrFemale(string):\n",
        "  lowercaseString = string.lower()\n",
        "  if lowercaseString == 'female':\n",
        "    return True\n",
        "  elif lowercaseString == 'male':\n",
        "    return True\n",
        "  else:\n",
        "    return False"
      ],
      "metadata": {
        "id": "uUyc1g16nWAf"
      },
      "execution_count": 16,
      "outputs": []
    },
    {
      "cell_type": "code",
      "source": [
        "def checkIfIPV4Valid(string):\n",
        "  try:\n",
        "      socket.inet_aton(string)\n",
        "      return True\n",
        "      # legal\n",
        "  except socket.error:\n",
        "    return False"
      ],
      "metadata": {
        "id": "vxv56EGgOucQ"
      },
      "execution_count": 17,
      "outputs": []
    },
    {
      "cell_type": "code",
      "source": [
        "def checkFormatDate(string):\n",
        "  format = '%d/%m/%Y'\n",
        "  try:\n",
        "    datetime.strptime(string, format)\n",
        "    return True\n",
        "  except ValueError:\n",
        "    return False "
      ],
      "metadata": {
        "id": "lFqaaUezQ6Xx"
      },
      "execution_count": 18,
      "outputs": []
    },
    {
      "cell_type": "code",
      "source": [
        "def check18OrOverBy1stDec2020(startDate):\n",
        "  endDate = '01/12/2020'\n",
        "  endDate = datetime.strptime(endDate, '%d/%m/%Y')\n",
        "  startDate = datetime.strptime(startDate, '%d/%m/%Y')\n",
        "  yearsOld = endDate.year - startDate.year - ((endDate.month, endDate.day) < (startDate.month, startDate.day))\n",
        "  if yearsOld >= 18:\n",
        "    return True\n",
        "  else:\n",
        "    return False"
      ],
      "metadata": {
        "id": "b4aW_RjiSWSx"
      },
      "execution_count": 19,
      "outputs": []
    },
    {
      "cell_type": "code",
      "source": [
        "def createHTMLOfDf(df, name):\n",
        "  html = df.to_html()\n",
        "  \n",
        "  # write html to file\n",
        "  text_file = open(name, \"w\")\n",
        "  text_file.write(html)\n",
        "  text_file.close()"
      ],
      "metadata": {
        "id": "FtZO12l4ZUKc"
      },
      "execution_count": 113,
      "outputs": []
    },
    {
      "cell_type": "code",
      "source": [
        "messageErrorNA = \"Value is NaN\"\n",
        "messageErrorOverLength = \"Length is over the limit\"\n",
        "messageErrorCaseIncorrect = \"Case is incorrect\"\n",
        "messageErrorContainsUnwantedNumbers = \"Unwanted numbers contained\"\n",
        "messageErrorUnwantedSpace = \"Unwanted space\"\n",
        "messageErrorNotMaleOrFemale = \"Not Male or Female\"\n",
        "messageErrorNotString = \"Not a string\"\n",
        "messageErrorNotValidIPAddress = \"Not a valid IPv4\"\n",
        "messageErrorNot18OrOverBy1stDec2020 = \"Not 18 or over by 1st Dec 2020\"\n",
        "messageDateOfBirthIncorrectFormat = \"Date of birth not in format dd/mm/yyyy\""
      ],
      "metadata": {
        "id": "zjIyWrns_9Nc"
      },
      "execution_count": 162,
      "outputs": []
    },
    {
      "cell_type": "markdown",
      "source": [
        "# Check Duplicates"
      ],
      "metadata": {
        "id": "FQZbeNe1_kLf"
      }
    },
    {
      "cell_type": "code",
      "source": [
        "dfWithoutRef = df.drop('Ref', axis=1)\n",
        "dfWithoutRef.head(3)"
      ],
      "metadata": {
        "colab": {
          "base_uri": "https://localhost:8080/",
          "height": 0
        },
        "id": "jYxu7swd_mym",
        "outputId": "bd599378-ae82-4743-e954-937b8f2aea3b"
      },
      "execution_count": 21,
      "outputs": [
        {
          "output_type": "execute_result",
          "data": {
            "text/plain": [
              "  First_Name Last_Name                   Email Gender      IP_Address  \\\n",
              "0   Germayne   Simmons    gsimmons0@cdbaby.com   Male   24.48.223.251   \n",
              "1      Cosmo    Pleass   cpleass1@netscape.com   Male   108.87.136.28   \n",
              "2     Henrik      Boag  hboag2@bizjournals.com   Male  221.105.60.101   \n",
              "\n",
              "  Date_of_Birth  \n",
              "0    18/11/1959  \n",
              "1    08/11/1935  \n",
              "2    07/10/1989  "
            ],
            "text/html": [
              "\n",
              "  <div id=\"df-6e3c9568-06cb-4191-9c7f-21a3fdf9c657\">\n",
              "    <div class=\"colab-df-container\">\n",
              "      <div>\n",
              "<style scoped>\n",
              "    .dataframe tbody tr th:only-of-type {\n",
              "        vertical-align: middle;\n",
              "    }\n",
              "\n",
              "    .dataframe tbody tr th {\n",
              "        vertical-align: top;\n",
              "    }\n",
              "\n",
              "    .dataframe thead th {\n",
              "        text-align: right;\n",
              "    }\n",
              "</style>\n",
              "<table border=\"1\" class=\"dataframe\">\n",
              "  <thead>\n",
              "    <tr style=\"text-align: right;\">\n",
              "      <th></th>\n",
              "      <th>First_Name</th>\n",
              "      <th>Last_Name</th>\n",
              "      <th>Email</th>\n",
              "      <th>Gender</th>\n",
              "      <th>IP_Address</th>\n",
              "      <th>Date_of_Birth</th>\n",
              "    </tr>\n",
              "  </thead>\n",
              "  <tbody>\n",
              "    <tr>\n",
              "      <th>0</th>\n",
              "      <td>Germayne</td>\n",
              "      <td>Simmons</td>\n",
              "      <td>gsimmons0@cdbaby.com</td>\n",
              "      <td>Male</td>\n",
              "      <td>24.48.223.251</td>\n",
              "      <td>18/11/1959</td>\n",
              "    </tr>\n",
              "    <tr>\n",
              "      <th>1</th>\n",
              "      <td>Cosmo</td>\n",
              "      <td>Pleass</td>\n",
              "      <td>cpleass1@netscape.com</td>\n",
              "      <td>Male</td>\n",
              "      <td>108.87.136.28</td>\n",
              "      <td>08/11/1935</td>\n",
              "    </tr>\n",
              "    <tr>\n",
              "      <th>2</th>\n",
              "      <td>Henrik</td>\n",
              "      <td>Boag</td>\n",
              "      <td>hboag2@bizjournals.com</td>\n",
              "      <td>Male</td>\n",
              "      <td>221.105.60.101</td>\n",
              "      <td>07/10/1989</td>\n",
              "    </tr>\n",
              "  </tbody>\n",
              "</table>\n",
              "</div>\n",
              "      <button class=\"colab-df-convert\" onclick=\"convertToInteractive('df-6e3c9568-06cb-4191-9c7f-21a3fdf9c657')\"\n",
              "              title=\"Convert this dataframe to an interactive table.\"\n",
              "              style=\"display:none;\">\n",
              "        \n",
              "  <svg xmlns=\"http://www.w3.org/2000/svg\" height=\"24px\"viewBox=\"0 0 24 24\"\n",
              "       width=\"24px\">\n",
              "    <path d=\"M0 0h24v24H0V0z\" fill=\"none\"/>\n",
              "    <path d=\"M18.56 5.44l.94 2.06.94-2.06 2.06-.94-2.06-.94-.94-2.06-.94 2.06-2.06.94zm-11 1L8.5 8.5l.94-2.06 2.06-.94-2.06-.94L8.5 2.5l-.94 2.06-2.06.94zm10 10l.94 2.06.94-2.06 2.06-.94-2.06-.94-.94-2.06-.94 2.06-2.06.94z\"/><path d=\"M17.41 7.96l-1.37-1.37c-.4-.4-.92-.59-1.43-.59-.52 0-1.04.2-1.43.59L10.3 9.45l-7.72 7.72c-.78.78-.78 2.05 0 2.83L4 21.41c.39.39.9.59 1.41.59.51 0 1.02-.2 1.41-.59l7.78-7.78 2.81-2.81c.8-.78.8-2.07 0-2.86zM5.41 20L4 18.59l7.72-7.72 1.47 1.35L5.41 20z\"/>\n",
              "  </svg>\n",
              "      </button>\n",
              "      \n",
              "  <style>\n",
              "    .colab-df-container {\n",
              "      display:flex;\n",
              "      flex-wrap:wrap;\n",
              "      gap: 12px;\n",
              "    }\n",
              "\n",
              "    .colab-df-convert {\n",
              "      background-color: #E8F0FE;\n",
              "      border: none;\n",
              "      border-radius: 50%;\n",
              "      cursor: pointer;\n",
              "      display: none;\n",
              "      fill: #1967D2;\n",
              "      height: 32px;\n",
              "      padding: 0 0 0 0;\n",
              "      width: 32px;\n",
              "    }\n",
              "\n",
              "    .colab-df-convert:hover {\n",
              "      background-color: #E2EBFA;\n",
              "      box-shadow: 0px 1px 2px rgba(60, 64, 67, 0.3), 0px 1px 3px 1px rgba(60, 64, 67, 0.15);\n",
              "      fill: #174EA6;\n",
              "    }\n",
              "\n",
              "    [theme=dark] .colab-df-convert {\n",
              "      background-color: #3B4455;\n",
              "      fill: #D2E3FC;\n",
              "    }\n",
              "\n",
              "    [theme=dark] .colab-df-convert:hover {\n",
              "      background-color: #434B5C;\n",
              "      box-shadow: 0px 1px 3px 1px rgba(0, 0, 0, 0.15);\n",
              "      filter: drop-shadow(0px 1px 2px rgba(0, 0, 0, 0.3));\n",
              "      fill: #FFFFFF;\n",
              "    }\n",
              "  </style>\n",
              "\n",
              "      <script>\n",
              "        const buttonEl =\n",
              "          document.querySelector('#df-6e3c9568-06cb-4191-9c7f-21a3fdf9c657 button.colab-df-convert');\n",
              "        buttonEl.style.display =\n",
              "          google.colab.kernel.accessAllowed ? 'block' : 'none';\n",
              "\n",
              "        async function convertToInteractive(key) {\n",
              "          const element = document.querySelector('#df-6e3c9568-06cb-4191-9c7f-21a3fdf9c657');\n",
              "          const dataTable =\n",
              "            await google.colab.kernel.invokeFunction('convertToInteractive',\n",
              "                                                     [key], {});\n",
              "          if (!dataTable) return;\n",
              "\n",
              "          const docLinkHtml = 'Like what you see? Visit the ' +\n",
              "            '<a target=\"_blank\" href=https://colab.research.google.com/notebooks/data_table.ipynb>data table notebook</a>'\n",
              "            + ' to learn more about interactive tables.';\n",
              "          element.innerHTML = '';\n",
              "          dataTable['output_type'] = 'display_data';\n",
              "          await google.colab.output.renderOutput(dataTable, element);\n",
              "          const docLink = document.createElement('div');\n",
              "          docLink.innerHTML = docLinkHtml;\n",
              "          element.appendChild(docLink);\n",
              "        }\n",
              "      </script>\n",
              "    </div>\n",
              "  </div>\n",
              "  "
            ]
          },
          "metadata": {},
          "execution_count": 21
        }
      ]
    },
    {
      "cell_type": "code",
      "source": [
        "duplicate = df[dfWithoutRef.duplicated()]\n",
        "print(\"Duplicate Rows :\")\n",
        "print(duplicate)"
      ],
      "metadata": {
        "colab": {
          "base_uri": "https://localhost:8080/"
        },
        "id": "vQQGN6xiAKpb",
        "outputId": "e051a1f0-f451-4e87-c817-8539a9d34172"
      },
      "execution_count": 22,
      "outputs": [
        {
          "output_type": "stream",
          "name": "stdout",
          "text": [
            "Duplicate Rows :\n",
            "Empty DataFrame\n",
            "Columns: [Ref, First_Name, Last_Name, Email, Gender, IP_Address, Date_of_Birth]\n",
            "Index: []\n"
          ]
        }
      ]
    },
    {
      "cell_type": "markdown",
      "source": [
        "# Check size - should be 1000"
      ],
      "metadata": {
        "id": "xPw5jvnbBU6_"
      }
    },
    {
      "cell_type": "code",
      "source": [
        "print(df.shape)"
      ],
      "metadata": {
        "colab": {
          "base_uri": "https://localhost:8080/"
        },
        "id": "V6ndF6SqBvOa",
        "outputId": "ba4626b7-b56d-4650-8c8c-486cdc91c834"
      },
      "execution_count": 23,
      "outputs": [
        {
          "output_type": "stream",
          "name": "stdout",
          "text": [
            "(1000, 7)\n"
          ]
        }
      ]
    },
    {
      "cell_type": "markdown",
      "source": [
        "# Check Ref Column"
      ],
      "metadata": {
        "id": "STiXKaTkAxoi"
      }
    },
    {
      "cell_type": "code",
      "source": [
        "# want to add in check for unique\n",
        "def checkRefColumn(input, columnName, ref):\n",
        "  dfFlaws = pd.DataFrame(columns=['Ref', 'ColumnName', 'ColumnValue', 'ColumnIssue','Fixed',\"FixedResult\"])\n",
        "\n",
        "  if boolCheckLengthOverLimitInt(input, 8) == True:\n",
        "    issueMessage = messageErrorOverLength\n",
        "    dfFlaws = dfFlaws.append({'Ref': ref,'ColumnName': columnName, 'ColumnValue': input, 'ColumnIssue': issueMessage, 'Fixed': False, 'FixedResult': 'N/A'}, ignore_index=True)\n",
        "\n",
        "  elif pd.isna(input):\n",
        "    issueMessage = messageErrorNA\n",
        "    dfFlaws = dfFlaws.append({'Ref': ref, 'ColumnName': columnName, 'ColumnValue': input, 'ColumnIssue': issueMessage, 'Fixed': False, 'FixedResult': 'N/A'}, ignore_index=True)\n",
        "\n",
        "  return dfFlaws"
      ],
      "metadata": {
        "id": "1C7Llqk8dq_t"
      },
      "execution_count": 24,
      "outputs": []
    },
    {
      "cell_type": "markdown",
      "source": [
        "# Check First Name"
      ],
      "metadata": {
        "id": "PMhJRMDGA3Zo"
      }
    },
    {
      "cell_type": "code",
      "source": [
        "def checkColumnFirstName(input, columnName, ref):\n",
        "  dfFlaws = pd.DataFrame(columns=['Ref', 'ColumnName', 'ColumnValue', 'ColumnIssue','Fixed',\"FixedResult\"])\n",
        "\n",
        "  if pd.isna(input):\n",
        "    issueMessage = messageErrorNA\n",
        "    dfFlaws = dfFlaws.append({'Ref': ref,'ColumnName': columnName, 'ColumnValue': input, 'ColumnIssue': issueMessage, 'Fixed': False, 'FixedResult': 'N/A'}, ignore_index=True)\n",
        "\n",
        "  else:\n",
        "    if boolCheckLengthOverLimitInt(input, 20) == True:\n",
        "      issueMessage = messageErrorOverLength\n",
        "      dfFlaws = dfFlaws.append({'Ref': ref,'ColumnName': columnName, 'ColumnValue': input, 'ColumnIssue': issueMessage, 'Fixed': False, 'FixedResult': 'N/A'}, ignore_index=True)\n",
        "\n",
        "\n",
        "    if(checkFirstLetterCapitalised(input) == False):\n",
        "      issueMessage = messageErrorCaseIncorrect\n",
        "      dfFlaws = dfFlaws.append({'Ref': ref,'ColumnName': columnName, 'ColumnValue': input, 'ColumnIssue': issueMessage, 'Fixed': False, 'FixedResult': 'N/A'}, ignore_index=True)\n",
        "\n",
        "    if checkIfSpacesBetweenWords(input) == True:\n",
        "      issueMessage = messageErrorUnwantedSpace\n",
        "      dfFlaws = dfFlaws.append({'Ref': ref,'ColumnName': columnName, 'ColumnValue': input, 'ColumnIssue': issueMessage, 'Fixed': False, 'FixedResult': 'N/A'}, ignore_index=True)\n",
        "\n",
        "    # need to search for numbers within\n",
        "    if containsNumber(input) == True:\n",
        "      issueMessage = messageErrorContainsUnwantedNumbers\n",
        "      dfFlaws = dfFlaws.append({'Ref': ref,'ColumnName': columnName, 'ColumnValue': input, 'ColumnIssue': issueMessage, 'Fixed': False, 'FixedResult': 'N/A'}, ignore_index=True)\n",
        "\n",
        "  return dfFlaws"
      ],
      "metadata": {
        "id": "OpT9wm7BfC0S"
      },
      "execution_count": 166,
      "outputs": []
    },
    {
      "cell_type": "markdown",
      "source": [
        "# Check Second Name"
      ],
      "metadata": {
        "id": "uIzNIorrCei0"
      }
    },
    {
      "cell_type": "code",
      "source": [
        "def checkColumnSecondName(input, columnName, ref):\n",
        "  dfFlaws = pd.DataFrame(columns=['Ref', 'ColumnName', 'ColumnValue', 'ColumnIssue','Fixed',\"FixedResult\"])\n",
        "\n",
        "  if pd.isna(input):\n",
        "    issueMessage = messageErrorNA\n",
        "    dfFlaws = dfFlaws.append({'Ref': ref,'ColumnName': columnName, 'ColumnValue': input, 'ColumnIssue': issueMessage, 'Fixed': False, 'FixedResult': 'N/A'}, ignore_index=True)\n",
        "\n",
        "  else:\n",
        "    if boolCheckLengthOverLimitInt(input, 40) == True:\n",
        "      issueMessage = messageErrorOverLength\n",
        "      dfFlaws = dfFlaws.append({'Ref': ref,'ColumnName': columnName, 'ColumnValue': input, 'ColumnIssue': issueMessage, 'Fixed': False, 'FixedResult': 'N/A'}, ignore_index=True)\n",
        "\n",
        "    if(checkFirstLetterCapitalised(input) == False):\n",
        "      issueMessage = messageErrorCaseIncorrect\n",
        "      dfFlaws = dfFlaws.append({'Ref': ref,'ColumnName': columnName, 'ColumnValue': input, 'ColumnIssue': issueMessage, 'Fixed': False, 'FixedResult': 'N/A'}, ignore_index=True)\n",
        "\n",
        "\n",
        "    # need to search for numbers within\n",
        "    if containsNumber(input) == True:\n",
        "      issueMessage = messageErrorContainsUnwantedNumbers\n",
        "      dfFlaws = dfFlaws.append({'Ref': ref,'ColumnName': columnName, 'ColumnValue': input, 'ColumnIssue': issueMessage, 'Fixed': False, 'FixedResult': 'N/A'}, ignore_index=True)\n",
        "\n",
        "    if checkIfSpacesBetweenWords(input) == True:\n",
        "      issueMessage = messageErrorUnwantedSpace\n",
        "      dfFlaws = dfFlaws.append({'Ref': ref,'ColumnName': columnName, 'ColumnValue': input, 'ColumnIssue': issueMessage, 'Fixed': False, 'FixedResult': 'N/A'}, ignore_index=True)\n",
        "  \n",
        "  return dfFlaws"
      ],
      "metadata": {
        "id": "-gkcyz7cfvXp"
      },
      "execution_count": 167,
      "outputs": []
    },
    {
      "cell_type": "markdown",
      "source": [
        "# Check Email "
      ],
      "metadata": {
        "id": "Xy6ieu5cl7V6"
      }
    },
    {
      "cell_type": "code",
      "source": [
        "def checkColumnEmail(input, columnName, ref):\n",
        "  dfFlaws = pd.DataFrame(columns=['Ref', 'ColumnName', 'ColumnValue', 'ColumnIssue','Fixed',\"FixedResult\"])\n",
        "\n",
        "  if boolCheckLengthOverLimitInt(input, 254) == True:\n",
        "    issueMessage = messageErrorOverLength\n",
        "    dfFlaws = dfFlaws.append({'Ref': ref,'ColumnName': columnName, 'ColumnValue': input, 'ColumnIssue': issueMessage, 'Fixed': False, 'FixedResult': 'N/A'}, ignore_index=True)\n",
        "\n",
        "  return dfFlaws"
      ],
      "metadata": {
        "id": "mmyjYiArgK6P"
      },
      "execution_count": 27,
      "outputs": []
    },
    {
      "cell_type": "markdown",
      "source": [
        "# Check Gender"
      ],
      "metadata": {
        "id": "mVI-QhFtmxtn"
      }
    },
    {
      "cell_type": "code",
      "source": [
        "def checkColumnGender(input, columnName, ref):\n",
        "  dfFlaws = pd.DataFrame(columns=['Ref', 'ColumnName', 'ColumnValue', 'ColumnIssue','Fixed',\"FixedResult\"])\n",
        "\n",
        "  if pd.notna(input):\n",
        "    if type(input) == str:\n",
        "      if boolCheckLengthOverLimitInt(input, 6) == True:\n",
        "        issueMessage = messageErrorOverLength\n",
        "        dfFlaws = dfFlaws.append({'Ref': ref,'ColumnName': columnName, 'ColumnValue': input, 'ColumnIssue': issueMessage, 'Fixed': False, 'FixedResult': 'N/A'}, ignore_index=True)\n",
        "\n",
        "      if checkMaleOrFemale(input) == False:\n",
        "        issueMessage = messageErrorNotMaleOrFemale\n",
        "        dfFlaws = dfFlaws.append({'Ref': ref,'ColumnName': columnName, 'ColumnValue': input, 'ColumnIssue': issueMessage, 'Fixed': False, 'FixedResult': 'N/A'}, ignore_index=True)\n",
        "    \n",
        "      if checkIfSpacesBetweenWords(input) == True:\n",
        "        issueMessage = messageErrorUnwantedSpace\n",
        "        dfFlaws = dfFlaws.append({'Ref': ref,'ColumnName': columnName, 'ColumnValue': input, 'ColumnIssue': issueMessage, 'Fixed': False, 'FixedResult': 'N/A'}, ignore_index=True)\n",
        "  \n",
        "    else:\n",
        "      issueMessage = messageErrorNotString\n",
        "      dfFlaws = dfFlaws.append({'Ref': ref,'ColumnName': columnName, 'ColumnValue': input, 'ColumnIssue': issueMessage, 'Fixed': False, 'FixedResult': 'N/A'}, ignore_index=True)\n",
        "  else:\n",
        "      issueMessage = messageErrorNA\n",
        "      dfFlaws = dfFlaws.append({'Ref': ref,'ColumnName': columnName, 'ColumnValue': input, 'ColumnIssue': issueMessage, 'Fixed': False, 'FixedResult': 'N/A'}, ignore_index=True)\n",
        "  \n",
        "  return dfFlaws"
      ],
      "metadata": {
        "id": "uSys4ozRgcSd"
      },
      "execution_count": 99,
      "outputs": []
    },
    {
      "cell_type": "markdown",
      "source": [
        "# Check IP Address"
      ],
      "metadata": {
        "id": "6wRa2qDPNvQy"
      }
    },
    {
      "cell_type": "code",
      "source": [
        "def checkColumnIPAddress(input, columnName, ref):\n",
        "  dfFlaws = pd.DataFrame(columns=['Ref', 'ColumnName', 'ColumnValue', 'ColumnIssue','Fixed',\"FixedResult\"])\n",
        "\n",
        "  if pd.notna(input):\n",
        "    if type(input) == str:\n",
        "\n",
        "      if boolCheckLengthOverLimitInt(input, 15) == True:\n",
        "        issueMessage = messageErrorOverLength\n",
        "        dfFlaws = dfFlaws.append({'Ref': ref,'ColumnName': columnName, 'ColumnValue': input, 'ColumnIssue': issueMessage, 'Fixed': False, 'FixedResult': 'N/A'}, ignore_index=True)\n",
        "      \n",
        "      if checkIfIPV4Valid(input) == False:\n",
        "        issueMessage = messageErrorNotValidIPAddress \n",
        "        dfFlaws = dfFlaws.append({'Ref': ref,'ColumnName': columnName, 'ColumnValue': input, 'ColumnIssue': issueMessage, 'Fixed': False, 'FixedResult': 'N/A'}, ignore_index=True)\n",
        "\n",
        "    else:\n",
        "      issueMessage = messageErrorNotString\n",
        "      dfFlaws = dfFlaws.append({'Ref': ref,'ColumnName': columnName, 'ColumnValue': input, 'ColumnIssue': issueMessage, 'Fixed': False, 'FixedResult': 'N/A'}, ignore_index=True)\n",
        "\n",
        "  else:\n",
        "    issueMessage = messageErrorNA\n",
        "    dfFlaws = dfFlaws.append({'Ref': ref,'ColumnName': columnName, 'ColumnValue': input, 'ColumnIssue': issueMessage, 'Fixed': False, 'FixedResult': 'N/A'}, ignore_index=True)\n",
        "  \n",
        "  return dfFlaws"
      ],
      "metadata": {
        "id": "orU2uDQlg0df"
      },
      "execution_count": 29,
      "outputs": []
    },
    {
      "cell_type": "markdown",
      "source": [
        "# Check Date of Birth"
      ],
      "metadata": {
        "id": "tDwinK76Pi-f"
      }
    },
    {
      "cell_type": "code",
      "source": [
        "def checkColumnDateOfBirth(input, columnName, ref):\n",
        "  dfFlaws = pd.DataFrame(columns=['Ref', 'ColumnName', 'ColumnValue', 'ColumnIssue','Fixed',\"FixedResult\"])\n",
        "\n",
        "  if pd.notna(input):\n",
        "    if type(input) == str:\n",
        "\n",
        "      if boolCheckLengthOverLimitInt(input, 10) == True:\n",
        "        issueMessage = messageErrorOverLength\n",
        "        dfFlaws = dfFlaws.append({'Ref': ref,'ColumnName': columnName, 'ColumnValue': input, 'ColumnIssue': issueMessage, 'Fixed': False, 'FixedResult': 'N/A'}, ignore_index=True)\n",
        "      \n",
        "      if checkFormatDate(input) == False:\n",
        "        issueMessage = messageDateOfBirthIncorrectFormat\n",
        "        dfFlaws = dfFlaws.append({'Ref': ref,'ColumnName': columnName, 'ColumnValue': input, 'ColumnIssue': issueMessage, 'Fixed': False, 'FixedResult': 'N/A'}, ignore_index=True)\n",
        "      \n",
        "      else:\n",
        "        if check18OrOverBy1stDec2020(input) == False:\n",
        "           issueMessage = messageErrorNot18OrOverBy1stDec2020\n",
        "           dfFlaws = dfFlaws.append({'Ref': ref,'ColumnName': columnName, 'ColumnValue': input, 'ColumnIssue': issueMessage, 'Fixed': False, 'FixedResult': 'N/A'}, ignore_index=True)\n",
        "    else:\n",
        "        issueMessage = messageErrorNotString\n",
        "        dfFlaws = dfFlaws.append({'Ref': ref,'ColumnName': columnName, 'ColumnValue': input, 'ColumnIssue': issueMessage, 'Fixed': False, 'FixedResult': 'N/A'}, ignore_index=True)\n",
        "\n",
        "  else:\n",
        "    issueMessage = messageErrorNA\n",
        "    dfFlaws = dfFlaws.append({'Ref': ref,'ColumnName': columnName, 'ColumnValue': input, 'ColumnIssue': issueMessage, 'Fixed': False, 'FixedResult': 'N/A'}, ignore_index=True)\n",
        "  \n",
        "  return dfFlaws"
      ],
      "metadata": {
        "id": "0k_L0L58hIwA"
      },
      "execution_count": 30,
      "outputs": []
    },
    {
      "cell_type": "markdown",
      "source": [
        "# Find List of Errors"
      ],
      "metadata": {
        "id": "qUKCpG6NeI9N"
      }
    },
    {
      "cell_type": "code",
      "source": [
        "def findErrorsData(dataframe):\n",
        "\n",
        "  # check all values unique\n",
        "  print(\"Are ref unique: \" + str(dataframe['Ref'].is_unique))\n",
        "\n",
        "  # check each row\n",
        "  dfErrorsFound = pd.DataFrame(columns=['Ref', 'ColumnName', 'ColumnValue', 'ColumnIssue','Fixed',\"FixedResult\"])\n",
        "\n",
        "  for index, row in dataframe.iterrows():\n",
        "    dfErrorsFoundRefColumn = checkRefColumn(row[\"Ref\"], \"Ref\", row[\"Ref\"])\n",
        "    if dfErrorsFoundRefColumn.empty == False:\n",
        "      dfErrorsFound = dfErrorsFound.append(dfErrorsFoundRefColumn, ignore_index=True)\n",
        "\n",
        "    dfErrorsFoundFirstNameColumn = checkColumnFirstName(row[\"First_Name\"], \"First_Name\", row[\"Ref\"])\n",
        "    if dfErrorsFoundFirstNameColumn.empty == False:\n",
        "      dfErrorsFound = dfErrorsFound.append(dfErrorsFoundFirstNameColumn, ignore_index=True)\n",
        "\n",
        "    dfErrorsFoundLastNameColumn = checkColumnSecondName(row[\"Last_Name\"], \"Last_Name\", row[\"Ref\"])\n",
        "    if dfErrorsFoundLastNameColumn.empty == False:\n",
        "      dfErrorsFound = dfErrorsFound.append(dfErrorsFoundLastNameColumn, ignore_index=True)\n",
        "\n",
        "    dfErrorsFoundEmailColumn = checkColumnEmail(row[\"Email\"], \"Email\", row[\"Ref\"])\n",
        "    if dfErrorsFoundEmailColumn.empty == False:\n",
        "      dfErrorsFound = dfErrorsFound.append(dfErrorsFoundEmailColumn, ignore_index=True)\n",
        "\n",
        "    dfErrorsFoundGenderColumn = checkColumnGender(row[\"Gender\"], \"Gender\", row[\"Ref\"])\n",
        "    if dfErrorsFoundGenderColumn.empty == False:\n",
        "      dfErrorsFound = dfErrorsFound.append(dfErrorsFoundGenderColumn, ignore_index=True)\n",
        "\n",
        "    dfErrorsFoundIPAddressColumn = checkColumnIPAddress(row[\"IP_Address\"], \"IP_Address\", row[\"Ref\"])\n",
        "    if dfErrorsFoundIPAddressColumn.empty == False:\n",
        "      dfErrorsFound = dfErrorsFound.append(dfErrorsFoundIPAddressColumn, ignore_index=True)\n",
        "\n",
        "    dfErrorsFoundDateOfBirthColumn = checkColumnDateOfBirth(row[\"Date_of_Birth\"], \"Date_of_Birth\", row[\"Ref\"])\n",
        "    if dfErrorsFoundDateOfBirthColumn.empty == False:\n",
        "      dfErrorsFound = dfErrorsFound.append(dfErrorsFoundDateOfBirthColumn, ignore_index=True)\n",
        "\n",
        "  return dfErrorsFound"
      ],
      "metadata": {
        "id": "GUz4KZ6feLH-"
      },
      "execution_count": 211,
      "outputs": []
    },
    {
      "cell_type": "code",
      "source": [
        "dfErrors = findErrorsData(df)"
      ],
      "metadata": {
        "colab": {
          "base_uri": "https://localhost:8080/"
        },
        "id": "oNepHDi3D5ar",
        "outputId": "02aeb5cf-a158-48aa-b79e-4e3c60086e1c"
      },
      "execution_count": 197,
      "outputs": [
        {
          "output_type": "stream",
          "name": "stdout",
          "text": [
            "Are ref unique: True\n"
          ]
        }
      ]
    },
    {
      "cell_type": "code",
      "source": [
        "print(dfErrors.head())"
      ],
      "metadata": {
        "colab": {
          "base_uri": "https://localhost:8080/"
        },
        "id": "JWGIHhQbv5Pz",
        "outputId": "6b7baa20-11fb-411d-bff8-96d005dca5b2"
      },
      "execution_count": 198,
      "outputs": [
        {
          "output_type": "stream",
          "name": "stdout",
          "text": [
            "  Ref  ColumnName                              ColumnValue  \\\n",
            "0   6  First_Name                               christabel   \n",
            "1   6   Last_Name                                    start   \n",
            "2   9  IP_Address  1df6:b3b9:cdb7:d246:3fe9:7288:46ee:e528   \n",
            "3   9  IP_Address  1df6:b3b9:cdb7:d246:3fe9:7288:46ee:e528   \n",
            "4  27   Last_Name                                      NaN   \n",
            "\n",
            "                ColumnIssue  Fixed FixedResult  \n",
            "0         Case is incorrect  False         N/A  \n",
            "1         Case is incorrect  False         N/A  \n",
            "2  Length is over the limit  False         N/A  \n",
            "3          Not a valid IPv4  False         N/A  \n",
            "4              Value is NaN  False         N/A  \n"
          ]
        }
      ]
    },
    {
      "cell_type": "code",
      "source": [
        "createHTMLOfDf(dfErrors, \"DfErrors.html\")"
      ],
      "metadata": {
        "id": "3giiEpVnIiSN"
      },
      "execution_count": 170,
      "outputs": []
    },
    {
      "cell_type": "markdown",
      "source": [
        "# Data Error Exploration"
      ],
      "metadata": {
        "id": "CmrduCGvM2tZ"
      }
    },
    {
      "cell_type": "code",
      "source": [
        "def inspectRowsEffectedByError(dfOriginal, dfErrors, errorMessage):\n",
        "  noRowsOriginalDf = len(dfOriginal.index)\n",
        "  errorDfSpecificErrorMsg = dfErrors[dfErrors['ColumnIssue'] == errorMessage]\n",
        "  print(\"where: \" + errorMessage)\n",
        "  noRowsErrorDfSpecificErrorMsg = len(errorDfSpecificErrorMsg.index)\n",
        "  percentage = (noRowsErrorDfSpecificErrorMsg/noRowsOriginalDf)*100\n",
        "  percentage = str(round(percentage, 2))\n",
        "  print(\"% where : \" + errorMessage + \"  \" + percentage + \"%\") \n",
        "  print()\n",
        "  return errorDfSpecificErrorMsg"
      ],
      "metadata": {
        "id": "AVd7jTj7POGW"
      },
      "execution_count": 81,
      "outputs": []
    },
    {
      "cell_type": "code",
      "source": [
        "# messageErrorNA = \"Value is NaN\"\n",
        "# messageErrorOverLength = \"Length is over the limit\"\n",
        "# messageErrorNotValidIPAddress = \"Not a valid IPv4\"\n",
        "# messageErrorNot18OrOverBy1stDec2020 = \"Not 18 or over by 1st Dec 2020\"\n",
        "# messageErrorNotString = \"Not a string\"\n",
        "\n",
        "# messageErrorCaseIncorrect = \"Case is incorrect\" x\n",
        "# messageErrorNotOnlyCharacter = \"Not only characters contained\" x\n",
        "# messageErrorUnwantedSpace = \"Space between names\" x\n",
        "# messageErrorNotMaleOrFemale = \"Not Male or Female\" x\n",
        "# messageDateOfBirthIncorrectFormat = \"Date of birth not in format dd/mm/yyyy\"x"
      ],
      "metadata": {
        "id": "Oi20DnSuR35X"
      },
      "execution_count": null,
      "outputs": []
    },
    {
      "cell_type": "markdown",
      "source": [
        "# Clean Functions"
      ],
      "metadata": {
        "id": "8i-o2V0BgA1k"
      }
    },
    {
      "cell_type": "code",
      "source": [
        "def removeSpace(value):\n",
        "  valueWithoutSpace = value.replace(\" \", \"\")\n",
        "  return valueWithoutSpace"
      ],
      "metadata": {
        "id": "Nb7vtDwBgUFU"
      },
      "execution_count": 152,
      "outputs": []
    },
    {
      "cell_type": "code",
      "source": [
        "def fixSpace(df, ref, columnName):\n",
        "  row = df[df['Ref'] == ref]\n",
        "  rowValueColumnName = row[columnName].iat[0]\n",
        "  rowValueColumnNameWithoutSpace = removeSpace(rowValueColumnName)\n",
        "  df.loc[df['Ref'] == ref,[columnName]] = rowValueColumnNameWithoutSpace\n",
        "  return df"
      ],
      "metadata": {
        "id": "Mpskw4A7aqsG"
      },
      "execution_count": 216,
      "outputs": []
    },
    {
      "cell_type": "code",
      "source": [
        "def fixNumbersToLetters(df, ref, columnName):\n",
        "  row = df[df['Ref'] == ref]\n",
        "  rowValueColumnName = row[columnName].iat[0]\n",
        "  rowValueColumnNameWithoutNumbers = convertNumbersToLetters(rowValueColumnName)\n",
        "  df.loc[df['Ref'] == ref,[columnName]] = rowValueColumnNameWithoutNumbers\n",
        "  return df"
      ],
      "metadata": {
        "id": "2f0Ng9ZjqXgx"
      },
      "execution_count": 227,
      "outputs": []
    },
    {
      "cell_type": "code",
      "source": [
        "def convertNumbersToLetters(value):\n",
        "  stringWithout0 = value.replace(\"0\", \"o\" )\n",
        "  stringWithout0And1 = stringWithout0.replace(\"1\", \"l\" )\n",
        "  return stringWithout0And1"
      ],
      "metadata": {
        "id": "e8F4w7yjnqCN"
      },
      "execution_count": 183,
      "outputs": []
    },
    {
      "cell_type": "code",
      "source": [
        "def capitalismFirstLetter(df, ref, columnName):\n",
        "  row = df[df['Ref'] == ref]\n",
        "  rowValueColumnName = row[columnName].iat[0]\n",
        "  rowValueColumnNameCapitalised = convertNumbersToLetters(rowValueColumnName)\n",
        "  df.loc[df['Ref'] == ref,[columnName]] = rowValueColumnNameCapitalised.capitalize()\n",
        "  return df"
      ],
      "metadata": {
        "id": "RrhvxSyVwpEP"
      },
      "execution_count": 234,
      "outputs": []
    },
    {
      "cell_type": "code",
      "source": [
        "def replaceGenderTerms(value):\n",
        "  value = str(value)\n",
        "  if value == '1':\n",
        "    value = 'Male'\n",
        "  elif value == '2':\n",
        "    value = 'Female'\n",
        "  elif value == 'm':\n",
        "    value = 'Male'\n",
        "  elif value == 'f':\n",
        "    value = 'Female'\n",
        "  elif value == 'fem':\n",
        "    value = 'Female'\n",
        "  return value"
      ],
      "metadata": {
        "id": "VoNlXKqqyASi"
      },
      "execution_count": 248,
      "outputs": []
    },
    {
      "cell_type": "code",
      "source": [
        "def fixGenderTerms(df, ref, columnName):\n",
        "  row = df[df['Ref'] == ref]\n",
        "  rowValueColumnName = row[columnName].iat[0]\n",
        "  rowValueColumnNameCapitalised = convertNumbersToLetters(rowValueColumnName)\n",
        "  df.loc[df['Ref'] == ref,[columnName]] = replaceGenderTerms(rowValueColumnNameCapitalised)\n",
        "  return df"
      ],
      "metadata": {
        "id": "lqLqNXuByjKs"
      },
      "execution_count": 240,
      "outputs": []
    },
    {
      "cell_type": "markdown",
      "source": [
        "# To fix"
      ],
      "metadata": {
        "id": "PQYAQx-NWlhG"
      }
    },
    {
      "cell_type": "markdown",
      "source": [
        "Fix unwanted space"
      ],
      "metadata": {
        "id": "Vofqxqkyhw0J"
      }
    },
    {
      "cell_type": "code",
      "source": [
        "dfClean = df.copy()"
      ],
      "metadata": {
        "id": "ZPIzAbSWnzRr"
      },
      "execution_count": 249,
      "outputs": []
    },
    {
      "cell_type": "code",
      "source": [
        "# remove unwanted spaces\n",
        "errorDfSpaces = dfErrors[dfErrors['ColumnIssue'] == messageErrorUnwantedSpace]\n",
        "for index, row in errorDfSpaces.iterrows():\n",
        "  dfClean = fixSpace(dfClean, row[\"Ref\"], row[\"ColumnName\"])"
      ],
      "metadata": {
        "id": "IU1uSMwCWPIw"
      },
      "execution_count": 250,
      "outputs": []
    },
    {
      "cell_type": "code",
      "source": [
        "print(dfClean[dfClean['Last_Name'] == \"McCorley\"])"
      ],
      "metadata": {
        "colab": {
          "base_uri": "https://localhost:8080/"
        },
        "id": "FtedTJhst1yi",
        "outputId": "5906a6c8-2b22-4505-e3b9-72d120c54606"
      },
      "execution_count": 251,
      "outputs": [
        {
          "output_type": "stream",
          "name": "stdout",
          "text": [
            "     Ref First_Name Last_Name                     Email Gender     IP_Address  \\\n",
            "100  101      Britt  McCorley  bmccorley2s@illinois.edu   Male  184.157.96.18   \n",
            "\n",
            "    Date_of_Birth  \n",
            "100    18/03/1935  \n"
          ]
        }
      ]
    },
    {
      "cell_type": "code",
      "source": [
        "# remove unwanted numbers\n",
        "errorDfUnwantedNumbers = dfErrors[dfErrors['ColumnIssue'] == messageErrorContainsUnwantedNumbers]\n",
        "for index, row in errorDfUnwantedNumbers.iterrows():\n",
        "  dfClean = fixNumbersToLetters(dfClean, row[\"Ref\"], row[\"ColumnName\"])"
      ],
      "metadata": {
        "id": "FBEL980YriHi"
      },
      "execution_count": 252,
      "outputs": []
    },
    {
      "cell_type": "code",
      "source": [
        "# fix case (first capital)\n",
        "errorDfUnwantedNumbers = dfErrors[dfErrors['ColumnIssue'] == messageErrorCaseIncorrect]\n",
        "for index, row in errorDfUnwantedNumbers.iterrows():\n",
        "  dfClean = capitalismFirstLetter(dfClean, row[\"Ref\"], row[\"ColumnName\"])"
      ],
      "metadata": {
        "id": "tYBt7VFMvu8h"
      },
      "execution_count": 253,
      "outputs": []
    },
    {
      "cell_type": "code",
      "source": [
        "# fix gender\n",
        "errorDfUnwantedNumbers = dfErrors[dfErrors['ColumnIssue'] == messageErrorNotMaleOrFemale]\n",
        "for index, row in errorDfUnwantedNumbers.iterrows():\n",
        "  dfClean = fixGenderTerms(dfClean, row[\"Ref\"], row[\"ColumnName\"])"
      ],
      "metadata": {
        "id": "osTH5310wCM0"
      },
      "execution_count": 254,
      "outputs": []
    },
    {
      "cell_type": "code",
      "source": [
        "# fix date of birth format"
      ],
      "metadata": {
        "id": "j5iWKXkDwKdY"
      },
      "execution_count": null,
      "outputs": []
    },
    {
      "cell_type": "code",
      "source": [
        "dfErrorsCleaned = findErrorsData(dfClean)\n",
        "createHTMLOfDf(dfErrorsCleaned, \"DfErrorsFixErrorsCleaned.html\")"
      ],
      "metadata": {
        "colab": {
          "base_uri": "https://localhost:8080/"
        },
        "id": "S9e3e4AWxZXm",
        "outputId": "9edd83f5-dfa2-4db9-e856-0e696dc4f009"
      },
      "execution_count": 255,
      "outputs": [
        {
          "output_type": "stream",
          "name": "stdout",
          "text": [
            "Are ref unique: True\n"
          ]
        }
      ]
    },
    {
      "cell_type": "markdown",
      "source": [
        "Gender"
      ],
      "metadata": {
        "id": "Y-4xYaJ1Zsmw"
      }
    },
    {
      "cell_type": "code",
      "source": [
        "errorDfSpecificErrorMsg = dfErrors[dfErrors['ColumnIssue'] == messageErrorNotMaleOrFemale]\n",
        "print(errorDfSpecificErrorMsg)\n",
        "\n",
        "genderIsOne = df[df['Gender'] == '1']\n",
        "print(genderIsOne)\n",
        "\n",
        "genderIsTwo = df[df['Gender'] == '2']\n",
        "print(genderIsTwo)\n",
        "\n",
        "genderIsM = df[df['Gender'] == 'm ']\n",
        "print(genderIsM)\n",
        "\n",
        "genderIsF = df[df['Gender'] == 'f ']\n",
        "print(genderIsF)\n",
        "\n",
        "genderIsFem = df[df['Gender'] == 'fem ']\n",
        "print(genderIsFem)"
      ],
      "metadata": {
        "colab": {
          "base_uri": "https://localhost:8080/"
        },
        "id": "IB6gPfvdM5wP",
        "outputId": "e2db2ecc-23e3-4d77-a11c-db4b1559d099"
      },
      "execution_count": 92,
      "outputs": [
        {
          "output_type": "stream",
          "name": "stdout",
          "text": [
            "    Ref ColumnName ColumnValue         ColumnIssue  Fixed FixedResult\n",
            "17  124     Gender           1  Not Male or Female  False         N/A\n",
            "22  158     Gender          m   Not Male or Female  False         N/A\n",
            "42  347     Gender           1  Not Male or Female  False         N/A\n",
            "44  354     Gender           1  Not Male or Female  False         N/A\n",
            "47  402     Gender        fem   Not Male or Female  False         N/A\n",
            "61  521     Gender           2  Not Male or Female  False         N/A\n",
            "67  586     Gender          f   Not Male or Female  False         N/A\n",
            "     Ref First_Name Last_Name                       Email Gender  \\\n",
            "123  124  Benedicta    Nurden    bnurden3f@friendfeed.com      1   \n",
            "346  347     Eadith      Call   ecall9m@deliciousdays.com      1   \n",
            "353  354       Maxy  Skilbeck  mskilbeck9t@friendfeed.com      1   \n",
            "\n",
            "        IP_Address Date_of_Birth  \n",
            "123  97.133.217.98    16/07/1940  \n",
            "346    3.46.15.157    22/06/2003  \n",
            "353  241.81.36.194    03/04/1960  \n",
            "     Ref First_Name Last_Name                            Email Gender  \\\n",
            "520  521     Delano  Kirstein  dkirsteineg@merriam-webster.com      2   \n",
            "\n",
            "        IP_Address Date_of_Birth  \n",
            "520  20.244.21.127    04/05/1990  \n",
            "     Ref First_Name Last_Name                     Email Gender  \\\n",
            "157  158     Willis     Izhak  wizhak4d@yellowpages.com     m    \n",
            "\n",
            "          IP_Address Date_of_Birth  \n",
            "157  113.148.149.188    27/10/1937  \n",
            "     Ref First_Name Last_Name                       Email Gender  \\\n",
            "585  586   Birgitta  Trangmar  btrangmarg9@craigslist.org     f    \n",
            "\n",
            "       IP_Address Date_of_Birth  \n",
            "585  89.110.3.214    23/05/1972  \n",
            "     Ref First_Name Last_Name                   Email Gender       IP_Address  \\\n",
            "401  402    Juanita     Trace  jtraceb5@mediafire.com   fem   125.174.177.143   \n",
            "\n",
            "    Date_of_Birth  \n",
            "401    10/10/1991  \n"
          ]
        }
      ]
    },
    {
      "cell_type": "markdown",
      "source": [
        "messageErrorNotOnlyCharacter"
      ],
      "metadata": {
        "id": "4XxyOmdDZzYS"
      }
    },
    {
      "cell_type": "code",
      "source": [
        "errorDfSpecificErrorMsg = dfErrors[dfErrors['ColumnIssue'] == messageErrorNotOnlyCharacter]\n",
        "print(errorDfSpecificErrorMsg)\n",
        "\n",
        "genderIs1ain = df[df['First_Name'] == '1ain']\n",
        "print(genderIs1ain)"
      ],
      "metadata": {
        "colab": {
          "base_uri": "https://localhost:8080/"
        },
        "id": "-EIfyBa9WpUQ",
        "outputId": "b7000087-41d0-4d36-8b7d-47ec16a44752"
      },
      "execution_count": 111,
      "outputs": [
        {
          "output_type": "stream",
          "name": "stdout",
          "text": [
            "     Ref  ColumnName      ColumnValue                    ColumnIssue  Fixed  \\\n",
            "8     79   Last_Name        O' Markey  Not only characters contained  False   \n",
            "10   101   Last_Name        Mc Corley  Not only characters contained  False   \n",
            "13   111   Last_Name       Le Pruvost  Not only characters contained  False   \n",
            "18   128   Last_Name         Le Franc  Not only characters contained  False   \n",
            "25   180   Last_Name       Van Geffen  Not only characters contained  False   \n",
            "27   192   Last_Name          Hainey`  Not only characters contained  False   \n",
            "28   241   Last_Name           Mc Gee  Not only characters contained  False   \n",
            "34   288  First_Name        Miof mela  Not only characters contained  False   \n",
            "36   298   Last_Name          Gambe11  Not only characters contained  False   \n",
            "38   322   Last_Name           O'Dare  Not only characters contained  False   \n",
            "47   376   Last_Name  Falconer-Taylor  Not only characters contained  False   \n",
            "55   456   Last_Name         O'Cannan  Not only characters contained  False   \n",
            "58   482  First_Name             1ain  Not only characters contained  False   \n",
            "59   495  First_Name        Marie-ann  Not only characters contained  False   \n",
            "67   554  First_Name             0wen  Not only characters contained  False   \n",
            "74   613  First_Name       Anne-marie  Not only characters contained  False   \n",
            "76   639   Last_Name         Van Dijk  Not only characters contained  False   \n",
            "78   643   Last_Name     Surman Wells  Not only characters contained  False   \n",
            "80   647   Last_Name        O'Henehan  Not only characters contained  False   \n",
            "89   708   Last_Name           Du Pre  Not only characters contained  False   \n",
            "93   727   Last_Name         O'Deegan  Not only characters contained  False   \n",
            "97   763  First_Name           D'arcy  Not only characters contained  False   \n",
            "99   771   Last_Name          De Metz  Not only characters contained  False   \n",
            "102  783   Last_Name       O'Doireidh  Not only characters contained  False   \n",
            "104  815   Last_Name       0'Dowgaine  Not only characters contained  False   \n",
            "105  816  First_Name           D'arcy  Not only characters contained  False   \n",
            "108  834   Last_Name       Di Ruggero  Not only characters contained  False   \n",
            "110  859   Last_Name  Lambert-Ciorwyn  Not only characters contained  False   \n",
            "118  893   Last_Name     Donny Dobell  Not only characters contained  False   \n",
            "121  920   Last_Name        Le Lievre  Not only characters contained  False   \n",
            "123  928   Last_Name          Le Ball  Not only characters contained  False   \n",
            "126  938   Last_Name         O'Curran  Not only characters contained  False   \n",
            "127  940   Last_Name        De Cleyne  Not only characters contained  False   \n",
            "131  967   Last_Name    Hanbury-Brown  Not only characters contained  False   \n",
            "\n",
            "    FixedResult  \n",
            "8           N/A  \n",
            "10          N/A  \n",
            "13          N/A  \n",
            "18          N/A  \n",
            "25          N/A  \n",
            "27          N/A  \n",
            "28          N/A  \n",
            "34          N/A  \n",
            "36          N/A  \n",
            "38          N/A  \n",
            "47          N/A  \n",
            "55          N/A  \n",
            "58          N/A  \n",
            "59          N/A  \n",
            "67          N/A  \n",
            "74          N/A  \n",
            "76          N/A  \n",
            "78          N/A  \n",
            "80          N/A  \n",
            "89          N/A  \n",
            "93          N/A  \n",
            "97          N/A  \n",
            "99          N/A  \n",
            "102         N/A  \n",
            "104         N/A  \n",
            "105         N/A  \n",
            "108         N/A  \n",
            "110         N/A  \n",
            "118         N/A  \n",
            "121         N/A  \n",
            "123         N/A  \n",
            "126         N/A  \n",
            "127         N/A  \n",
            "131         N/A  \n",
            "     Ref First_Name Last_Name                    Email Gender     IP_Address  \\\n",
            "481  482       1ain    Freeth  ifreethdd@artisteer.com   Male  162.225.238.5   \n",
            "\n",
            "    Date_of_Birth  \n",
            "481    03/10/1935  \n"
          ]
        }
      ]
    },
    {
      "cell_type": "markdown",
      "source": [
        "date of birth"
      ],
      "metadata": {
        "id": "4474V8pMZ2K_"
      }
    },
    {
      "cell_type": "code",
      "source": [
        "errorDfSpecificErrorMsg = dfErrors[dfErrors['ColumnIssue'] == messageDateOfBirthIncorrectFormat]\n",
        "print(errorDfSpecificErrorMsg)"
      ],
      "metadata": {
        "colab": {
          "base_uri": "https://localhost:8080/"
        },
        "id": "znzjvhSEZ38I",
        "outputId": "8742e725-1593-41bb-e7ad-bf2b9a8d505e"
      },
      "execution_count": 115,
      "outputs": [
        {
          "output_type": "stream",
          "name": "stdout",
          "text": [
            "     Ref     ColumnName  ColumnValue                             ColumnIssue  \\\n",
            "5     36  Date_of_Birth   01/31/1995  Date of birth not in format dd/mm/yyyy   \n",
            "12   102  Date_of_Birth   27/27/1991  Date of birth not in format dd/mm/yyyy   \n",
            "114  878  Date_of_Birth  09-MAY-1956  Date of birth not in format dd/mm/yyyy   \n",
            "130  965  Date_of_Birth  06/05/1943*  Date of birth not in format dd/mm/yyyy   \n",
            "\n",
            "     Fixed FixedResult  \n",
            "5    False         N/A  \n",
            "12   False         N/A  \n",
            "114  False         N/A  \n",
            "130  False         N/A  \n"
          ]
        }
      ]
    },
    {
      "cell_type": "markdown",
      "source": [
        "# To Delete"
      ],
      "metadata": {
        "id": "qTOtKY7VWioN"
      }
    },
    {
      "cell_type": "markdown",
      "source": [
        "To be deleted"
      ],
      "metadata": {
        "id": "nM1Jhyu1R8WS"
      }
    },
    {
      "cell_type": "code",
      "source": [
        "inspectRowsEffectedByError(df, dfErrors, messageErrorNA)\n",
        "\n",
        "inspectRowsEffectedByError(df, dfErrors, messageErrorOverLength)\n",
        "\n",
        "inspectRowsEffectedByError(df, dfErrors, messageErrorNotValidIPAddress)\n",
        "\n",
        "inspectRowsEffectedByError(df, dfErrors, messageErrorNot18OrOverBy1stDec2020)\n",
        "\n",
        "inspectRowsEffectedByError(df, dfErrors, messageErrorNotString)"
      ],
      "metadata": {
        "colab": {
          "base_uri": "https://localhost:8080/",
          "height": 1000
        },
        "id": "5q3CbK_yR7sM",
        "outputId": "78022ff7-3aca-48ab-f9f5-40a7ba4a0076"
      },
      "execution_count": 82,
      "outputs": [
        {
          "output_type": "stream",
          "name": "stdout",
          "text": [
            "where: Value is NaN\n",
            "% where : Value is NaN  0.7%\n",
            "\n",
            "where: Length is over the limit\n",
            "% where : Length is over the limit  0.6%\n",
            "\n",
            "where: Not a valid IPv4\n",
            "% where : Not a valid IPv4  0.6%\n",
            "\n",
            "where: Not 18 or over by 1st Dec 2020\n",
            "% where : Not 18 or over by 1st Dec 2020  4.5%\n",
            "\n"
          ]
        },
        {
          "output_type": "execute_result",
          "data": {
            "text/plain": [
              "     Ref     ColumnName ColumnValue                     ColumnIssue  Fixed  \\\n",
              "6     64  Date_of_Birth  28/06/2003  Not 18 or over by 1st Dec 2020  False   \n",
              "7     77  Date_of_Birth  18/10/2004  Not 18 or over by 1st Dec 2020  False   \n",
              "15   119  Date_of_Birth  21/12/2003  Not 18 or over by 1st Dec 2020  False   \n",
              "16   120  Date_of_Birth  23/06/2004  Not 18 or over by 1st Dec 2020  False   \n",
              "20   133  Date_of_Birth  25/03/2003  Not 18 or over by 1st Dec 2020  False   \n",
              "21   145  Date_of_Birth  21/03/2005  Not 18 or over by 1st Dec 2020  False   \n",
              "31   249  Date_of_Birth  08/07/2005  Not 18 or over by 1st Dec 2020  False   \n",
              "35   308  Date_of_Birth  26/07/2004  Not 18 or over by 1st Dec 2020  False   \n",
              "37   328  Date_of_Birth  15/09/2004  Not 18 or over by 1st Dec 2020  False   \n",
              "38   329  Date_of_Birth  30/09/2005  Not 18 or over by 1st Dec 2020  False   \n",
              "39   331  Date_of_Birth  01/08/2005  Not 18 or over by 1st Dec 2020  False   \n",
              "40   335  Date_of_Birth  20/09/2005  Not 18 or over by 1st Dec 2020  False   \n",
              "43   347  Date_of_Birth  22/06/2003  Not 18 or over by 1st Dec 2020  False   \n",
              "46   396  Date_of_Birth  24/09/2005  Not 18 or over by 1st Dec 2020  False   \n",
              "48   415  Date_of_Birth  05/02/2004  Not 18 or over by 1st Dec 2020  False   \n",
              "53   479  Date_of_Birth  26/12/2003  Not 18 or over by 1st Dec 2020  False   \n",
              "57   495  Date_of_Birth  07/07/2003  Not 18 or over by 1st Dec 2020  False   \n",
              "58   499  Date_of_Birth  01/11/2005  Not 18 or over by 1st Dec 2020  False   \n",
              "60   516  Date_of_Birth  18/07/2003  Not 18 or over by 1st Dec 2020  False   \n",
              "62   525  Date_of_Birth  05/04/2004  Not 18 or over by 1st Dec 2020  False   \n",
              "65   562  Date_of_Birth  13/04/2003  Not 18 or over by 1st Dec 2020  False   \n",
              "66   583  Date_of_Birth  17/11/2005  Not 18 or over by 1st Dec 2020  False   \n",
              "68   596  Date_of_Birth  04/04/2005  Not 18 or over by 1st Dec 2020  False   \n",
              "69   611  Date_of_Birth  17/10/2004  Not 18 or over by 1st Dec 2020  False   \n",
              "71   613  Date_of_Birth  06/07/2004  Not 18 or over by 1st Dec 2020  False   \n",
              "77   647  Date_of_Birth  08/08/2005  Not 18 or over by 1st Dec 2020  False   \n",
              "78   655  Date_of_Birth  30/09/2004  Not 18 or over by 1st Dec 2020  False   \n",
              "79   659  Date_of_Birth  31/03/2004  Not 18 or over by 1st Dec 2020  False   \n",
              "80   662  Date_of_Birth  20/04/2004  Not 18 or over by 1st Dec 2020  False   \n",
              "81   686  Date_of_Birth  01/07/2043  Not 18 or over by 1st Dec 2020  False   \n",
              "83   696  Date_of_Birth  22/07/2005  Not 18 or over by 1st Dec 2020  False   \n",
              "84   698  Date_of_Birth  14/07/2020  Not 18 or over by 1st Dec 2020  False   \n",
              "87   714  Date_of_Birth  10/11/2003  Not 18 or over by 1st Dec 2020  False   \n",
              "88   722  Date_of_Birth  31/08/2003  Not 18 or over by 1st Dec 2020  False   \n",
              "90   751  Date_of_Birth  20/04/2005  Not 18 or over by 1st Dec 2020  False   \n",
              "94   765  Date_of_Birth  26/02/2005  Not 18 or over by 1st Dec 2020  False   \n",
              "97   771  Date_of_Birth  30/11/2003  Not 18 or over by 1st Dec 2020  False   \n",
              "102  819  Date_of_Birth  15/09/2003  Not 18 or over by 1st Dec 2020  False   \n",
              "103  833  Date_of_Birth  17/07/2004  Not 18 or over by 1st Dec 2020  False   \n",
              "107  861  Date_of_Birth  29/08/2005  Not 18 or over by 1st Dec 2020  False   \n",
              "108  868  Date_of_Birth  14/10/2004  Not 18 or over by 1st Dec 2020  False   \n",
              "116  895  Date_of_Birth  16/05/2004  Not 18 or over by 1st Dec 2020  False   \n",
              "121  934  Date_of_Birth  16/04/2004  Not 18 or over by 1st Dec 2020  False   \n",
              "128  979  Date_of_Birth  20/01/2005  Not 18 or over by 1st Dec 2020  False   \n",
              "129  991  Date_of_Birth  30/06/2005  Not 18 or over by 1st Dec 2020  False   \n",
              "\n",
              "    FixedResult  \n",
              "6           N/A  \n",
              "7           N/A  \n",
              "15          N/A  \n",
              "16          N/A  \n",
              "20          N/A  \n",
              "21          N/A  \n",
              "31          N/A  \n",
              "35          N/A  \n",
              "37          N/A  \n",
              "38          N/A  \n",
              "39          N/A  \n",
              "40          N/A  \n",
              "43          N/A  \n",
              "46          N/A  \n",
              "48          N/A  \n",
              "53          N/A  \n",
              "57          N/A  \n",
              "58          N/A  \n",
              "60          N/A  \n",
              "62          N/A  \n",
              "65          N/A  \n",
              "66          N/A  \n",
              "68          N/A  \n",
              "69          N/A  \n",
              "71          N/A  \n",
              "77          N/A  \n",
              "78          N/A  \n",
              "79          N/A  \n",
              "80          N/A  \n",
              "81          N/A  \n",
              "83          N/A  \n",
              "84          N/A  \n",
              "87          N/A  \n",
              "88          N/A  \n",
              "90          N/A  \n",
              "94          N/A  \n",
              "97          N/A  \n",
              "102         N/A  \n",
              "103         N/A  \n",
              "107         N/A  \n",
              "108         N/A  \n",
              "116         N/A  \n",
              "121         N/A  \n",
              "128         N/A  \n",
              "129         N/A  "
            ],
            "text/html": [
              "\n",
              "  <div id=\"df-2aedd82c-757c-4011-9f48-8c57d57d151a\">\n",
              "    <div class=\"colab-df-container\">\n",
              "      <div>\n",
              "<style scoped>\n",
              "    .dataframe tbody tr th:only-of-type {\n",
              "        vertical-align: middle;\n",
              "    }\n",
              "\n",
              "    .dataframe tbody tr th {\n",
              "        vertical-align: top;\n",
              "    }\n",
              "\n",
              "    .dataframe thead th {\n",
              "        text-align: right;\n",
              "    }\n",
              "</style>\n",
              "<table border=\"1\" class=\"dataframe\">\n",
              "  <thead>\n",
              "    <tr style=\"text-align: right;\">\n",
              "      <th></th>\n",
              "      <th>Ref</th>\n",
              "      <th>ColumnName</th>\n",
              "      <th>ColumnValue</th>\n",
              "      <th>ColumnIssue</th>\n",
              "      <th>Fixed</th>\n",
              "      <th>FixedResult</th>\n",
              "    </tr>\n",
              "  </thead>\n",
              "  <tbody>\n",
              "    <tr>\n",
              "      <th>6</th>\n",
              "      <td>64</td>\n",
              "      <td>Date_of_Birth</td>\n",
              "      <td>28/06/2003</td>\n",
              "      <td>Not 18 or over by 1st Dec 2020</td>\n",
              "      <td>False</td>\n",
              "      <td>N/A</td>\n",
              "    </tr>\n",
              "    <tr>\n",
              "      <th>7</th>\n",
              "      <td>77</td>\n",
              "      <td>Date_of_Birth</td>\n",
              "      <td>18/10/2004</td>\n",
              "      <td>Not 18 or over by 1st Dec 2020</td>\n",
              "      <td>False</td>\n",
              "      <td>N/A</td>\n",
              "    </tr>\n",
              "    <tr>\n",
              "      <th>15</th>\n",
              "      <td>119</td>\n",
              "      <td>Date_of_Birth</td>\n",
              "      <td>21/12/2003</td>\n",
              "      <td>Not 18 or over by 1st Dec 2020</td>\n",
              "      <td>False</td>\n",
              "      <td>N/A</td>\n",
              "    </tr>\n",
              "    <tr>\n",
              "      <th>16</th>\n",
              "      <td>120</td>\n",
              "      <td>Date_of_Birth</td>\n",
              "      <td>23/06/2004</td>\n",
              "      <td>Not 18 or over by 1st Dec 2020</td>\n",
              "      <td>False</td>\n",
              "      <td>N/A</td>\n",
              "    </tr>\n",
              "    <tr>\n",
              "      <th>20</th>\n",
              "      <td>133</td>\n",
              "      <td>Date_of_Birth</td>\n",
              "      <td>25/03/2003</td>\n",
              "      <td>Not 18 or over by 1st Dec 2020</td>\n",
              "      <td>False</td>\n",
              "      <td>N/A</td>\n",
              "    </tr>\n",
              "    <tr>\n",
              "      <th>21</th>\n",
              "      <td>145</td>\n",
              "      <td>Date_of_Birth</td>\n",
              "      <td>21/03/2005</td>\n",
              "      <td>Not 18 or over by 1st Dec 2020</td>\n",
              "      <td>False</td>\n",
              "      <td>N/A</td>\n",
              "    </tr>\n",
              "    <tr>\n",
              "      <th>31</th>\n",
              "      <td>249</td>\n",
              "      <td>Date_of_Birth</td>\n",
              "      <td>08/07/2005</td>\n",
              "      <td>Not 18 or over by 1st Dec 2020</td>\n",
              "      <td>False</td>\n",
              "      <td>N/A</td>\n",
              "    </tr>\n",
              "    <tr>\n",
              "      <th>35</th>\n",
              "      <td>308</td>\n",
              "      <td>Date_of_Birth</td>\n",
              "      <td>26/07/2004</td>\n",
              "      <td>Not 18 or over by 1st Dec 2020</td>\n",
              "      <td>False</td>\n",
              "      <td>N/A</td>\n",
              "    </tr>\n",
              "    <tr>\n",
              "      <th>37</th>\n",
              "      <td>328</td>\n",
              "      <td>Date_of_Birth</td>\n",
              "      <td>15/09/2004</td>\n",
              "      <td>Not 18 or over by 1st Dec 2020</td>\n",
              "      <td>False</td>\n",
              "      <td>N/A</td>\n",
              "    </tr>\n",
              "    <tr>\n",
              "      <th>38</th>\n",
              "      <td>329</td>\n",
              "      <td>Date_of_Birth</td>\n",
              "      <td>30/09/2005</td>\n",
              "      <td>Not 18 or over by 1st Dec 2020</td>\n",
              "      <td>False</td>\n",
              "      <td>N/A</td>\n",
              "    </tr>\n",
              "    <tr>\n",
              "      <th>39</th>\n",
              "      <td>331</td>\n",
              "      <td>Date_of_Birth</td>\n",
              "      <td>01/08/2005</td>\n",
              "      <td>Not 18 or over by 1st Dec 2020</td>\n",
              "      <td>False</td>\n",
              "      <td>N/A</td>\n",
              "    </tr>\n",
              "    <tr>\n",
              "      <th>40</th>\n",
              "      <td>335</td>\n",
              "      <td>Date_of_Birth</td>\n",
              "      <td>20/09/2005</td>\n",
              "      <td>Not 18 or over by 1st Dec 2020</td>\n",
              "      <td>False</td>\n",
              "      <td>N/A</td>\n",
              "    </tr>\n",
              "    <tr>\n",
              "      <th>43</th>\n",
              "      <td>347</td>\n",
              "      <td>Date_of_Birth</td>\n",
              "      <td>22/06/2003</td>\n",
              "      <td>Not 18 or over by 1st Dec 2020</td>\n",
              "      <td>False</td>\n",
              "      <td>N/A</td>\n",
              "    </tr>\n",
              "    <tr>\n",
              "      <th>46</th>\n",
              "      <td>396</td>\n",
              "      <td>Date_of_Birth</td>\n",
              "      <td>24/09/2005</td>\n",
              "      <td>Not 18 or over by 1st Dec 2020</td>\n",
              "      <td>False</td>\n",
              "      <td>N/A</td>\n",
              "    </tr>\n",
              "    <tr>\n",
              "      <th>48</th>\n",
              "      <td>415</td>\n",
              "      <td>Date_of_Birth</td>\n",
              "      <td>05/02/2004</td>\n",
              "      <td>Not 18 or over by 1st Dec 2020</td>\n",
              "      <td>False</td>\n",
              "      <td>N/A</td>\n",
              "    </tr>\n",
              "    <tr>\n",
              "      <th>53</th>\n",
              "      <td>479</td>\n",
              "      <td>Date_of_Birth</td>\n",
              "      <td>26/12/2003</td>\n",
              "      <td>Not 18 or over by 1st Dec 2020</td>\n",
              "      <td>False</td>\n",
              "      <td>N/A</td>\n",
              "    </tr>\n",
              "    <tr>\n",
              "      <th>57</th>\n",
              "      <td>495</td>\n",
              "      <td>Date_of_Birth</td>\n",
              "      <td>07/07/2003</td>\n",
              "      <td>Not 18 or over by 1st Dec 2020</td>\n",
              "      <td>False</td>\n",
              "      <td>N/A</td>\n",
              "    </tr>\n",
              "    <tr>\n",
              "      <th>58</th>\n",
              "      <td>499</td>\n",
              "      <td>Date_of_Birth</td>\n",
              "      <td>01/11/2005</td>\n",
              "      <td>Not 18 or over by 1st Dec 2020</td>\n",
              "      <td>False</td>\n",
              "      <td>N/A</td>\n",
              "    </tr>\n",
              "    <tr>\n",
              "      <th>60</th>\n",
              "      <td>516</td>\n",
              "      <td>Date_of_Birth</td>\n",
              "      <td>18/07/2003</td>\n",
              "      <td>Not 18 or over by 1st Dec 2020</td>\n",
              "      <td>False</td>\n",
              "      <td>N/A</td>\n",
              "    </tr>\n",
              "    <tr>\n",
              "      <th>62</th>\n",
              "      <td>525</td>\n",
              "      <td>Date_of_Birth</td>\n",
              "      <td>05/04/2004</td>\n",
              "      <td>Not 18 or over by 1st Dec 2020</td>\n",
              "      <td>False</td>\n",
              "      <td>N/A</td>\n",
              "    </tr>\n",
              "    <tr>\n",
              "      <th>65</th>\n",
              "      <td>562</td>\n",
              "      <td>Date_of_Birth</td>\n",
              "      <td>13/04/2003</td>\n",
              "      <td>Not 18 or over by 1st Dec 2020</td>\n",
              "      <td>False</td>\n",
              "      <td>N/A</td>\n",
              "    </tr>\n",
              "    <tr>\n",
              "      <th>66</th>\n",
              "      <td>583</td>\n",
              "      <td>Date_of_Birth</td>\n",
              "      <td>17/11/2005</td>\n",
              "      <td>Not 18 or over by 1st Dec 2020</td>\n",
              "      <td>False</td>\n",
              "      <td>N/A</td>\n",
              "    </tr>\n",
              "    <tr>\n",
              "      <th>68</th>\n",
              "      <td>596</td>\n",
              "      <td>Date_of_Birth</td>\n",
              "      <td>04/04/2005</td>\n",
              "      <td>Not 18 or over by 1st Dec 2020</td>\n",
              "      <td>False</td>\n",
              "      <td>N/A</td>\n",
              "    </tr>\n",
              "    <tr>\n",
              "      <th>69</th>\n",
              "      <td>611</td>\n",
              "      <td>Date_of_Birth</td>\n",
              "      <td>17/10/2004</td>\n",
              "      <td>Not 18 or over by 1st Dec 2020</td>\n",
              "      <td>False</td>\n",
              "      <td>N/A</td>\n",
              "    </tr>\n",
              "    <tr>\n",
              "      <th>71</th>\n",
              "      <td>613</td>\n",
              "      <td>Date_of_Birth</td>\n",
              "      <td>06/07/2004</td>\n",
              "      <td>Not 18 or over by 1st Dec 2020</td>\n",
              "      <td>False</td>\n",
              "      <td>N/A</td>\n",
              "    </tr>\n",
              "    <tr>\n",
              "      <th>77</th>\n",
              "      <td>647</td>\n",
              "      <td>Date_of_Birth</td>\n",
              "      <td>08/08/2005</td>\n",
              "      <td>Not 18 or over by 1st Dec 2020</td>\n",
              "      <td>False</td>\n",
              "      <td>N/A</td>\n",
              "    </tr>\n",
              "    <tr>\n",
              "      <th>78</th>\n",
              "      <td>655</td>\n",
              "      <td>Date_of_Birth</td>\n",
              "      <td>30/09/2004</td>\n",
              "      <td>Not 18 or over by 1st Dec 2020</td>\n",
              "      <td>False</td>\n",
              "      <td>N/A</td>\n",
              "    </tr>\n",
              "    <tr>\n",
              "      <th>79</th>\n",
              "      <td>659</td>\n",
              "      <td>Date_of_Birth</td>\n",
              "      <td>31/03/2004</td>\n",
              "      <td>Not 18 or over by 1st Dec 2020</td>\n",
              "      <td>False</td>\n",
              "      <td>N/A</td>\n",
              "    </tr>\n",
              "    <tr>\n",
              "      <th>80</th>\n",
              "      <td>662</td>\n",
              "      <td>Date_of_Birth</td>\n",
              "      <td>20/04/2004</td>\n",
              "      <td>Not 18 or over by 1st Dec 2020</td>\n",
              "      <td>False</td>\n",
              "      <td>N/A</td>\n",
              "    </tr>\n",
              "    <tr>\n",
              "      <th>81</th>\n",
              "      <td>686</td>\n",
              "      <td>Date_of_Birth</td>\n",
              "      <td>01/07/2043</td>\n",
              "      <td>Not 18 or over by 1st Dec 2020</td>\n",
              "      <td>False</td>\n",
              "      <td>N/A</td>\n",
              "    </tr>\n",
              "    <tr>\n",
              "      <th>83</th>\n",
              "      <td>696</td>\n",
              "      <td>Date_of_Birth</td>\n",
              "      <td>22/07/2005</td>\n",
              "      <td>Not 18 or over by 1st Dec 2020</td>\n",
              "      <td>False</td>\n",
              "      <td>N/A</td>\n",
              "    </tr>\n",
              "    <tr>\n",
              "      <th>84</th>\n",
              "      <td>698</td>\n",
              "      <td>Date_of_Birth</td>\n",
              "      <td>14/07/2020</td>\n",
              "      <td>Not 18 or over by 1st Dec 2020</td>\n",
              "      <td>False</td>\n",
              "      <td>N/A</td>\n",
              "    </tr>\n",
              "    <tr>\n",
              "      <th>87</th>\n",
              "      <td>714</td>\n",
              "      <td>Date_of_Birth</td>\n",
              "      <td>10/11/2003</td>\n",
              "      <td>Not 18 or over by 1st Dec 2020</td>\n",
              "      <td>False</td>\n",
              "      <td>N/A</td>\n",
              "    </tr>\n",
              "    <tr>\n",
              "      <th>88</th>\n",
              "      <td>722</td>\n",
              "      <td>Date_of_Birth</td>\n",
              "      <td>31/08/2003</td>\n",
              "      <td>Not 18 or over by 1st Dec 2020</td>\n",
              "      <td>False</td>\n",
              "      <td>N/A</td>\n",
              "    </tr>\n",
              "    <tr>\n",
              "      <th>90</th>\n",
              "      <td>751</td>\n",
              "      <td>Date_of_Birth</td>\n",
              "      <td>20/04/2005</td>\n",
              "      <td>Not 18 or over by 1st Dec 2020</td>\n",
              "      <td>False</td>\n",
              "      <td>N/A</td>\n",
              "    </tr>\n",
              "    <tr>\n",
              "      <th>94</th>\n",
              "      <td>765</td>\n",
              "      <td>Date_of_Birth</td>\n",
              "      <td>26/02/2005</td>\n",
              "      <td>Not 18 or over by 1st Dec 2020</td>\n",
              "      <td>False</td>\n",
              "      <td>N/A</td>\n",
              "    </tr>\n",
              "    <tr>\n",
              "      <th>97</th>\n",
              "      <td>771</td>\n",
              "      <td>Date_of_Birth</td>\n",
              "      <td>30/11/2003</td>\n",
              "      <td>Not 18 or over by 1st Dec 2020</td>\n",
              "      <td>False</td>\n",
              "      <td>N/A</td>\n",
              "    </tr>\n",
              "    <tr>\n",
              "      <th>102</th>\n",
              "      <td>819</td>\n",
              "      <td>Date_of_Birth</td>\n",
              "      <td>15/09/2003</td>\n",
              "      <td>Not 18 or over by 1st Dec 2020</td>\n",
              "      <td>False</td>\n",
              "      <td>N/A</td>\n",
              "    </tr>\n",
              "    <tr>\n",
              "      <th>103</th>\n",
              "      <td>833</td>\n",
              "      <td>Date_of_Birth</td>\n",
              "      <td>17/07/2004</td>\n",
              "      <td>Not 18 or over by 1st Dec 2020</td>\n",
              "      <td>False</td>\n",
              "      <td>N/A</td>\n",
              "    </tr>\n",
              "    <tr>\n",
              "      <th>107</th>\n",
              "      <td>861</td>\n",
              "      <td>Date_of_Birth</td>\n",
              "      <td>29/08/2005</td>\n",
              "      <td>Not 18 or over by 1st Dec 2020</td>\n",
              "      <td>False</td>\n",
              "      <td>N/A</td>\n",
              "    </tr>\n",
              "    <tr>\n",
              "      <th>108</th>\n",
              "      <td>868</td>\n",
              "      <td>Date_of_Birth</td>\n",
              "      <td>14/10/2004</td>\n",
              "      <td>Not 18 or over by 1st Dec 2020</td>\n",
              "      <td>False</td>\n",
              "      <td>N/A</td>\n",
              "    </tr>\n",
              "    <tr>\n",
              "      <th>116</th>\n",
              "      <td>895</td>\n",
              "      <td>Date_of_Birth</td>\n",
              "      <td>16/05/2004</td>\n",
              "      <td>Not 18 or over by 1st Dec 2020</td>\n",
              "      <td>False</td>\n",
              "      <td>N/A</td>\n",
              "    </tr>\n",
              "    <tr>\n",
              "      <th>121</th>\n",
              "      <td>934</td>\n",
              "      <td>Date_of_Birth</td>\n",
              "      <td>16/04/2004</td>\n",
              "      <td>Not 18 or over by 1st Dec 2020</td>\n",
              "      <td>False</td>\n",
              "      <td>N/A</td>\n",
              "    </tr>\n",
              "    <tr>\n",
              "      <th>128</th>\n",
              "      <td>979</td>\n",
              "      <td>Date_of_Birth</td>\n",
              "      <td>20/01/2005</td>\n",
              "      <td>Not 18 or over by 1st Dec 2020</td>\n",
              "      <td>False</td>\n",
              "      <td>N/A</td>\n",
              "    </tr>\n",
              "    <tr>\n",
              "      <th>129</th>\n",
              "      <td>991</td>\n",
              "      <td>Date_of_Birth</td>\n",
              "      <td>30/06/2005</td>\n",
              "      <td>Not 18 or over by 1st Dec 2020</td>\n",
              "      <td>False</td>\n",
              "      <td>N/A</td>\n",
              "    </tr>\n",
              "  </tbody>\n",
              "</table>\n",
              "</div>\n",
              "      <button class=\"colab-df-convert\" onclick=\"convertToInteractive('df-2aedd82c-757c-4011-9f48-8c57d57d151a')\"\n",
              "              title=\"Convert this dataframe to an interactive table.\"\n",
              "              style=\"display:none;\">\n",
              "        \n",
              "  <svg xmlns=\"http://www.w3.org/2000/svg\" height=\"24px\"viewBox=\"0 0 24 24\"\n",
              "       width=\"24px\">\n",
              "    <path d=\"M0 0h24v24H0V0z\" fill=\"none\"/>\n",
              "    <path d=\"M18.56 5.44l.94 2.06.94-2.06 2.06-.94-2.06-.94-.94-2.06-.94 2.06-2.06.94zm-11 1L8.5 8.5l.94-2.06 2.06-.94-2.06-.94L8.5 2.5l-.94 2.06-2.06.94zm10 10l.94 2.06.94-2.06 2.06-.94-2.06-.94-.94-2.06-.94 2.06-2.06.94z\"/><path d=\"M17.41 7.96l-1.37-1.37c-.4-.4-.92-.59-1.43-.59-.52 0-1.04.2-1.43.59L10.3 9.45l-7.72 7.72c-.78.78-.78 2.05 0 2.83L4 21.41c.39.39.9.59 1.41.59.51 0 1.02-.2 1.41-.59l7.78-7.78 2.81-2.81c.8-.78.8-2.07 0-2.86zM5.41 20L4 18.59l7.72-7.72 1.47 1.35L5.41 20z\"/>\n",
              "  </svg>\n",
              "      </button>\n",
              "      \n",
              "  <style>\n",
              "    .colab-df-container {\n",
              "      display:flex;\n",
              "      flex-wrap:wrap;\n",
              "      gap: 12px;\n",
              "    }\n",
              "\n",
              "    .colab-df-convert {\n",
              "      background-color: #E8F0FE;\n",
              "      border: none;\n",
              "      border-radius: 50%;\n",
              "      cursor: pointer;\n",
              "      display: none;\n",
              "      fill: #1967D2;\n",
              "      height: 32px;\n",
              "      padding: 0 0 0 0;\n",
              "      width: 32px;\n",
              "    }\n",
              "\n",
              "    .colab-df-convert:hover {\n",
              "      background-color: #E2EBFA;\n",
              "      box-shadow: 0px 1px 2px rgba(60, 64, 67, 0.3), 0px 1px 3px 1px rgba(60, 64, 67, 0.15);\n",
              "      fill: #174EA6;\n",
              "    }\n",
              "\n",
              "    [theme=dark] .colab-df-convert {\n",
              "      background-color: #3B4455;\n",
              "      fill: #D2E3FC;\n",
              "    }\n",
              "\n",
              "    [theme=dark] .colab-df-convert:hover {\n",
              "      background-color: #434B5C;\n",
              "      box-shadow: 0px 1px 3px 1px rgba(0, 0, 0, 0.15);\n",
              "      filter: drop-shadow(0px 1px 2px rgba(0, 0, 0, 0.3));\n",
              "      fill: #FFFFFF;\n",
              "    }\n",
              "  </style>\n",
              "\n",
              "      <script>\n",
              "        const buttonEl =\n",
              "          document.querySelector('#df-2aedd82c-757c-4011-9f48-8c57d57d151a button.colab-df-convert');\n",
              "        buttonEl.style.display =\n",
              "          google.colab.kernel.accessAllowed ? 'block' : 'none';\n",
              "\n",
              "        async function convertToInteractive(key) {\n",
              "          const element = document.querySelector('#df-2aedd82c-757c-4011-9f48-8c57d57d151a');\n",
              "          const dataTable =\n",
              "            await google.colab.kernel.invokeFunction('convertToInteractive',\n",
              "                                                     [key], {});\n",
              "          if (!dataTable) return;\n",
              "\n",
              "          const docLinkHtml = 'Like what you see? Visit the ' +\n",
              "            '<a target=\"_blank\" href=https://colab.research.google.com/notebooks/data_table.ipynb>data table notebook</a>'\n",
              "            + ' to learn more about interactive tables.';\n",
              "          element.innerHTML = '';\n",
              "          dataTable['output_type'] = 'display_data';\n",
              "          await google.colab.output.renderOutput(dataTable, element);\n",
              "          const docLink = document.createElement('div');\n",
              "          docLink.innerHTML = docLinkHtml;\n",
              "          element.appendChild(docLink);\n",
              "        }\n",
              "      </script>\n",
              "    </div>\n",
              "  </div>\n",
              "  "
            ]
          },
          "metadata": {},
          "execution_count": 82
        }
      ]
    }
  ]
}
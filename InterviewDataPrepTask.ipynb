{
  "nbformat": 4,
  "nbformat_minor": 0,
  "metadata": {
    "colab": {
      "provenance": [],
      "collapsed_sections": [
        "EoXzzGoH-TNj"
      ],
      "authorship_tag": "ABX9TyOOueVbIPPbwg6gq6vCJfOZ",
      "include_colab_link": true
    },
    "kernelspec": {
      "name": "python3",
      "display_name": "Python 3"
    },
    "language_info": {
      "name": "python"
    }
  },
  "cells": [
    {
      "cell_type": "markdown",
      "metadata": {
        "id": "view-in-github",
        "colab_type": "text"
      },
      "source": [
        "<a href=\"https://colab.research.google.com/github/claredavies/InterviewTaskDataCleaning/blob/main/InterviewDataPrepTask.ipynb\" target=\"_parent\"><img src=\"https://colab.research.google.com/assets/colab-badge.svg\" alt=\"Open In Colab\"/></a>"
      ]
    },
    {
      "cell_type": "markdown",
      "source": [
        "# Libraries"
      ],
      "metadata": {
        "id": "sYZduvOG-NLF"
      }
    },
    {
      "cell_type": "code",
      "execution_count": 37,
      "metadata": {
        "id": "eza77N_D-KUM"
      },
      "outputs": [],
      "source": [
        "import numpy as np\n",
        "from google.colab import files\n",
        "import pandas as pd\n",
        "from matplotlib import pyplot as plt\n",
        "from pandas.api.types import is_numeric_dtype\n",
        "from pandas.api.types import is_string_dtype"
      ]
    },
    {
      "cell_type": "code",
      "source": [
        "pd.set_option('display.max_rows', None)"
      ],
      "metadata": {
        "id": "oSin7yeuMauf"
      },
      "execution_count": 41,
      "outputs": []
    },
    {
      "cell_type": "markdown",
      "source": [
        "# Read in files"
      ],
      "metadata": {
        "id": "EoXzzGoH-TNj"
      }
    },
    {
      "cell_type": "code",
      "source": [
        "!git clone https://github.com/claredavies/InterviewTaskDataCleaning.git"
      ],
      "metadata": {
        "colab": {
          "base_uri": "https://localhost:8080/"
        },
        "id": "by8etXVk-lk3",
        "outputId": "e3b911ca-ba7a-4d06-c5ec-c427e31259e2"
      },
      "execution_count": 2,
      "outputs": [
        {
          "output_type": "stream",
          "name": "stdout",
          "text": [
            "Cloning into 'InterviewTaskDataCleaning'...\n",
            "remote: Enumerating objects: 13, done.\u001b[K\n",
            "remote: Counting objects: 100% (13/13), done.\u001b[K\n",
            "remote: Compressing objects: 100% (11/11), done.\u001b[K\n",
            "remote: Total 13 (delta 2), reused 0 (delta 0), pack-reused 0\u001b[K\n",
            "Unpacking objects: 100% (13/13), done.\n"
          ]
        }
      ]
    },
    {
      "cell_type": "code",
      "source": [
        "%cd InterviewTaskDataCleaning"
      ],
      "metadata": {
        "colab": {
          "base_uri": "https://localhost:8080/"
        },
        "id": "1FyOSiFo_M7H",
        "outputId": "8417de3f-68be-48b9-bd6e-77ea8ed322f9"
      },
      "execution_count": 3,
      "outputs": [
        {
          "output_type": "stream",
          "name": "stdout",
          "text": [
            "/content/InterviewTaskDataCleaning\n"
          ]
        }
      ]
    },
    {
      "cell_type": "code",
      "source": [
        "df = pd.read_csv('InputData.csv')\n",
        "df.head(3)"
      ],
      "metadata": {
        "colab": {
          "base_uri": "https://localhost:8080/",
          "height": 0
        },
        "id": "yGrn2o25-skt",
        "outputId": "17f02383-8033-4c09-9a46-b8bf8da95310"
      },
      "execution_count": 4,
      "outputs": [
        {
          "output_type": "execute_result",
          "data": {
            "text/plain": [
              "   Ref First_Name Last_Name                   Email Gender      IP_Address  \\\n",
              "0    1   Germayne   Simmons    gsimmons0@cdbaby.com   Male   24.48.223.251   \n",
              "1    2      Cosmo    Pleass   cpleass1@netscape.com   Male   108.87.136.28   \n",
              "2    3     Henrik      Boag  hboag2@bizjournals.com   Male  221.105.60.101   \n",
              "\n",
              "  Date_of_Birth  \n",
              "0    18/11/1959  \n",
              "1    08/11/1935  \n",
              "2    07/10/1989  "
            ],
            "text/html": [
              "\n",
              "  <div id=\"df-811636d8-05fd-42b7-81cc-950a8824694b\">\n",
              "    <div class=\"colab-df-container\">\n",
              "      <div>\n",
              "<style scoped>\n",
              "    .dataframe tbody tr th:only-of-type {\n",
              "        vertical-align: middle;\n",
              "    }\n",
              "\n",
              "    .dataframe tbody tr th {\n",
              "        vertical-align: top;\n",
              "    }\n",
              "\n",
              "    .dataframe thead th {\n",
              "        text-align: right;\n",
              "    }\n",
              "</style>\n",
              "<table border=\"1\" class=\"dataframe\">\n",
              "  <thead>\n",
              "    <tr style=\"text-align: right;\">\n",
              "      <th></th>\n",
              "      <th>Ref</th>\n",
              "      <th>First_Name</th>\n",
              "      <th>Last_Name</th>\n",
              "      <th>Email</th>\n",
              "      <th>Gender</th>\n",
              "      <th>IP_Address</th>\n",
              "      <th>Date_of_Birth</th>\n",
              "    </tr>\n",
              "  </thead>\n",
              "  <tbody>\n",
              "    <tr>\n",
              "      <th>0</th>\n",
              "      <td>1</td>\n",
              "      <td>Germayne</td>\n",
              "      <td>Simmons</td>\n",
              "      <td>gsimmons0@cdbaby.com</td>\n",
              "      <td>Male</td>\n",
              "      <td>24.48.223.251</td>\n",
              "      <td>18/11/1959</td>\n",
              "    </tr>\n",
              "    <tr>\n",
              "      <th>1</th>\n",
              "      <td>2</td>\n",
              "      <td>Cosmo</td>\n",
              "      <td>Pleass</td>\n",
              "      <td>cpleass1@netscape.com</td>\n",
              "      <td>Male</td>\n",
              "      <td>108.87.136.28</td>\n",
              "      <td>08/11/1935</td>\n",
              "    </tr>\n",
              "    <tr>\n",
              "      <th>2</th>\n",
              "      <td>3</td>\n",
              "      <td>Henrik</td>\n",
              "      <td>Boag</td>\n",
              "      <td>hboag2@bizjournals.com</td>\n",
              "      <td>Male</td>\n",
              "      <td>221.105.60.101</td>\n",
              "      <td>07/10/1989</td>\n",
              "    </tr>\n",
              "  </tbody>\n",
              "</table>\n",
              "</div>\n",
              "      <button class=\"colab-df-convert\" onclick=\"convertToInteractive('df-811636d8-05fd-42b7-81cc-950a8824694b')\"\n",
              "              title=\"Convert this dataframe to an interactive table.\"\n",
              "              style=\"display:none;\">\n",
              "        \n",
              "  <svg xmlns=\"http://www.w3.org/2000/svg\" height=\"24px\"viewBox=\"0 0 24 24\"\n",
              "       width=\"24px\">\n",
              "    <path d=\"M0 0h24v24H0V0z\" fill=\"none\"/>\n",
              "    <path d=\"M18.56 5.44l.94 2.06.94-2.06 2.06-.94-2.06-.94-.94-2.06-.94 2.06-2.06.94zm-11 1L8.5 8.5l.94-2.06 2.06-.94-2.06-.94L8.5 2.5l-.94 2.06-2.06.94zm10 10l.94 2.06.94-2.06 2.06-.94-2.06-.94-.94-2.06-.94 2.06-2.06.94z\"/><path d=\"M17.41 7.96l-1.37-1.37c-.4-.4-.92-.59-1.43-.59-.52 0-1.04.2-1.43.59L10.3 9.45l-7.72 7.72c-.78.78-.78 2.05 0 2.83L4 21.41c.39.39.9.59 1.41.59.51 0 1.02-.2 1.41-.59l7.78-7.78 2.81-2.81c.8-.78.8-2.07 0-2.86zM5.41 20L4 18.59l7.72-7.72 1.47 1.35L5.41 20z\"/>\n",
              "  </svg>\n",
              "      </button>\n",
              "      \n",
              "  <style>\n",
              "    .colab-df-container {\n",
              "      display:flex;\n",
              "      flex-wrap:wrap;\n",
              "      gap: 12px;\n",
              "    }\n",
              "\n",
              "    .colab-df-convert {\n",
              "      background-color: #E8F0FE;\n",
              "      border: none;\n",
              "      border-radius: 50%;\n",
              "      cursor: pointer;\n",
              "      display: none;\n",
              "      fill: #1967D2;\n",
              "      height: 32px;\n",
              "      padding: 0 0 0 0;\n",
              "      width: 32px;\n",
              "    }\n",
              "\n",
              "    .colab-df-convert:hover {\n",
              "      background-color: #E2EBFA;\n",
              "      box-shadow: 0px 1px 2px rgba(60, 64, 67, 0.3), 0px 1px 3px 1px rgba(60, 64, 67, 0.15);\n",
              "      fill: #174EA6;\n",
              "    }\n",
              "\n",
              "    [theme=dark] .colab-df-convert {\n",
              "      background-color: #3B4455;\n",
              "      fill: #D2E3FC;\n",
              "    }\n",
              "\n",
              "    [theme=dark] .colab-df-convert:hover {\n",
              "      background-color: #434B5C;\n",
              "      box-shadow: 0px 1px 3px 1px rgba(0, 0, 0, 0.15);\n",
              "      filter: drop-shadow(0px 1px 2px rgba(0, 0, 0, 0.3));\n",
              "      fill: #FFFFFF;\n",
              "    }\n",
              "  </style>\n",
              "\n",
              "      <script>\n",
              "        const buttonEl =\n",
              "          document.querySelector('#df-811636d8-05fd-42b7-81cc-950a8824694b button.colab-df-convert');\n",
              "        buttonEl.style.display =\n",
              "          google.colab.kernel.accessAllowed ? 'block' : 'none';\n",
              "\n",
              "        async function convertToInteractive(key) {\n",
              "          const element = document.querySelector('#df-811636d8-05fd-42b7-81cc-950a8824694b');\n",
              "          const dataTable =\n",
              "            await google.colab.kernel.invokeFunction('convertToInteractive',\n",
              "                                                     [key], {});\n",
              "          if (!dataTable) return;\n",
              "\n",
              "          const docLinkHtml = 'Like what you see? Visit the ' +\n",
              "            '<a target=\"_blank\" href=https://colab.research.google.com/notebooks/data_table.ipynb>data table notebook</a>'\n",
              "            + ' to learn more about interactive tables.';\n",
              "          element.innerHTML = '';\n",
              "          dataTable['output_type'] = 'display_data';\n",
              "          await google.colab.output.renderOutput(dataTable, element);\n",
              "          const docLink = document.createElement('div');\n",
              "          docLink.innerHTML = docLinkHtml;\n",
              "          element.appendChild(docLink);\n",
              "        }\n",
              "      </script>\n",
              "    </div>\n",
              "  </div>\n",
              "  "
            ]
          },
          "metadata": {},
          "execution_count": 4
        }
      ]
    },
    {
      "cell_type": "markdown",
      "source": [
        "# Functions"
      ],
      "metadata": {
        "id": "m1xbAFdAGEux"
      }
    },
    {
      "cell_type": "code",
      "source": [
        "def boolCheckLengthOverLimitString(value, limit):\n",
        "  lengthFound = len(value)\n",
        "  if(lengthFound > limit):\n",
        "    return True\n",
        "  else:\n",
        "    return False"
      ],
      "metadata": {
        "id": "ffk6AfaOKBmi"
      },
      "execution_count": 5,
      "outputs": []
    },
    {
      "cell_type": "code",
      "source": [
        "def boolCheckLengthOverLimitInt(value, limit):\n",
        "  stringValue = str(value)\n",
        "  return boolCheckLengthOverLimitString(stringValue, limit)"
      ],
      "metadata": {
        "id": "ebP1vUyjKWCM"
      },
      "execution_count": 10,
      "outputs": []
    },
    {
      "cell_type": "code",
      "source": [
        "def checkCaseCorrect(word):\n",
        "  lengthWord = len(word)\n",
        "  if word[0].isupper() == False:\n",
        "    return False\n",
        "  for i in range(1, lengthWord):\n",
        "    if word[i].isupper() == True:\n",
        "      return False\n",
        "  return True"
      ],
      "metadata": {
        "id": "dyjqgweSQgVV"
      },
      "execution_count": 68,
      "outputs": []
    },
    {
      "cell_type": "markdown",
      "source": [
        "# Check Duplicates"
      ],
      "metadata": {
        "id": "FQZbeNe1_kLf"
      }
    },
    {
      "cell_type": "code",
      "source": [
        "dfWithoutRef = df.drop('Ref', axis=1)\n",
        "dfWithoutRef.head(3)"
      ],
      "metadata": {
        "colab": {
          "base_uri": "https://localhost:8080/",
          "height": 144
        },
        "id": "jYxu7swd_mym",
        "outputId": "1bda35fb-3f86-40bb-9675-786274e6bef7"
      },
      "execution_count": 10,
      "outputs": [
        {
          "output_type": "execute_result",
          "data": {
            "text/plain": [
              "  First_Name Last_Name                   Email Gender      IP_Address  \\\n",
              "0   Germayne   Simmons    gsimmons0@cdbaby.com   Male   24.48.223.251   \n",
              "1      Cosmo    Pleass   cpleass1@netscape.com   Male   108.87.136.28   \n",
              "2     Henrik      Boag  hboag2@bizjournals.com   Male  221.105.60.101   \n",
              "\n",
              "  Date_of_Birth  \n",
              "0    18/11/1959  \n",
              "1    08/11/1935  \n",
              "2    07/10/1989  "
            ],
            "text/html": [
              "\n",
              "  <div id=\"df-671a639c-cdcc-45d8-8b98-6928f8979b83\">\n",
              "    <div class=\"colab-df-container\">\n",
              "      <div>\n",
              "<style scoped>\n",
              "    .dataframe tbody tr th:only-of-type {\n",
              "        vertical-align: middle;\n",
              "    }\n",
              "\n",
              "    .dataframe tbody tr th {\n",
              "        vertical-align: top;\n",
              "    }\n",
              "\n",
              "    .dataframe thead th {\n",
              "        text-align: right;\n",
              "    }\n",
              "</style>\n",
              "<table border=\"1\" class=\"dataframe\">\n",
              "  <thead>\n",
              "    <tr style=\"text-align: right;\">\n",
              "      <th></th>\n",
              "      <th>First_Name</th>\n",
              "      <th>Last_Name</th>\n",
              "      <th>Email</th>\n",
              "      <th>Gender</th>\n",
              "      <th>IP_Address</th>\n",
              "      <th>Date_of_Birth</th>\n",
              "    </tr>\n",
              "  </thead>\n",
              "  <tbody>\n",
              "    <tr>\n",
              "      <th>0</th>\n",
              "      <td>Germayne</td>\n",
              "      <td>Simmons</td>\n",
              "      <td>gsimmons0@cdbaby.com</td>\n",
              "      <td>Male</td>\n",
              "      <td>24.48.223.251</td>\n",
              "      <td>18/11/1959</td>\n",
              "    </tr>\n",
              "    <tr>\n",
              "      <th>1</th>\n",
              "      <td>Cosmo</td>\n",
              "      <td>Pleass</td>\n",
              "      <td>cpleass1@netscape.com</td>\n",
              "      <td>Male</td>\n",
              "      <td>108.87.136.28</td>\n",
              "      <td>08/11/1935</td>\n",
              "    </tr>\n",
              "    <tr>\n",
              "      <th>2</th>\n",
              "      <td>Henrik</td>\n",
              "      <td>Boag</td>\n",
              "      <td>hboag2@bizjournals.com</td>\n",
              "      <td>Male</td>\n",
              "      <td>221.105.60.101</td>\n",
              "      <td>07/10/1989</td>\n",
              "    </tr>\n",
              "  </tbody>\n",
              "</table>\n",
              "</div>\n",
              "      <button class=\"colab-df-convert\" onclick=\"convertToInteractive('df-671a639c-cdcc-45d8-8b98-6928f8979b83')\"\n",
              "              title=\"Convert this dataframe to an interactive table.\"\n",
              "              style=\"display:none;\">\n",
              "        \n",
              "  <svg xmlns=\"http://www.w3.org/2000/svg\" height=\"24px\"viewBox=\"0 0 24 24\"\n",
              "       width=\"24px\">\n",
              "    <path d=\"M0 0h24v24H0V0z\" fill=\"none\"/>\n",
              "    <path d=\"M18.56 5.44l.94 2.06.94-2.06 2.06-.94-2.06-.94-.94-2.06-.94 2.06-2.06.94zm-11 1L8.5 8.5l.94-2.06 2.06-.94-2.06-.94L8.5 2.5l-.94 2.06-2.06.94zm10 10l.94 2.06.94-2.06 2.06-.94-2.06-.94-.94-2.06-.94 2.06-2.06.94z\"/><path d=\"M17.41 7.96l-1.37-1.37c-.4-.4-.92-.59-1.43-.59-.52 0-1.04.2-1.43.59L10.3 9.45l-7.72 7.72c-.78.78-.78 2.05 0 2.83L4 21.41c.39.39.9.59 1.41.59.51 0 1.02-.2 1.41-.59l7.78-7.78 2.81-2.81c.8-.78.8-2.07 0-2.86zM5.41 20L4 18.59l7.72-7.72 1.47 1.35L5.41 20z\"/>\n",
              "  </svg>\n",
              "      </button>\n",
              "      \n",
              "  <style>\n",
              "    .colab-df-container {\n",
              "      display:flex;\n",
              "      flex-wrap:wrap;\n",
              "      gap: 12px;\n",
              "    }\n",
              "\n",
              "    .colab-df-convert {\n",
              "      background-color: #E8F0FE;\n",
              "      border: none;\n",
              "      border-radius: 50%;\n",
              "      cursor: pointer;\n",
              "      display: none;\n",
              "      fill: #1967D2;\n",
              "      height: 32px;\n",
              "      padding: 0 0 0 0;\n",
              "      width: 32px;\n",
              "    }\n",
              "\n",
              "    .colab-df-convert:hover {\n",
              "      background-color: #E2EBFA;\n",
              "      box-shadow: 0px 1px 2px rgba(60, 64, 67, 0.3), 0px 1px 3px 1px rgba(60, 64, 67, 0.15);\n",
              "      fill: #174EA6;\n",
              "    }\n",
              "\n",
              "    [theme=dark] .colab-df-convert {\n",
              "      background-color: #3B4455;\n",
              "      fill: #D2E3FC;\n",
              "    }\n",
              "\n",
              "    [theme=dark] .colab-df-convert:hover {\n",
              "      background-color: #434B5C;\n",
              "      box-shadow: 0px 1px 3px 1px rgba(0, 0, 0, 0.15);\n",
              "      filter: drop-shadow(0px 1px 2px rgba(0, 0, 0, 0.3));\n",
              "      fill: #FFFFFF;\n",
              "    }\n",
              "  </style>\n",
              "\n",
              "      <script>\n",
              "        const buttonEl =\n",
              "          document.querySelector('#df-671a639c-cdcc-45d8-8b98-6928f8979b83 button.colab-df-convert');\n",
              "        buttonEl.style.display =\n",
              "          google.colab.kernel.accessAllowed ? 'block' : 'none';\n",
              "\n",
              "        async function convertToInteractive(key) {\n",
              "          const element = document.querySelector('#df-671a639c-cdcc-45d8-8b98-6928f8979b83');\n",
              "          const dataTable =\n",
              "            await google.colab.kernel.invokeFunction('convertToInteractive',\n",
              "                                                     [key], {});\n",
              "          if (!dataTable) return;\n",
              "\n",
              "          const docLinkHtml = 'Like what you see? Visit the ' +\n",
              "            '<a target=\"_blank\" href=https://colab.research.google.com/notebooks/data_table.ipynb>data table notebook</a>'\n",
              "            + ' to learn more about interactive tables.';\n",
              "          element.innerHTML = '';\n",
              "          dataTable['output_type'] = 'display_data';\n",
              "          await google.colab.output.renderOutput(dataTable, element);\n",
              "          const docLink = document.createElement('div');\n",
              "          docLink.innerHTML = docLinkHtml;\n",
              "          element.appendChild(docLink);\n",
              "        }\n",
              "      </script>\n",
              "    </div>\n",
              "  </div>\n",
              "  "
            ]
          },
          "metadata": {},
          "execution_count": 10
        }
      ]
    },
    {
      "cell_type": "code",
      "source": [
        "duplicate = df[dfWithoutRef.duplicated()]\n",
        "print(\"Duplicate Rows :\")\n",
        "print(duplicate)"
      ],
      "metadata": {
        "colab": {
          "base_uri": "https://localhost:8080/"
        },
        "id": "vQQGN6xiAKpb",
        "outputId": "5651e4a2-7860-4cad-ae91-1de219d01e77"
      },
      "execution_count": 11,
      "outputs": [
        {
          "output_type": "stream",
          "name": "stdout",
          "text": [
            "Duplicate Rows :\n",
            "Empty DataFrame\n",
            "Columns: [Ref, First_Name, Last_Name, Email, Gender, IP_Address, Date_of_Birth]\n",
            "Index: []\n"
          ]
        }
      ]
    },
    {
      "cell_type": "markdown",
      "source": [
        "# Check size - should be 1000"
      ],
      "metadata": {
        "id": "xPw5jvnbBU6_"
      }
    },
    {
      "cell_type": "code",
      "source": [],
      "metadata": {
        "id": "V6ndF6SqBvOa"
      },
      "execution_count": null,
      "outputs": []
    },
    {
      "cell_type": "markdown",
      "source": [
        "# Check Ref Column"
      ],
      "metadata": {
        "id": "STiXKaTkAxoi"
      }
    },
    {
      "cell_type": "code",
      "source": [
        "# check numeric\n",
        "print(is_numeric_dtype(df['Ref']))\n",
        "\n",
        "# check all values unique\n",
        "print(df['Ref'].is_unique)"
      ],
      "metadata": {
        "colab": {
          "base_uri": "https://localhost:8080/"
        },
        "id": "TQtTkxzeH4eh",
        "outputId": "0af21558-61f8-4d6a-c913-d9dc54af3fbc"
      },
      "execution_count": 30,
      "outputs": [
        {
          "output_type": "stream",
          "name": "stdout",
          "text": [
            "True\n",
            "True\n"
          ]
        }
      ]
    },
    {
      "cell_type": "code",
      "source": [
        "# check each row\n",
        "for index, row in df.iterrows():\n",
        "    if boolCheckLengthOverLimitInt(row['Ref'], 8) == True:\n",
        "      print(row['Ref'])\n",
        "\n",
        "    if pd.isna(row['Ref']):\n",
        "      print(\"row number: \" + str(index))\n",
        "      print(row['Ref'])\n",
        "      print(\"null\")"
      ],
      "metadata": {
        "id": "N3A6y1tXJTeV"
      },
      "execution_count": 51,
      "outputs": []
    },
    {
      "cell_type": "markdown",
      "source": [
        "# Check First Name"
      ],
      "metadata": {
        "id": "PMhJRMDGA3Zo"
      }
    },
    {
      "cell_type": "markdown",
      "source": [
        "Check type (character only)"
      ],
      "metadata": {
        "id": "9KJNNBr_CCl4"
      }
    },
    {
      "cell_type": "code",
      "source": [
        "# check numeric\n",
        "print(is_string_dtype(df['First_Name']))"
      ],
      "metadata": {
        "colab": {
          "base_uri": "https://localhost:8080/"
        },
        "id": "qFx9JvcRLt6T",
        "outputId": "806f76e7-31db-4435-e963-f944ecffdc04"
      },
      "execution_count": 38,
      "outputs": [
        {
          "output_type": "stream",
          "name": "stdout",
          "text": [
            "True\n"
          ]
        }
      ]
    },
    {
      "cell_type": "code",
      "source": [
        "# check each row\n",
        "for index, row in df.iterrows():\n",
        "    if pd.isna(row['First_Name']):\n",
        "      print(\"Issue with null\")\n",
        "      print(\"row number: \" + str(index))\n",
        "      print(row['First_Name'])\n",
        "          \n",
        "    else:\n",
        "      if boolCheckLengthOverLimitInt(row['First_Name'], 20) == True:\n",
        "        print(\"Issue with length\")\n",
        "        print(\"row number: \" + str(index))\n",
        "        print(row['First_Name'])\n",
        "\n",
        "      if(checkCaseCorrect(row['First_Name']) == False):\n",
        "        print(\"Issue with capitilisation\")\n",
        "        print(\"row number: \" + str(index))\n",
        "        print(row['First_Name'])\n",
        "    \n",
        "    # need to search for numbers within\n",
        "    # print(\"row \" + str(index))\n",
        "    # if row['First_Name'].isalpha() == False:\n",
        "    #   print(row['First_Name'])\n",
        "    #   print(\"Not all character\")"
      ],
      "metadata": {
        "colab": {
          "base_uri": "https://localhost:8080/"
        },
        "id": "dSE3O-dwK2Uo",
        "outputId": "66e40cee-e11f-4e95-8678-0c8e3d20e7f6"
      },
      "execution_count": 72,
      "outputs": [
        {
          "output_type": "stream",
          "name": "stdout",
          "text": [
            "Issue with capitilisation\n",
            "row number: 5\n",
            "christabel\n",
            "Issue with capitilisation\n",
            "row number: 422\n",
            "andonis\n",
            "Issue with capitilisation\n",
            "row number: 481\n",
            "1ain\n",
            "Issue with capitilisation\n",
            "row number: 553\n",
            "0wen\n",
            "Issue with null\n",
            "row number: 892\n",
            "nan\n"
          ]
        }
      ]
    },
    {
      "cell_type": "markdown",
      "source": [
        "# Check Second Name"
      ],
      "metadata": {
        "id": "uIzNIorrCei0"
      }
    },
    {
      "cell_type": "markdown",
      "source": [
        "Check type (character only)"
      ],
      "metadata": {
        "id": "d36XLQ33Cei1"
      }
    },
    {
      "cell_type": "code",
      "source": [],
      "metadata": {
        "id": "Hc1ljLv6Cei2"
      },
      "execution_count": null,
      "outputs": []
    },
    {
      "cell_type": "markdown",
      "source": [
        "Check max length (40)"
      ],
      "metadata": {
        "id": "3ryYn2clCei2"
      }
    },
    {
      "cell_type": "code",
      "source": [],
      "metadata": {
        "id": "CscaG1vOCei2"
      },
      "execution_count": null,
      "outputs": []
    },
    {
      "cell_type": "markdown",
      "source": [
        "Check case (Must be proper case)"
      ],
      "metadata": {
        "id": "s99EMWQbCei3"
      }
    },
    {
      "cell_type": "code",
      "source": [],
      "metadata": {
        "id": "YRst4cVzC8Rh"
      },
      "execution_count": null,
      "outputs": []
    },
    {
      "cell_type": "markdown",
      "source": [
        "Check no space between multiple last names"
      ],
      "metadata": {
        "id": "4oW4nJdPDgTV"
      }
    },
    {
      "cell_type": "markdown",
      "source": [
        "Check no null"
      ],
      "metadata": {
        "id": "ZuIzx3MBDGsL"
      }
    },
    {
      "cell_type": "code",
      "source": [],
      "metadata": {
        "id": "UlTAjL3HDJz9"
      },
      "execution_count": null,
      "outputs": []
    }
  ]
}
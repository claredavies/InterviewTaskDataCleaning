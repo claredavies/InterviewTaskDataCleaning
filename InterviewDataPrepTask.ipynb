{
  "nbformat": 4,
  "nbformat_minor": 0,
  "metadata": {
    "colab": {
      "provenance": [],
      "collapsed_sections": [
        "sYZduvOG-NLF",
        "EoXzzGoH-TNj",
        "m1xbAFdAGEux",
        "FQZbeNe1_kLf",
        "STiXKaTkAxoi",
        "PMhJRMDGA3Zo",
        "uIzNIorrCei0",
        "Xy6ieu5cl7V6",
        "mVI-QhFtmxtn",
        "6wRa2qDPNvQy",
        "tDwinK76Pi-f",
        "qUKCpG6NeI9N",
        "CmrduCGvM2tZ",
        "8i-o2V0BgA1k",
        "PQYAQx-NWlhG",
        "qTOtKY7VWioN"
      ],
      "include_colab_link": true
    },
    "kernelspec": {
      "name": "python3",
      "display_name": "Python 3"
    },
    "language_info": {
      "name": "python"
    }
  },
  "cells": [
    {
      "cell_type": "markdown",
      "metadata": {
        "id": "view-in-github",
        "colab_type": "text"
      },
      "source": [
        "<a href=\"https://colab.research.google.com/github/claredavies/InterviewTaskDataCleaning/blob/main/InterviewDataPrepTask.ipynb\" target=\"_parent\"><img src=\"https://colab.research.google.com/assets/colab-badge.svg\" alt=\"Open In Colab\"/></a>"
      ]
    },
    {
      "cell_type": "markdown",
      "source": [
        "# Libraries"
      ],
      "metadata": {
        "id": "sYZduvOG-NLF"
      }
    },
    {
      "cell_type": "code",
      "execution_count": 1,
      "metadata": {
        "id": "eza77N_D-KUM"
      },
      "outputs": [],
      "source": [
        "import numpy as np\n",
        "from google.colab import files\n",
        "import pandas as pd\n",
        "from matplotlib import pyplot as plt\n",
        "from pandas.api.types import is_numeric_dtype\n",
        "from pandas.api.types import is_string_dtype\n",
        "import re\n",
        "import socket\n",
        "import datetime\n",
        "from datetime import datetime"
      ]
    },
    {
      "cell_type": "code",
      "source": [
        "pd.set_option('max_rows', 99999)\n",
        "pd.set_option('max_colwidth', 400)\n",
        "pd.set_option('display.max_rows', None)"
      ],
      "metadata": {
        "id": "oSin7yeuMauf"
      },
      "execution_count": 2,
      "outputs": []
    },
    {
      "cell_type": "markdown",
      "source": [
        "# Read in files"
      ],
      "metadata": {
        "id": "EoXzzGoH-TNj"
      }
    },
    {
      "cell_type": "code",
      "source": [
        "!git clone https://github.com/claredavies/InterviewTaskDataCleaning.git"
      ],
      "metadata": {
        "colab": {
          "base_uri": "https://localhost:8080/"
        },
        "id": "by8etXVk-lk3",
        "outputId": "2df89369-b88d-4b0a-cd6a-6b8928731a71"
      },
      "execution_count": 3,
      "outputs": [
        {
          "output_type": "stream",
          "name": "stdout",
          "text": [
            "Cloning into 'InterviewTaskDataCleaning'...\n",
            "remote: Enumerating objects: 49, done.\u001b[K\n",
            "remote: Counting objects: 100% (49/49), done.\u001b[K\n",
            "remote: Compressing objects: 100% (47/47), done.\u001b[K\n",
            "remote: Total 49 (delta 26), reused 0 (delta 0), pack-reused 0\u001b[K\n",
            "Unpacking objects: 100% (49/49), done.\n"
          ]
        }
      ]
    },
    {
      "cell_type": "code",
      "source": [
        "%cd InterviewTaskDataCleaning"
      ],
      "metadata": {
        "colab": {
          "base_uri": "https://localhost:8080/"
        },
        "id": "1FyOSiFo_M7H",
        "outputId": "67fff0a5-71d5-417e-a14d-af79046ea75d"
      },
      "execution_count": 4,
      "outputs": [
        {
          "output_type": "stream",
          "name": "stdout",
          "text": [
            "/content/InterviewTaskDataCleaning\n"
          ]
        }
      ]
    },
    {
      "cell_type": "code",
      "source": [
        "df = pd.read_csv('InputData.csv')\n",
        "df.head(3)"
      ],
      "metadata": {
        "colab": {
          "base_uri": "https://localhost:8080/",
          "height": 0
        },
        "id": "yGrn2o25-skt",
        "outputId": "4bd1770b-6ae0-4488-d5ed-0e9c1325a18c"
      },
      "execution_count": 5,
      "outputs": [
        {
          "output_type": "execute_result",
          "data": {
            "text/plain": [
              "   Ref First_Name Last_Name                   Email Gender      IP_Address  \\\n",
              "0    1   Germayne   Simmons    gsimmons0@cdbaby.com   Male   24.48.223.251   \n",
              "1    2      Cosmo    Pleass   cpleass1@netscape.com   Male   108.87.136.28   \n",
              "2    3     Henrik      Boag  hboag2@bizjournals.com   Male  221.105.60.101   \n",
              "\n",
              "  Date_of_Birth  \n",
              "0    18/11/1959  \n",
              "1    08/11/1935  \n",
              "2    07/10/1989  "
            ],
            "text/html": [
              "\n",
              "  <div id=\"df-f55c9154-8a15-4545-9346-403046de6a61\">\n",
              "    <div class=\"colab-df-container\">\n",
              "      <div>\n",
              "<style scoped>\n",
              "    .dataframe tbody tr th:only-of-type {\n",
              "        vertical-align: middle;\n",
              "    }\n",
              "\n",
              "    .dataframe tbody tr th {\n",
              "        vertical-align: top;\n",
              "    }\n",
              "\n",
              "    .dataframe thead th {\n",
              "        text-align: right;\n",
              "    }\n",
              "</style>\n",
              "<table border=\"1\" class=\"dataframe\">\n",
              "  <thead>\n",
              "    <tr style=\"text-align: right;\">\n",
              "      <th></th>\n",
              "      <th>Ref</th>\n",
              "      <th>First_Name</th>\n",
              "      <th>Last_Name</th>\n",
              "      <th>Email</th>\n",
              "      <th>Gender</th>\n",
              "      <th>IP_Address</th>\n",
              "      <th>Date_of_Birth</th>\n",
              "    </tr>\n",
              "  </thead>\n",
              "  <tbody>\n",
              "    <tr>\n",
              "      <th>0</th>\n",
              "      <td>1</td>\n",
              "      <td>Germayne</td>\n",
              "      <td>Simmons</td>\n",
              "      <td>gsimmons0@cdbaby.com</td>\n",
              "      <td>Male</td>\n",
              "      <td>24.48.223.251</td>\n",
              "      <td>18/11/1959</td>\n",
              "    </tr>\n",
              "    <tr>\n",
              "      <th>1</th>\n",
              "      <td>2</td>\n",
              "      <td>Cosmo</td>\n",
              "      <td>Pleass</td>\n",
              "      <td>cpleass1@netscape.com</td>\n",
              "      <td>Male</td>\n",
              "      <td>108.87.136.28</td>\n",
              "      <td>08/11/1935</td>\n",
              "    </tr>\n",
              "    <tr>\n",
              "      <th>2</th>\n",
              "      <td>3</td>\n",
              "      <td>Henrik</td>\n",
              "      <td>Boag</td>\n",
              "      <td>hboag2@bizjournals.com</td>\n",
              "      <td>Male</td>\n",
              "      <td>221.105.60.101</td>\n",
              "      <td>07/10/1989</td>\n",
              "    </tr>\n",
              "  </tbody>\n",
              "</table>\n",
              "</div>\n",
              "      <button class=\"colab-df-convert\" onclick=\"convertToInteractive('df-f55c9154-8a15-4545-9346-403046de6a61')\"\n",
              "              title=\"Convert this dataframe to an interactive table.\"\n",
              "              style=\"display:none;\">\n",
              "        \n",
              "  <svg xmlns=\"http://www.w3.org/2000/svg\" height=\"24px\"viewBox=\"0 0 24 24\"\n",
              "       width=\"24px\">\n",
              "    <path d=\"M0 0h24v24H0V0z\" fill=\"none\"/>\n",
              "    <path d=\"M18.56 5.44l.94 2.06.94-2.06 2.06-.94-2.06-.94-.94-2.06-.94 2.06-2.06.94zm-11 1L8.5 8.5l.94-2.06 2.06-.94-2.06-.94L8.5 2.5l-.94 2.06-2.06.94zm10 10l.94 2.06.94-2.06 2.06-.94-2.06-.94-.94-2.06-.94 2.06-2.06.94z\"/><path d=\"M17.41 7.96l-1.37-1.37c-.4-.4-.92-.59-1.43-.59-.52 0-1.04.2-1.43.59L10.3 9.45l-7.72 7.72c-.78.78-.78 2.05 0 2.83L4 21.41c.39.39.9.59 1.41.59.51 0 1.02-.2 1.41-.59l7.78-7.78 2.81-2.81c.8-.78.8-2.07 0-2.86zM5.41 20L4 18.59l7.72-7.72 1.47 1.35L5.41 20z\"/>\n",
              "  </svg>\n",
              "      </button>\n",
              "      \n",
              "  <style>\n",
              "    .colab-df-container {\n",
              "      display:flex;\n",
              "      flex-wrap:wrap;\n",
              "      gap: 12px;\n",
              "    }\n",
              "\n",
              "    .colab-df-convert {\n",
              "      background-color: #E8F0FE;\n",
              "      border: none;\n",
              "      border-radius: 50%;\n",
              "      cursor: pointer;\n",
              "      display: none;\n",
              "      fill: #1967D2;\n",
              "      height: 32px;\n",
              "      padding: 0 0 0 0;\n",
              "      width: 32px;\n",
              "    }\n",
              "\n",
              "    .colab-df-convert:hover {\n",
              "      background-color: #E2EBFA;\n",
              "      box-shadow: 0px 1px 2px rgba(60, 64, 67, 0.3), 0px 1px 3px 1px rgba(60, 64, 67, 0.15);\n",
              "      fill: #174EA6;\n",
              "    }\n",
              "\n",
              "    [theme=dark] .colab-df-convert {\n",
              "      background-color: #3B4455;\n",
              "      fill: #D2E3FC;\n",
              "    }\n",
              "\n",
              "    [theme=dark] .colab-df-convert:hover {\n",
              "      background-color: #434B5C;\n",
              "      box-shadow: 0px 1px 3px 1px rgba(0, 0, 0, 0.15);\n",
              "      filter: drop-shadow(0px 1px 2px rgba(0, 0, 0, 0.3));\n",
              "      fill: #FFFFFF;\n",
              "    }\n",
              "  </style>\n",
              "\n",
              "      <script>\n",
              "        const buttonEl =\n",
              "          document.querySelector('#df-f55c9154-8a15-4545-9346-403046de6a61 button.colab-df-convert');\n",
              "        buttonEl.style.display =\n",
              "          google.colab.kernel.accessAllowed ? 'block' : 'none';\n",
              "\n",
              "        async function convertToInteractive(key) {\n",
              "          const element = document.querySelector('#df-f55c9154-8a15-4545-9346-403046de6a61');\n",
              "          const dataTable =\n",
              "            await google.colab.kernel.invokeFunction('convertToInteractive',\n",
              "                                                     [key], {});\n",
              "          if (!dataTable) return;\n",
              "\n",
              "          const docLinkHtml = 'Like what you see? Visit the ' +\n",
              "            '<a target=\"_blank\" href=https://colab.research.google.com/notebooks/data_table.ipynb>data table notebook</a>'\n",
              "            + ' to learn more about interactive tables.';\n",
              "          element.innerHTML = '';\n",
              "          dataTable['output_type'] = 'display_data';\n",
              "          await google.colab.output.renderOutput(dataTable, element);\n",
              "          const docLink = document.createElement('div');\n",
              "          docLink.innerHTML = docLinkHtml;\n",
              "          element.appendChild(docLink);\n",
              "        }\n",
              "      </script>\n",
              "    </div>\n",
              "  </div>\n",
              "  "
            ]
          },
          "metadata": {},
          "execution_count": 5
        }
      ]
    },
    {
      "cell_type": "markdown",
      "source": [
        "# Validation Functions"
      ],
      "metadata": {
        "id": "m1xbAFdAGEux"
      }
    },
    {
      "cell_type": "code",
      "source": [
        "def boolCheckLengthOverLimitString(value, limit):\n",
        "  lengthFound = len(value)\n",
        "  if(lengthFound > limit):\n",
        "    return True\n",
        "  else:\n",
        "    return False"
      ],
      "metadata": {
        "id": "ffk6AfaOKBmi"
      },
      "execution_count": 6,
      "outputs": []
    },
    {
      "cell_type": "code",
      "source": [
        "def boolCheckLengthOverLimitInt(value, limit):\n",
        "  stringValue = str(value)\n",
        "  return boolCheckLengthOverLimitString(stringValue, limit)"
      ],
      "metadata": {
        "id": "ebP1vUyjKWCM"
      },
      "execution_count": 7,
      "outputs": []
    },
    {
      "cell_type": "code",
      "source": [
        "def checkFirstLetterCapitalised(string):\n",
        "  lengthWord = len(string)\n",
        "  return string[0].isupper()"
      ],
      "metadata": {
        "id": "dyjqgweSQgVV"
      },
      "execution_count": 8,
      "outputs": []
    },
    {
      "cell_type": "code",
      "source": [
        "def containsNumber(string):\n",
        "    return any(char.isdigit() for char in string)"
      ],
      "metadata": {
        "id": "iGP7jNXmmg-B"
      },
      "execution_count": 9,
      "outputs": []
    },
    {
      "cell_type": "code",
      "source": [
        "def checkIfSpacesBetweenWords(string):\n",
        "  res = bool(re.search(r\"\\s\", string))\n",
        "  return res"
      ],
      "metadata": {
        "id": "gEw1nnXsjurl"
      },
      "execution_count": 10,
      "outputs": []
    },
    {
      "cell_type": "code",
      "source": [
        "def checkMaleOrFemale(string):\n",
        "  lowercaseString = string.lower()\n",
        "  if lowercaseString == 'female':\n",
        "    return True\n",
        "  elif lowercaseString == 'male':\n",
        "    return True\n",
        "  else:\n",
        "    return False"
      ],
      "metadata": {
        "id": "uUyc1g16nWAf"
      },
      "execution_count": 11,
      "outputs": []
    },
    {
      "cell_type": "code",
      "source": [
        "def checkIfIPV4Valid(string):\n",
        "  try:\n",
        "      socket.inet_aton(string)\n",
        "      return True\n",
        "      # legal\n",
        "  except socket.error:\n",
        "    return False"
      ],
      "metadata": {
        "id": "vxv56EGgOucQ"
      },
      "execution_count": 12,
      "outputs": []
    },
    {
      "cell_type": "code",
      "source": [
        "def checkFormatDate(string):\n",
        "  format = '%d/%m/%Y'\n",
        "  try:\n",
        "    datetime.strptime(string, format)\n",
        "    return True\n",
        "  except ValueError:\n",
        "    return False "
      ],
      "metadata": {
        "id": "lFqaaUezQ6Xx"
      },
      "execution_count": 13,
      "outputs": []
    },
    {
      "cell_type": "code",
      "source": [
        "def check18OrOverBy1stDec2020(startDate):\n",
        "  endDate = '01/12/2020'\n",
        "  endDate = datetime.strptime(endDate, '%d/%m/%Y')\n",
        "  startDate = datetime.strptime(startDate, '%d/%m/%Y')\n",
        "  yearsOld = endDate.year - startDate.year - ((endDate.month, endDate.day) < (startDate.month, startDate.day))\n",
        "  if yearsOld >= 18:\n",
        "    return True\n",
        "  else:\n",
        "    return False"
      ],
      "metadata": {
        "id": "b4aW_RjiSWSx"
      },
      "execution_count": 14,
      "outputs": []
    },
    {
      "cell_type": "code",
      "source": [
        "def createHTMLOfDf(df, name):\n",
        "  html = df.to_html()\n",
        "  \n",
        "  # write html to file\n",
        "  text_file = open(name, \"w\")\n",
        "  text_file.write(html)\n",
        "  text_file.close()"
      ],
      "metadata": {
        "id": "FtZO12l4ZUKc"
      },
      "execution_count": 15,
      "outputs": []
    },
    {
      "cell_type": "code",
      "source": [
        "messageErrorNA = \"Value is NaN\"\n",
        "messageErrorOverLength = \"Length is over the limit\"\n",
        "messageErrorCaseIncorrect = \"Case is incorrect\"\n",
        "messageErrorContainsUnwantedNumbers = \"Unwanted numbers contained\"\n",
        "messageErrorUnwantedSpace = \"Unwanted space\"\n",
        "messageErrorNotMaleOrFemale = \"Not Male or Female\"\n",
        "messageErrorNotString = \"Not a string\"\n",
        "messageErrorNotValidIPAddress = \"Not a valid IPv4\"\n",
        "messageErrorNot18OrOverBy1stDec2020 = \"Not 18 or over by 1st Dec 2020\"\n",
        "messageDateOfBirthIncorrectFormat = \"Date of birth not in format dd/mm/yyyy\""
      ],
      "metadata": {
        "id": "zjIyWrns_9Nc"
      },
      "execution_count": 16,
      "outputs": []
    },
    {
      "cell_type": "markdown",
      "source": [
        "# Check Duplicates and Size"
      ],
      "metadata": {
        "id": "FQZbeNe1_kLf"
      }
    },
    {
      "cell_type": "code",
      "source": [
        "print(df.shape)"
      ],
      "metadata": {
        "colab": {
          "base_uri": "https://localhost:8080/"
        },
        "id": "z0LiwYq8ieNT",
        "outputId": "d3ab8fe4-2587-4828-8f2c-880b7aabd2be"
      },
      "execution_count": 17,
      "outputs": [
        {
          "output_type": "stream",
          "name": "stdout",
          "text": [
            "(1000, 7)\n"
          ]
        }
      ]
    },
    {
      "cell_type": "code",
      "source": [
        "dfWithoutRef = df.drop('Ref', axis=1)\n",
        "dfWithoutRef.head(3)"
      ],
      "metadata": {
        "colab": {
          "base_uri": "https://localhost:8080/",
          "height": 0
        },
        "id": "jYxu7swd_mym",
        "outputId": "b67901c4-b48b-4aee-fd16-23762d3e139c"
      },
      "execution_count": 18,
      "outputs": [
        {
          "output_type": "execute_result",
          "data": {
            "text/plain": [
              "  First_Name Last_Name                   Email Gender      IP_Address  \\\n",
              "0   Germayne   Simmons    gsimmons0@cdbaby.com   Male   24.48.223.251   \n",
              "1      Cosmo    Pleass   cpleass1@netscape.com   Male   108.87.136.28   \n",
              "2     Henrik      Boag  hboag2@bizjournals.com   Male  221.105.60.101   \n",
              "\n",
              "  Date_of_Birth  \n",
              "0    18/11/1959  \n",
              "1    08/11/1935  \n",
              "2    07/10/1989  "
            ],
            "text/html": [
              "\n",
              "  <div id=\"df-45ca9b70-6f30-4e13-b4d0-4fa2b4d8e5dd\">\n",
              "    <div class=\"colab-df-container\">\n",
              "      <div>\n",
              "<style scoped>\n",
              "    .dataframe tbody tr th:only-of-type {\n",
              "        vertical-align: middle;\n",
              "    }\n",
              "\n",
              "    .dataframe tbody tr th {\n",
              "        vertical-align: top;\n",
              "    }\n",
              "\n",
              "    .dataframe thead th {\n",
              "        text-align: right;\n",
              "    }\n",
              "</style>\n",
              "<table border=\"1\" class=\"dataframe\">\n",
              "  <thead>\n",
              "    <tr style=\"text-align: right;\">\n",
              "      <th></th>\n",
              "      <th>First_Name</th>\n",
              "      <th>Last_Name</th>\n",
              "      <th>Email</th>\n",
              "      <th>Gender</th>\n",
              "      <th>IP_Address</th>\n",
              "      <th>Date_of_Birth</th>\n",
              "    </tr>\n",
              "  </thead>\n",
              "  <tbody>\n",
              "    <tr>\n",
              "      <th>0</th>\n",
              "      <td>Germayne</td>\n",
              "      <td>Simmons</td>\n",
              "      <td>gsimmons0@cdbaby.com</td>\n",
              "      <td>Male</td>\n",
              "      <td>24.48.223.251</td>\n",
              "      <td>18/11/1959</td>\n",
              "    </tr>\n",
              "    <tr>\n",
              "      <th>1</th>\n",
              "      <td>Cosmo</td>\n",
              "      <td>Pleass</td>\n",
              "      <td>cpleass1@netscape.com</td>\n",
              "      <td>Male</td>\n",
              "      <td>108.87.136.28</td>\n",
              "      <td>08/11/1935</td>\n",
              "    </tr>\n",
              "    <tr>\n",
              "      <th>2</th>\n",
              "      <td>Henrik</td>\n",
              "      <td>Boag</td>\n",
              "      <td>hboag2@bizjournals.com</td>\n",
              "      <td>Male</td>\n",
              "      <td>221.105.60.101</td>\n",
              "      <td>07/10/1989</td>\n",
              "    </tr>\n",
              "  </tbody>\n",
              "</table>\n",
              "</div>\n",
              "      <button class=\"colab-df-convert\" onclick=\"convertToInteractive('df-45ca9b70-6f30-4e13-b4d0-4fa2b4d8e5dd')\"\n",
              "              title=\"Convert this dataframe to an interactive table.\"\n",
              "              style=\"display:none;\">\n",
              "        \n",
              "  <svg xmlns=\"http://www.w3.org/2000/svg\" height=\"24px\"viewBox=\"0 0 24 24\"\n",
              "       width=\"24px\">\n",
              "    <path d=\"M0 0h24v24H0V0z\" fill=\"none\"/>\n",
              "    <path d=\"M18.56 5.44l.94 2.06.94-2.06 2.06-.94-2.06-.94-.94-2.06-.94 2.06-2.06.94zm-11 1L8.5 8.5l.94-2.06 2.06-.94-2.06-.94L8.5 2.5l-.94 2.06-2.06.94zm10 10l.94 2.06.94-2.06 2.06-.94-2.06-.94-.94-2.06-.94 2.06-2.06.94z\"/><path d=\"M17.41 7.96l-1.37-1.37c-.4-.4-.92-.59-1.43-.59-.52 0-1.04.2-1.43.59L10.3 9.45l-7.72 7.72c-.78.78-.78 2.05 0 2.83L4 21.41c.39.39.9.59 1.41.59.51 0 1.02-.2 1.41-.59l7.78-7.78 2.81-2.81c.8-.78.8-2.07 0-2.86zM5.41 20L4 18.59l7.72-7.72 1.47 1.35L5.41 20z\"/>\n",
              "  </svg>\n",
              "      </button>\n",
              "      \n",
              "  <style>\n",
              "    .colab-df-container {\n",
              "      display:flex;\n",
              "      flex-wrap:wrap;\n",
              "      gap: 12px;\n",
              "    }\n",
              "\n",
              "    .colab-df-convert {\n",
              "      background-color: #E8F0FE;\n",
              "      border: none;\n",
              "      border-radius: 50%;\n",
              "      cursor: pointer;\n",
              "      display: none;\n",
              "      fill: #1967D2;\n",
              "      height: 32px;\n",
              "      padding: 0 0 0 0;\n",
              "      width: 32px;\n",
              "    }\n",
              "\n",
              "    .colab-df-convert:hover {\n",
              "      background-color: #E2EBFA;\n",
              "      box-shadow: 0px 1px 2px rgba(60, 64, 67, 0.3), 0px 1px 3px 1px rgba(60, 64, 67, 0.15);\n",
              "      fill: #174EA6;\n",
              "    }\n",
              "\n",
              "    [theme=dark] .colab-df-convert {\n",
              "      background-color: #3B4455;\n",
              "      fill: #D2E3FC;\n",
              "    }\n",
              "\n",
              "    [theme=dark] .colab-df-convert:hover {\n",
              "      background-color: #434B5C;\n",
              "      box-shadow: 0px 1px 3px 1px rgba(0, 0, 0, 0.15);\n",
              "      filter: drop-shadow(0px 1px 2px rgba(0, 0, 0, 0.3));\n",
              "      fill: #FFFFFF;\n",
              "    }\n",
              "  </style>\n",
              "\n",
              "      <script>\n",
              "        const buttonEl =\n",
              "          document.querySelector('#df-45ca9b70-6f30-4e13-b4d0-4fa2b4d8e5dd button.colab-df-convert');\n",
              "        buttonEl.style.display =\n",
              "          google.colab.kernel.accessAllowed ? 'block' : 'none';\n",
              "\n",
              "        async function convertToInteractive(key) {\n",
              "          const element = document.querySelector('#df-45ca9b70-6f30-4e13-b4d0-4fa2b4d8e5dd');\n",
              "          const dataTable =\n",
              "            await google.colab.kernel.invokeFunction('convertToInteractive',\n",
              "                                                     [key], {});\n",
              "          if (!dataTable) return;\n",
              "\n",
              "          const docLinkHtml = 'Like what you see? Visit the ' +\n",
              "            '<a target=\"_blank\" href=https://colab.research.google.com/notebooks/data_table.ipynb>data table notebook</a>'\n",
              "            + ' to learn more about interactive tables.';\n",
              "          element.innerHTML = '';\n",
              "          dataTable['output_type'] = 'display_data';\n",
              "          await google.colab.output.renderOutput(dataTable, element);\n",
              "          const docLink = document.createElement('div');\n",
              "          docLink.innerHTML = docLinkHtml;\n",
              "          element.appendChild(docLink);\n",
              "        }\n",
              "      </script>\n",
              "    </div>\n",
              "  </div>\n",
              "  "
            ]
          },
          "metadata": {},
          "execution_count": 18
        }
      ]
    },
    {
      "cell_type": "code",
      "source": [
        "duplicate = df[dfWithoutRef.duplicated()]\n",
        "print(\"Duplicate Rows :\")\n",
        "print(duplicate)"
      ],
      "metadata": {
        "colab": {
          "base_uri": "https://localhost:8080/"
        },
        "id": "vQQGN6xiAKpb",
        "outputId": "a62ce140-3273-41f1-a483-995c84a357f2"
      },
      "execution_count": 19,
      "outputs": [
        {
          "output_type": "stream",
          "name": "stdout",
          "text": [
            "Duplicate Rows :\n",
            "Empty DataFrame\n",
            "Columns: [Ref, First_Name, Last_Name, Email, Gender, IP_Address, Date_of_Birth]\n",
            "Index: []\n"
          ]
        }
      ]
    },
    {
      "cell_type": "markdown",
      "source": [
        "# Check Ref Column"
      ],
      "metadata": {
        "id": "STiXKaTkAxoi"
      }
    },
    {
      "cell_type": "code",
      "source": [
        "# want to add in check for unique\n",
        "def checkRefColumn(input, columnName, ref):\n",
        "  dfFlaws = pd.DataFrame(columns=['Ref', 'ColumnName', 'ColumnValue', 'ColumnIssue','Fixed',\"FixedResult\"])\n",
        "\n",
        "  if boolCheckLengthOverLimitInt(input, 8) == True:\n",
        "    issueMessage = messageErrorOverLength\n",
        "    dfFlaws = dfFlaws.append({'Ref': ref,'ColumnName': columnName, 'ColumnValue': input, 'ColumnIssue': issueMessage, 'Fixed': False, 'FixedResult': 'N/A'}, ignore_index=True)\n",
        "\n",
        "  elif pd.isna(input):\n",
        "    issueMessage = messageErrorNA\n",
        "    dfFlaws = dfFlaws.append({'Ref': ref, 'ColumnName': columnName, 'ColumnValue': input, 'ColumnIssue': issueMessage, 'Fixed': False, 'FixedResult': 'N/A'}, ignore_index=True)\n",
        "\n",
        "  return dfFlaws"
      ],
      "metadata": {
        "id": "1C7Llqk8dq_t"
      },
      "execution_count": 20,
      "outputs": []
    },
    {
      "cell_type": "markdown",
      "source": [
        "# Check First Name"
      ],
      "metadata": {
        "id": "PMhJRMDGA3Zo"
      }
    },
    {
      "cell_type": "code",
      "source": [
        "def checkColumnFirstName(input, columnName, ref):\n",
        "  dfFlaws = pd.DataFrame(columns=['Ref', 'ColumnName', 'ColumnValue', 'ColumnIssue','Fixed',\"FixedResult\"])\n",
        "\n",
        "  if pd.isna(input):\n",
        "    issueMessage = messageErrorNA\n",
        "    dfFlaws = dfFlaws.append({'Ref': ref,'ColumnName': columnName, 'ColumnValue': input, 'ColumnIssue': issueMessage, 'Fixed': False, 'FixedResult': 'N/A'}, ignore_index=True)\n",
        "\n",
        "  else:\n",
        "    if boolCheckLengthOverLimitInt(input, 20) == True:\n",
        "      issueMessage = messageErrorOverLength\n",
        "      dfFlaws = dfFlaws.append({'Ref': ref,'ColumnName': columnName, 'ColumnValue': input, 'ColumnIssue': issueMessage, 'Fixed': False, 'FixedResult': 'N/A'}, ignore_index=True)\n",
        "\n",
        "\n",
        "    if(checkFirstLetterCapitalised(input) == False):\n",
        "      issueMessage = messageErrorCaseIncorrect\n",
        "      dfFlaws = dfFlaws.append({'Ref': ref,'ColumnName': columnName, 'ColumnValue': input, 'ColumnIssue': issueMessage, 'Fixed': False, 'FixedResult': 'N/A'}, ignore_index=True)\n",
        "\n",
        "    if checkIfSpacesBetweenWords(input) == True:\n",
        "      issueMessage = messageErrorUnwantedSpace\n",
        "      dfFlaws = dfFlaws.append({'Ref': ref,'ColumnName': columnName, 'ColumnValue': input, 'ColumnIssue': issueMessage, 'Fixed': False, 'FixedResult': 'N/A'}, ignore_index=True)\n",
        "\n",
        "    # need to search for numbers within\n",
        "    if containsNumber(input) == True:\n",
        "      issueMessage = messageErrorContainsUnwantedNumbers\n",
        "      dfFlaws = dfFlaws.append({'Ref': ref,'ColumnName': columnName, 'ColumnValue': input, 'ColumnIssue': issueMessage, 'Fixed': False, 'FixedResult': 'N/A'}, ignore_index=True)\n",
        "\n",
        "  return dfFlaws"
      ],
      "metadata": {
        "id": "OpT9wm7BfC0S"
      },
      "execution_count": 21,
      "outputs": []
    },
    {
      "cell_type": "markdown",
      "source": [
        "# Check Second Name"
      ],
      "metadata": {
        "id": "uIzNIorrCei0"
      }
    },
    {
      "cell_type": "code",
      "source": [
        "def checkColumnSecondName(input, columnName, ref):\n",
        "  dfFlaws = pd.DataFrame(columns=['Ref', 'ColumnName', 'ColumnValue', 'ColumnIssue','Fixed',\"FixedResult\"])\n",
        "\n",
        "  if pd.isna(input):\n",
        "    issueMessage = messageErrorNA\n",
        "    dfFlaws = dfFlaws.append({'Ref': ref,'ColumnName': columnName, 'ColumnValue': input, 'ColumnIssue': issueMessage, 'Fixed': False, 'FixedResult': 'N/A'}, ignore_index=True)\n",
        "\n",
        "  else:\n",
        "    if boolCheckLengthOverLimitInt(input, 40) == True:\n",
        "      issueMessage = messageErrorOverLength\n",
        "      dfFlaws = dfFlaws.append({'Ref': ref,'ColumnName': columnName, 'ColumnValue': input, 'ColumnIssue': issueMessage, 'Fixed': False, 'FixedResult': 'N/A'}, ignore_index=True)\n",
        "\n",
        "    if(checkFirstLetterCapitalised(input) == False):\n",
        "      issueMessage = messageErrorCaseIncorrect\n",
        "      dfFlaws = dfFlaws.append({'Ref': ref,'ColumnName': columnName, 'ColumnValue': input, 'ColumnIssue': issueMessage, 'Fixed': False, 'FixedResult': 'N/A'}, ignore_index=True)\n",
        "\n",
        "\n",
        "    # need to search for numbers within\n",
        "    if containsNumber(input) == True:\n",
        "      issueMessage = messageErrorContainsUnwantedNumbers\n",
        "      dfFlaws = dfFlaws.append({'Ref': ref,'ColumnName': columnName, 'ColumnValue': input, 'ColumnIssue': issueMessage, 'Fixed': False, 'FixedResult': 'N/A'}, ignore_index=True)\n",
        "\n",
        "    if checkIfSpacesBetweenWords(input) == True:\n",
        "      issueMessage = messageErrorUnwantedSpace\n",
        "      dfFlaws = dfFlaws.append({'Ref': ref,'ColumnName': columnName, 'ColumnValue': input, 'ColumnIssue': issueMessage, 'Fixed': False, 'FixedResult': 'N/A'}, ignore_index=True)\n",
        "  \n",
        "  return dfFlaws"
      ],
      "metadata": {
        "id": "-gkcyz7cfvXp"
      },
      "execution_count": 22,
      "outputs": []
    },
    {
      "cell_type": "markdown",
      "source": [
        "# Check Email "
      ],
      "metadata": {
        "id": "Xy6ieu5cl7V6"
      }
    },
    {
      "cell_type": "code",
      "source": [
        "def checkColumnEmail(input, columnName, ref):\n",
        "  dfFlaws = pd.DataFrame(columns=['Ref', 'ColumnName', 'ColumnValue', 'ColumnIssue','Fixed',\"FixedResult\"])\n",
        "\n",
        "  if boolCheckLengthOverLimitInt(input, 254) == True:\n",
        "    issueMessage = messageErrorOverLength\n",
        "    dfFlaws = dfFlaws.append({'Ref': ref,'ColumnName': columnName, 'ColumnValue': input, 'ColumnIssue': issueMessage, 'Fixed': False, 'FixedResult': 'N/A'}, ignore_index=True)\n",
        "\n",
        "  return dfFlaws"
      ],
      "metadata": {
        "id": "mmyjYiArgK6P"
      },
      "execution_count": 23,
      "outputs": []
    },
    {
      "cell_type": "markdown",
      "source": [
        "# Check Gender"
      ],
      "metadata": {
        "id": "mVI-QhFtmxtn"
      }
    },
    {
      "cell_type": "code",
      "source": [
        "def checkColumnGender(input, columnName, ref):\n",
        "  dfFlaws = pd.DataFrame(columns=['Ref', 'ColumnName', 'ColumnValue', 'ColumnIssue','Fixed',\"FixedResult\"])\n",
        "\n",
        "  if pd.notna(input):\n",
        "    if type(input) == str:\n",
        "      if boolCheckLengthOverLimitInt(input, 6) == True:\n",
        "        issueMessage = messageErrorOverLength\n",
        "        dfFlaws = dfFlaws.append({'Ref': ref,'ColumnName': columnName, 'ColumnValue': input, 'ColumnIssue': issueMessage, 'Fixed': False, 'FixedResult': 'N/A'}, ignore_index=True)\n",
        "\n",
        "      if checkMaleOrFemale(input) == False:\n",
        "        issueMessage = messageErrorNotMaleOrFemale\n",
        "        dfFlaws = dfFlaws.append({'Ref': ref,'ColumnName': columnName, 'ColumnValue': input, 'ColumnIssue': issueMessage, 'Fixed': False, 'FixedResult': 'N/A'}, ignore_index=True)\n",
        "    \n",
        "      if checkIfSpacesBetweenWords(input) == True:\n",
        "        issueMessage = messageErrorUnwantedSpace\n",
        "        dfFlaws = dfFlaws.append({'Ref': ref,'ColumnName': columnName, 'ColumnValue': input, 'ColumnIssue': issueMessage, 'Fixed': False, 'FixedResult': 'N/A'}, ignore_index=True)\n",
        "  \n",
        "    else:\n",
        "      issueMessage = messageErrorNotString\n",
        "      dfFlaws = dfFlaws.append({'Ref': ref,'ColumnName': columnName, 'ColumnValue': input, 'ColumnIssue': issueMessage, 'Fixed': False, 'FixedResult': 'N/A'}, ignore_index=True)\n",
        "  else:\n",
        "      issueMessage = messageErrorNA\n",
        "      dfFlaws = dfFlaws.append({'Ref': ref,'ColumnName': columnName, 'ColumnValue': input, 'ColumnIssue': issueMessage, 'Fixed': False, 'FixedResult': 'N/A'}, ignore_index=True)\n",
        "  \n",
        "  return dfFlaws"
      ],
      "metadata": {
        "id": "uSys4ozRgcSd"
      },
      "execution_count": 24,
      "outputs": []
    },
    {
      "cell_type": "markdown",
      "source": [
        "# Check IP Address"
      ],
      "metadata": {
        "id": "6wRa2qDPNvQy"
      }
    },
    {
      "cell_type": "code",
      "source": [
        "def checkColumnIPAddress(input, columnName, ref):\n",
        "  dfFlaws = pd.DataFrame(columns=['Ref', 'ColumnName', 'ColumnValue', 'ColumnIssue','Fixed',\"FixedResult\"])\n",
        "\n",
        "  if pd.notna(input):\n",
        "    if type(input) == str:\n",
        "\n",
        "      if boolCheckLengthOverLimitInt(input, 15) == True:\n",
        "        issueMessage = messageErrorOverLength\n",
        "        dfFlaws = dfFlaws.append({'Ref': ref,'ColumnName': columnName, 'ColumnValue': input, 'ColumnIssue': issueMessage, 'Fixed': False, 'FixedResult': 'N/A'}, ignore_index=True)\n",
        "      \n",
        "      if checkIfIPV4Valid(input) == False:\n",
        "        issueMessage = messageErrorNotValidIPAddress \n",
        "        dfFlaws = dfFlaws.append({'Ref': ref,'ColumnName': columnName, 'ColumnValue': input, 'ColumnIssue': issueMessage, 'Fixed': False, 'FixedResult': 'N/A'}, ignore_index=True)\n",
        "\n",
        "    else:\n",
        "      issueMessage = messageErrorNotString\n",
        "      dfFlaws = dfFlaws.append({'Ref': ref,'ColumnName': columnName, 'ColumnValue': input, 'ColumnIssue': issueMessage, 'Fixed': False, 'FixedResult': 'N/A'}, ignore_index=True)\n",
        "\n",
        "  else:\n",
        "    issueMessage = messageErrorNA\n",
        "    dfFlaws = dfFlaws.append({'Ref': ref,'ColumnName': columnName, 'ColumnValue': input, 'ColumnIssue': issueMessage, 'Fixed': False, 'FixedResult': 'N/A'}, ignore_index=True)\n",
        "  \n",
        "  return dfFlaws"
      ],
      "metadata": {
        "id": "orU2uDQlg0df"
      },
      "execution_count": 25,
      "outputs": []
    },
    {
      "cell_type": "markdown",
      "source": [
        "# Check Date of Birth"
      ],
      "metadata": {
        "id": "tDwinK76Pi-f"
      }
    },
    {
      "cell_type": "code",
      "source": [
        "def checkColumnDateOfBirth(input, columnName, ref):\n",
        "  dfFlaws = pd.DataFrame(columns=['Ref', 'ColumnName', 'ColumnValue', 'ColumnIssue','Fixed',\"FixedResult\"])\n",
        "\n",
        "  if pd.notna(input):\n",
        "    if type(input) == str:\n",
        "\n",
        "      if boolCheckLengthOverLimitInt(input, 10) == True:\n",
        "        issueMessage = messageErrorOverLength\n",
        "        dfFlaws = dfFlaws.append({'Ref': ref,'ColumnName': columnName, 'ColumnValue': input, 'ColumnIssue': issueMessage, 'Fixed': False, 'FixedResult': 'N/A'}, ignore_index=True)\n",
        "      \n",
        "      if checkFormatDate(input) == False:\n",
        "        issueMessage = messageDateOfBirthIncorrectFormat\n",
        "        dfFlaws = dfFlaws.append({'Ref': ref,'ColumnName': columnName, 'ColumnValue': input, 'ColumnIssue': issueMessage, 'Fixed': False, 'FixedResult': 'N/A'}, ignore_index=True)\n",
        "      \n",
        "      else:\n",
        "        if check18OrOverBy1stDec2020(input) == False:\n",
        "           issueMessage = messageErrorNot18OrOverBy1stDec2020\n",
        "           dfFlaws = dfFlaws.append({'Ref': ref,'ColumnName': columnName, 'ColumnValue': input, 'ColumnIssue': issueMessage, 'Fixed': False, 'FixedResult': 'N/A'}, ignore_index=True)\n",
        "    else:\n",
        "        issueMessage = messageErrorNotString\n",
        "        dfFlaws = dfFlaws.append({'Ref': ref,'ColumnName': columnName, 'ColumnValue': input, 'ColumnIssue': issueMessage, 'Fixed': False, 'FixedResult': 'N/A'}, ignore_index=True)\n",
        "\n",
        "  else:\n",
        "    issueMessage = messageErrorNA\n",
        "    dfFlaws = dfFlaws.append({'Ref': ref,'ColumnName': columnName, 'ColumnValue': input, 'ColumnIssue': issueMessage, 'Fixed': False, 'FixedResult': 'N/A'}, ignore_index=True)\n",
        "  \n",
        "  return dfFlaws"
      ],
      "metadata": {
        "id": "0k_L0L58hIwA"
      },
      "execution_count": 26,
      "outputs": []
    },
    {
      "cell_type": "markdown",
      "source": [
        "# Find List of Errors"
      ],
      "metadata": {
        "id": "qUKCpG6NeI9N"
      }
    },
    {
      "cell_type": "code",
      "source": [
        "def findErrorsData(dataframe):\n",
        "\n",
        "  # check all values unique\n",
        "  print(\"Are ref unique: \" + str(dataframe['Ref'].is_unique))\n",
        "\n",
        "  # check each row\n",
        "  dfErrorsFound = pd.DataFrame(columns=['Ref', 'ColumnName', 'ColumnValue', 'ColumnIssue','Fixed',\"FixedResult\"])\n",
        "\n",
        "  for index, row in dataframe.iterrows():\n",
        "    dfErrorsFoundRefColumn = checkRefColumn(row[\"Ref\"], \"Ref\", row[\"Ref\"])\n",
        "    if dfErrorsFoundRefColumn.empty == False:\n",
        "      dfErrorsFound = dfErrorsFound.append(dfErrorsFoundRefColumn, ignore_index=True)\n",
        "\n",
        "    dfErrorsFoundFirstNameColumn = checkColumnFirstName(row[\"First_Name\"], \"First_Name\", row[\"Ref\"])\n",
        "    if dfErrorsFoundFirstNameColumn.empty == False:\n",
        "      dfErrorsFound = dfErrorsFound.append(dfErrorsFoundFirstNameColumn, ignore_index=True)\n",
        "\n",
        "    dfErrorsFoundLastNameColumn = checkColumnSecondName(row[\"Last_Name\"], \"Last_Name\", row[\"Ref\"])\n",
        "    if dfErrorsFoundLastNameColumn.empty == False:\n",
        "      dfErrorsFound = dfErrorsFound.append(dfErrorsFoundLastNameColumn, ignore_index=True)\n",
        "\n",
        "    dfErrorsFoundEmailColumn = checkColumnEmail(row[\"Email\"], \"Email\", row[\"Ref\"])\n",
        "    if dfErrorsFoundEmailColumn.empty == False:\n",
        "      dfErrorsFound = dfErrorsFound.append(dfErrorsFoundEmailColumn, ignore_index=True)\n",
        "\n",
        "    dfErrorsFoundGenderColumn = checkColumnGender(row[\"Gender\"], \"Gender\", row[\"Ref\"])\n",
        "    if dfErrorsFoundGenderColumn.empty == False:\n",
        "      dfErrorsFound = dfErrorsFound.append(dfErrorsFoundGenderColumn, ignore_index=True)\n",
        "\n",
        "    dfErrorsFoundIPAddressColumn = checkColumnIPAddress(row[\"IP_Address\"], \"IP_Address\", row[\"Ref\"])\n",
        "    if dfErrorsFoundIPAddressColumn.empty == False:\n",
        "      dfErrorsFound = dfErrorsFound.append(dfErrorsFoundIPAddressColumn, ignore_index=True)\n",
        "\n",
        "    dfErrorsFoundDateOfBirthColumn = checkColumnDateOfBirth(row[\"Date_of_Birth\"], \"Date_of_Birth\", row[\"Ref\"])\n",
        "    if dfErrorsFoundDateOfBirthColumn.empty == False:\n",
        "      dfErrorsFound = dfErrorsFound.append(dfErrorsFoundDateOfBirthColumn, ignore_index=True)\n",
        "  \n",
        "  return dfErrorsFound"
      ],
      "metadata": {
        "id": "GUz4KZ6feLH-"
      },
      "execution_count": 167,
      "outputs": []
    },
    {
      "cell_type": "code",
      "source": [
        "dfErrors = findErrorsData(df)"
      ],
      "metadata": {
        "colab": {
          "base_uri": "https://localhost:8080/"
        },
        "id": "oNepHDi3D5ar",
        "outputId": "1805340a-0c17-4cce-d4ee-c8d13aaa6ad1"
      },
      "execution_count": 168,
      "outputs": [
        {
          "output_type": "stream",
          "name": "stdout",
          "text": [
            "Are ref unique: True\n"
          ]
        }
      ]
    },
    {
      "cell_type": "code",
      "source": [
        "createHTMLOfDf(dfErrors, \"DfErrors.html\")"
      ],
      "metadata": {
        "id": "KdyUAebh0YjV"
      },
      "execution_count": 169,
      "outputs": []
    },
    {
      "cell_type": "code",
      "source": [
        "print(dfErrors.head())"
      ],
      "metadata": {
        "colab": {
          "base_uri": "https://localhost:8080/"
        },
        "id": "JWGIHhQbv5Pz",
        "outputId": "61079b76-e42e-497c-8461-0cef3d344804"
      },
      "execution_count": 170,
      "outputs": [
        {
          "output_type": "stream",
          "name": "stdout",
          "text": [
            "  Ref  ColumnName                              ColumnValue  \\\n",
            "0   6  First_Name                               christabel   \n",
            "1   6   Last_Name                                    start   \n",
            "2   9  IP_Address  1df6:b3b9:cdb7:d246:3fe9:7288:46ee:e528   \n",
            "3   9  IP_Address  1df6:b3b9:cdb7:d246:3fe9:7288:46ee:e528   \n",
            "4  27   Last_Name                                      NaN   \n",
            "\n",
            "                ColumnIssue  Fixed FixedResult  \n",
            "0         Case is incorrect  False         N/A  \n",
            "1         Case is incorrect  False         N/A  \n",
            "2  Length is over the limit  False         N/A  \n",
            "3          Not a valid IPv4  False         N/A  \n",
            "4              Value is NaN  False         N/A  \n"
          ]
        }
      ]
    },
    {
      "cell_type": "markdown",
      "source": [
        "# Data Error Exploration"
      ],
      "metadata": {
        "id": "CmrduCGvM2tZ"
      }
    },
    {
      "cell_type": "code",
      "source": [
        "def inspectRowsEffectedByError(dfOriginal, dfErrors, errorMessage):\n",
        "  noRowsOriginalDf = len(dfOriginal.index)\n",
        "  errorDfSpecificErrorMsg = dfErrors[dfErrors['ColumnIssue'] == errorMessage]\n",
        "  print(\"where: \" + errorMessage)\n",
        "  noRowsErrorDfSpecificErrorMsg = len(errorDfSpecificErrorMsg.index)\n",
        "  percentage = (noRowsErrorDfSpecificErrorMsg/noRowsOriginalDf)*100\n",
        "  percentage = str(round(percentage, 2))\n",
        "  print(\"% where : \" + errorMessage + \"  \" + percentage + \"%\") \n",
        "  print()\n",
        "  return errorDfSpecificErrorMsg"
      ],
      "metadata": {
        "id": "AVd7jTj7POGW"
      },
      "execution_count": 171,
      "outputs": []
    },
    {
      "cell_type": "markdown",
      "source": [
        "Gender"
      ],
      "metadata": {
        "id": "ijnky0Zp4G8k"
      }
    },
    {
      "cell_type": "code",
      "source": [
        "errorDfSpecificErrorMsg = dfErrors[dfErrors['ColumnIssue'] == messageErrorNotMaleOrFemale]\n",
        "print(errorDfSpecificErrorMsg)"
      ],
      "metadata": {
        "colab": {
          "base_uri": "https://localhost:8080/"
        },
        "id": "IB6gPfvdM5wP",
        "outputId": "497fce71-4eaa-4794-b165-ab5b8b3a5308"
      },
      "execution_count": 172,
      "outputs": [
        {
          "output_type": "stream",
          "name": "stdout",
          "text": [
            "    Ref ColumnName ColumnValue         ColumnIssue  Fixed FixedResult\n",
            "14  124     Gender           1  Not Male or Female  False         N/A\n",
            "18  158     Gender          m   Not Male or Female  False         N/A\n",
            "35  347     Gender           1  Not Male or Female  False         N/A\n",
            "37  354     Gender           1  Not Male or Female  False         N/A\n",
            "39  402     Gender        fem   Not Male or Female  False         N/A\n",
            "52  521     Gender           2  Not Male or Female  False         N/A\n",
            "58  586     Gender          f   Not Male or Female  False         N/A\n"
          ]
        }
      ]
    },
    {
      "cell_type": "markdown",
      "source": [
        "Containing Numbers"
      ],
      "metadata": {
        "id": "bq66VDth4KLA"
      }
    },
    {
      "cell_type": "code",
      "source": [
        "errorDfSpecificErrorMsg = dfErrors[dfErrors['ColumnIssue'] == messageErrorContainsUnwantedNumbers]\n",
        "print(errorDfSpecificErrorMsg)\n",
        "\n",
        "genderIs1ain = df[df['First_Name'] == '1ain']\n",
        "print(genderIs1ain)"
      ],
      "metadata": {
        "colab": {
          "base_uri": "https://localhost:8080/"
        },
        "id": "-EIfyBa9WpUQ",
        "outputId": "0e20d5c3-848b-45b1-b225-3760171a2ff6"
      },
      "execution_count": 173,
      "outputs": [
        {
          "output_type": "stream",
          "name": "stdout",
          "text": [
            "    Ref  ColumnName ColumnValue                 ColumnIssue  Fixed FixedResult\n",
            "28  298   Last_Name     Gambe11  Unwanted numbers contained  False         N/A\n",
            "47  482  First_Name        1ain  Unwanted numbers contained  False         N/A\n",
            "55  554  First_Name        0wen  Unwanted numbers contained  False         N/A\n",
            "83  815   Last_Name  0'Dowgaine  Unwanted numbers contained  False         N/A\n",
            "     Ref First_Name Last_Name                    Email Gender     IP_Address  \\\n",
            "481  482       1ain    Freeth  ifreethdd@artisteer.com   Male  162.225.238.5   \n",
            "\n",
            "    Date_of_Birth  \n",
            "481    03/10/1935  \n"
          ]
        }
      ]
    },
    {
      "cell_type": "markdown",
      "source": [
        "Date"
      ],
      "metadata": {
        "id": "zJhN8AS24MLZ"
      }
    },
    {
      "cell_type": "code",
      "source": [
        "errorDfSpecificErrorMsg = dfErrors[dfErrors['ColumnIssue'] == messageDateOfBirthIncorrectFormat]\n",
        "print(errorDfSpecificErrorMsg)"
      ],
      "metadata": {
        "colab": {
          "base_uri": "https://localhost:8080/"
        },
        "id": "znzjvhSEZ38I",
        "outputId": "edbd892b-a728-4c76-e433-39f0b04a8c24"
      },
      "execution_count": 174,
      "outputs": [
        {
          "output_type": "stream",
          "name": "stdout",
          "text": [
            "     Ref     ColumnName  ColumnValue                             ColumnIssue  \\\n",
            "5     36  Date_of_Birth   01/31/1995  Date of birth not in format dd/mm/yyyy   \n",
            "10   102  Date_of_Birth   27/27/1991  Date of birth not in format dd/mm/yyyy   \n",
            "90   878  Date_of_Birth  09-MAY-1956  Date of birth not in format dd/mm/yyyy   \n",
            "101  965  Date_of_Birth  06/05/1943*  Date of birth not in format dd/mm/yyyy   \n",
            "\n",
            "     Fixed FixedResult  \n",
            "5    False         N/A  \n",
            "10   False         N/A  \n",
            "90   False         N/A  \n",
            "101  False         N/A  \n"
          ]
        }
      ]
    },
    {
      "cell_type": "code",
      "source": [
        "inspectRowsEffectedByError(df, dfErrors, messageErrorNA)\n",
        "\n",
        "inspectRowsEffectedByError(df, dfErrors, messageErrorOverLength)\n",
        "\n",
        "inspectRowsEffectedByError(df, dfErrors, messageErrorNotValidIPAddress)\n",
        "\n",
        "inspectRowsEffectedByError(df, dfErrors, messageErrorNot18OrOverBy1stDec2020)\n",
        "\n",
        "inspectRowsEffectedByError(df, dfErrors, messageErrorNotString)"
      ],
      "metadata": {
        "colab": {
          "base_uri": "https://localhost:8080/",
          "height": 0
        },
        "id": "5q3CbK_yR7sM",
        "outputId": "ca82c08a-7a73-4e9e-f5ba-08572aafec16"
      },
      "execution_count": 175,
      "outputs": [
        {
          "output_type": "stream",
          "name": "stdout",
          "text": [
            "where: Value is NaN\n",
            "% where : Value is NaN  0.7%\n",
            "\n",
            "where: Length is over the limit\n",
            "% where : Length is over the limit  0.6%\n",
            "\n",
            "where: Not a valid IPv4\n",
            "% where : Not a valid IPv4  0.6%\n",
            "\n",
            "where: Not 18 or over by 1st Dec 2020\n",
            "% where : Not 18 or over by 1st Dec 2020  4.5%\n",
            "\n",
            "where: Not a string\n",
            "% where : Not a string  0.0%\n",
            "\n"
          ]
        },
        {
          "output_type": "execute_result",
          "data": {
            "text/plain": [
              "Empty DataFrame\n",
              "Columns: [Ref, ColumnName, ColumnValue, ColumnIssue, Fixed, FixedResult]\n",
              "Index: []"
            ],
            "text/html": [
              "\n",
              "  <div id=\"df-d85013ff-3b6a-446b-b2cf-ed82b9d4f25e\">\n",
              "    <div class=\"colab-df-container\">\n",
              "      <div>\n",
              "<style scoped>\n",
              "    .dataframe tbody tr th:only-of-type {\n",
              "        vertical-align: middle;\n",
              "    }\n",
              "\n",
              "    .dataframe tbody tr th {\n",
              "        vertical-align: top;\n",
              "    }\n",
              "\n",
              "    .dataframe thead th {\n",
              "        text-align: right;\n",
              "    }\n",
              "</style>\n",
              "<table border=\"1\" class=\"dataframe\">\n",
              "  <thead>\n",
              "    <tr style=\"text-align: right;\">\n",
              "      <th></th>\n",
              "      <th>Ref</th>\n",
              "      <th>ColumnName</th>\n",
              "      <th>ColumnValue</th>\n",
              "      <th>ColumnIssue</th>\n",
              "      <th>Fixed</th>\n",
              "      <th>FixedResult</th>\n",
              "    </tr>\n",
              "  </thead>\n",
              "  <tbody>\n",
              "  </tbody>\n",
              "</table>\n",
              "</div>\n",
              "      <button class=\"colab-df-convert\" onclick=\"convertToInteractive('df-d85013ff-3b6a-446b-b2cf-ed82b9d4f25e')\"\n",
              "              title=\"Convert this dataframe to an interactive table.\"\n",
              "              style=\"display:none;\">\n",
              "        \n",
              "  <svg xmlns=\"http://www.w3.org/2000/svg\" height=\"24px\"viewBox=\"0 0 24 24\"\n",
              "       width=\"24px\">\n",
              "    <path d=\"M0 0h24v24H0V0z\" fill=\"none\"/>\n",
              "    <path d=\"M18.56 5.44l.94 2.06.94-2.06 2.06-.94-2.06-.94-.94-2.06-.94 2.06-2.06.94zm-11 1L8.5 8.5l.94-2.06 2.06-.94-2.06-.94L8.5 2.5l-.94 2.06-2.06.94zm10 10l.94 2.06.94-2.06 2.06-.94-2.06-.94-.94-2.06-.94 2.06-2.06.94z\"/><path d=\"M17.41 7.96l-1.37-1.37c-.4-.4-.92-.59-1.43-.59-.52 0-1.04.2-1.43.59L10.3 9.45l-7.72 7.72c-.78.78-.78 2.05 0 2.83L4 21.41c.39.39.9.59 1.41.59.51 0 1.02-.2 1.41-.59l7.78-7.78 2.81-2.81c.8-.78.8-2.07 0-2.86zM5.41 20L4 18.59l7.72-7.72 1.47 1.35L5.41 20z\"/>\n",
              "  </svg>\n",
              "      </button>\n",
              "      \n",
              "  <style>\n",
              "    .colab-df-container {\n",
              "      display:flex;\n",
              "      flex-wrap:wrap;\n",
              "      gap: 12px;\n",
              "    }\n",
              "\n",
              "    .colab-df-convert {\n",
              "      background-color: #E8F0FE;\n",
              "      border: none;\n",
              "      border-radius: 50%;\n",
              "      cursor: pointer;\n",
              "      display: none;\n",
              "      fill: #1967D2;\n",
              "      height: 32px;\n",
              "      padding: 0 0 0 0;\n",
              "      width: 32px;\n",
              "    }\n",
              "\n",
              "    .colab-df-convert:hover {\n",
              "      background-color: #E2EBFA;\n",
              "      box-shadow: 0px 1px 2px rgba(60, 64, 67, 0.3), 0px 1px 3px 1px rgba(60, 64, 67, 0.15);\n",
              "      fill: #174EA6;\n",
              "    }\n",
              "\n",
              "    [theme=dark] .colab-df-convert {\n",
              "      background-color: #3B4455;\n",
              "      fill: #D2E3FC;\n",
              "    }\n",
              "\n",
              "    [theme=dark] .colab-df-convert:hover {\n",
              "      background-color: #434B5C;\n",
              "      box-shadow: 0px 1px 3px 1px rgba(0, 0, 0, 0.15);\n",
              "      filter: drop-shadow(0px 1px 2px rgba(0, 0, 0, 0.3));\n",
              "      fill: #FFFFFF;\n",
              "    }\n",
              "  </style>\n",
              "\n",
              "      <script>\n",
              "        const buttonEl =\n",
              "          document.querySelector('#df-d85013ff-3b6a-446b-b2cf-ed82b9d4f25e button.colab-df-convert');\n",
              "        buttonEl.style.display =\n",
              "          google.colab.kernel.accessAllowed ? 'block' : 'none';\n",
              "\n",
              "        async function convertToInteractive(key) {\n",
              "          const element = document.querySelector('#df-d85013ff-3b6a-446b-b2cf-ed82b9d4f25e');\n",
              "          const dataTable =\n",
              "            await google.colab.kernel.invokeFunction('convertToInteractive',\n",
              "                                                     [key], {});\n",
              "          if (!dataTable) return;\n",
              "\n",
              "          const docLinkHtml = 'Like what you see? Visit the ' +\n",
              "            '<a target=\"_blank\" href=https://colab.research.google.com/notebooks/data_table.ipynb>data table notebook</a>'\n",
              "            + ' to learn more about interactive tables.';\n",
              "          element.innerHTML = '';\n",
              "          dataTable['output_type'] = 'display_data';\n",
              "          await google.colab.output.renderOutput(dataTable, element);\n",
              "          const docLink = document.createElement('div');\n",
              "          docLink.innerHTML = docLinkHtml;\n",
              "          element.appendChild(docLink);\n",
              "        }\n",
              "      </script>\n",
              "    </div>\n",
              "  </div>\n",
              "  "
            ]
          },
          "metadata": {},
          "execution_count": 175
        }
      ]
    },
    {
      "cell_type": "markdown",
      "source": [
        "# Clean Functions"
      ],
      "metadata": {
        "id": "8i-o2V0BgA1k"
      }
    },
    {
      "cell_type": "code",
      "source": [
        "def removeSpace(value):\n",
        "  valueWithoutSpace = value.replace(\" \", \"\")\n",
        "  return valueWithoutSpace"
      ],
      "metadata": {
        "id": "Nb7vtDwBgUFU"
      },
      "execution_count": 176,
      "outputs": []
    },
    {
      "cell_type": "code",
      "source": [
        "def fixSpace(df, ref, columnName):\n",
        "  row = df[df['Ref'] == ref]\n",
        "  rowValueColumnName = row[columnName].iat[0]\n",
        "  rowValueColumnNameWithoutSpace = removeSpace(rowValueColumnName)\n",
        "  df.loc[df['Ref'] == ref,[columnName]] = rowValueColumnNameWithoutSpace\n",
        "  return df"
      ],
      "metadata": {
        "id": "Mpskw4A7aqsG"
      },
      "execution_count": 177,
      "outputs": []
    },
    {
      "cell_type": "code",
      "source": [
        "def fixNumbersToLetters(df, ref, columnName):\n",
        "  row = df[df['Ref'] == ref]\n",
        "  rowValueColumnName = row[columnName].iat[0]\n",
        "  rowValueColumnNameWithoutNumbers = convertNumbersToLetters(rowValueColumnName)\n",
        "  df.loc[df['Ref'] == ref,[columnName]] = rowValueColumnNameWithoutNumbers\n",
        "  return df"
      ],
      "metadata": {
        "id": "2f0Ng9ZjqXgx"
      },
      "execution_count": 178,
      "outputs": []
    },
    {
      "cell_type": "code",
      "source": [
        "def convertNumbersToLetters(value):\n",
        "  stringWithout0 = value.replace(\"0\", \"o\" )\n",
        "  stringWithout0And1 = stringWithout0.replace(\"1\", \"l\" )\n",
        "  return stringWithout0And1"
      ],
      "metadata": {
        "id": "e8F4w7yjnqCN"
      },
      "execution_count": 179,
      "outputs": []
    },
    {
      "cell_type": "code",
      "source": [
        "def capitalismFirstLetter(df, ref, columnName):\n",
        "  row = df[df['Ref'] == ref]\n",
        "  rowValueColumnName = row[columnName].iat[0]\n",
        "  rowValueColumnNameCapitalised = convertNumbersToLetters(rowValueColumnName)\n",
        "  df.loc[df['Ref'] == ref,[columnName]] = rowValueColumnNameCapitalised.capitalize()\n",
        "  return df"
      ],
      "metadata": {
        "id": "RrhvxSyVwpEP"
      },
      "execution_count": 180,
      "outputs": []
    },
    {
      "cell_type": "code",
      "source": [
        "def replaceGenderTerms(value):\n",
        "  value = str(value)\n",
        "  if value == 'l':\n",
        "    value = 'Female'\n",
        "  elif value == '1':\n",
        "    value = 'Female'\n",
        "  elif value == '2':\n",
        "    value = 'Male'\n",
        "  elif value == 'm':\n",
        "    value = 'Male'\n",
        "  elif value == 'f':\n",
        "    value = 'Female'\n",
        "  elif value == 'fem':\n",
        "    value = 'Female'\n",
        "  return value"
      ],
      "metadata": {
        "id": "VoNlXKqqyASi"
      },
      "execution_count": 181,
      "outputs": []
    },
    {
      "cell_type": "code",
      "source": [
        "def fixGenderTerms(df, ref, columnName):\n",
        "  row = df[df['Ref'] == ref]\n",
        "  rowValueColumnName = row[columnName].iat[0]\n",
        "  df.loc[df['Ref'] == ref,[columnName]] = replaceGenderTerms(rowValueColumnName)\n",
        "  return df"
      ],
      "metadata": {
        "id": "lqLqNXuByjKs"
      },
      "execution_count": 182,
      "outputs": []
    },
    {
      "cell_type": "code",
      "source": [
        "def dateInFormMMDDYYYY(input):\n",
        "  format = '%m/%d/%Y'\n",
        "  try:\n",
        "    datetime.strptime(input, format)\n",
        "    return True\n",
        "  except ValueError:\n",
        "    return False "
      ],
      "metadata": {
        "id": "CGPl_jwSKXsy"
      },
      "execution_count": 183,
      "outputs": []
    },
    {
      "cell_type": "code",
      "source": [
        "def dateContainMonthName(input):\n",
        "  format = '%d-%B-%Y'\n",
        "  try:\n",
        "    datetime.strptime(input, format)\n",
        "    return True\n",
        "  except ValueError:\n",
        "    return False "
      ],
      "metadata": {
        "id": "xzlsS0kMOlMn"
      },
      "execution_count": 184,
      "outputs": []
    },
    {
      "cell_type": "code",
      "source": [
        "def convertDateMonthName(input):\n",
        "  input = datetime.strptime(input, \"%d-%B-%Y\").strftime(\"%d/%m/%Y\")\n",
        "  return input"
      ],
      "metadata": {
        "id": "1GmLc2LPOjkK"
      },
      "execution_count": 185,
      "outputs": []
    },
    {
      "cell_type": "code",
      "source": [
        "def dateConvertMMDDYYYYToDDMMYYYY(input):\n",
        "  input = datetime.strptime(input, \"%m/%d/%Y\").strftime(\"%d/%m/%Y\")\n",
        "  return input"
      ],
      "metadata": {
        "id": "lL4XX0ZRKRbI"
      },
      "execution_count": 186,
      "outputs": []
    },
    {
      "cell_type": "code",
      "source": [
        "def checkIfContainsSpecialCharactersOtherThanSlash(input):\n",
        "  special_characters = ['@','#','%', '*']\n",
        "  return any(c in special_characters for c in input)"
      ],
      "metadata": {
        "id": "QEaSE8Y9PuOM"
      },
      "execution_count": 187,
      "outputs": []
    },
    {
      "cell_type": "code",
      "source": [
        "def removeSpecialCharactersOtherThanSlash(input):\n",
        "  special_characters = ['@','#','%', '*']\n",
        "  out_list = []\n",
        "  for x in input:\n",
        "    for y in special_characters:\n",
        "        if y in x:\n",
        "            input = input.replace(x,'')\n",
        "  return input"
      ],
      "metadata": {
        "id": "fK_IVxAZQcOF"
      },
      "execution_count": 188,
      "outputs": []
    },
    {
      "cell_type": "code",
      "source": [
        "def fixDate(df, ref, columnName):\n",
        "  row = df[df['Ref'] == ref]\n",
        "  rowValueColumnName = row[columnName].iat[0]\n",
        "  if dateInFormMMDDYYYY(rowValueColumnName):\n",
        "    df.loc[df['Ref'] == ref,[columnName]] = dateConvertMMDDYYYYToDDMMYYYY(rowValueColumnName)\n",
        "  elif dateContainMonthName(rowValueColumnName):\n",
        "    df.loc[df['Ref'] == ref,[columnName]] = convertDateMonthName(rowValueColumnName)\n",
        "  elif checkIfContainsSpecialCharactersOtherThanSlash(rowValueColumnName):\n",
        "    df.loc[df['Ref'] == ref,[columnName]] = removeSpecialCharactersOtherThanSlash(rowValueColumnName)\n",
        "  return df"
      ],
      "metadata": {
        "id": "jho0vVK_J2oK"
      },
      "execution_count": 189,
      "outputs": []
    },
    {
      "cell_type": "markdown",
      "source": [
        "# Rows to Fix"
      ],
      "metadata": {
        "id": "PQYAQx-NWlhG"
      }
    },
    {
      "cell_type": "code",
      "source": [
        "def fixValues(df, dfErrors):\n",
        "  dfClean = df.copy()\n",
        "\n",
        "  # remove unwanted spaces\n",
        "  errorDfSpaces = dfErrors[dfErrors['ColumnIssue'] == messageErrorUnwantedSpace]\n",
        "  for index, row in errorDfSpaces.iterrows():\n",
        "    dfClean = fixSpace(dfClean, row[\"Ref\"], row[\"ColumnName\"])\n",
        "\n",
        "  # remove unwanted numbers\n",
        "  errorDfUnwantedNumbers = dfErrors[dfErrors['ColumnIssue'] == messageErrorContainsUnwantedNumbers]\n",
        "  for index, row in errorDfUnwantedNumbers.iterrows():\n",
        "    dfClean = fixNumbersToLetters(dfClean, row[\"Ref\"], row[\"ColumnName\"])\n",
        "  \n",
        "  # fix case (first capital)\n",
        "  errorDfCaseIncorrect = dfErrors[dfErrors['ColumnIssue'] == messageErrorCaseIncorrect]\n",
        "  for index, row in errorDfCaseIncorrect.iterrows():\n",
        "    dfClean = capitalismFirstLetter(dfClean, row[\"Ref\"], row[\"ColumnName\"])\n",
        "  \n",
        "  # fix gender\n",
        "  errorDfUnwantedGenders = dfErrors[dfErrors['ColumnIssue'] == messageErrorNotMaleOrFemale]\n",
        "  for index, row in errorDfUnwantedGenders.iterrows():\n",
        "    dfClean = fixGenderTerms(dfClean, row[\"Ref\"], row[\"ColumnName\"])\n",
        "  \n",
        "  # fix date of birth format\n",
        "  errorDfDateOfBirthFormat = dfErrors[dfErrors['ColumnIssue'] == messageDateOfBirthIncorrectFormat]\n",
        "  for index, row in errorDfDateOfBirthFormat.iterrows():\n",
        "    dfClean = fixDate(dfClean, row[\"Ref\"], row[\"ColumnName\"])\n",
        "  \n",
        "  return dfClean"
      ],
      "metadata": {
        "id": "uhx5FTFhaYp0"
      },
      "execution_count": 190,
      "outputs": []
    },
    {
      "cell_type": "code",
      "source": [
        "cleanDf = fixValues(df, dfErrors)"
      ],
      "metadata": {
        "id": "G0qgM-xCbOxt"
      },
      "execution_count": 191,
      "outputs": []
    },
    {
      "cell_type": "code",
      "source": [
        "print(cleanDf.head())"
      ],
      "metadata": {
        "colab": {
          "base_uri": "https://localhost:8080/"
        },
        "id": "jHGUAZp2e-2r",
        "outputId": "d770f0f7-3f4c-4f5a-88db-cdec684e5b08"
      },
      "execution_count": 192,
      "outputs": [
        {
          "output_type": "stream",
          "name": "stdout",
          "text": [
            "   Ref First_Name Last_Name                      Email  Gender  \\\n",
            "0    1   Germayne   Simmons       gsimmons0@cdbaby.com    Male   \n",
            "1    2      Cosmo    Pleass      cpleass1@netscape.com    Male   \n",
            "2    3     Henrik      Boag     hboag2@bizjournals.com    Male   \n",
            "3    4    Kinsley   Millard         kmillard3@furl.net    Male   \n",
            "4    5       Peri   Lippatt  plippatt4@liveinternet.ru  Female   \n",
            "\n",
            "       IP_Address Date_of_Birth  \n",
            "0   24.48.223.251    18/11/1959  \n",
            "1   108.87.136.28    08/11/1935  \n",
            "2  221.105.60.101    07/10/1989  \n",
            "3   67.153.106.99    03/02/1954  \n",
            "4   179.46.90.224    21/12/1988  \n"
          ]
        }
      ]
    },
    {
      "cell_type": "code",
      "source": [
        "dfErrorsCleaned = findErrorsData(cleanDf)\n",
        "createHTMLOfDf(dfErrorsCleaned, \"DfErrorsFixErrorsCleaned.html\")"
      ],
      "metadata": {
        "colab": {
          "base_uri": "https://localhost:8080/"
        },
        "id": "WOYUPwbh3ajR",
        "outputId": "686a169f-564f-4ea2-bf05-56580b398b5c"
      },
      "execution_count": 193,
      "outputs": [
        {
          "output_type": "stream",
          "name": "stdout",
          "text": [
            "Are ref unique: True\n"
          ]
        }
      ]
    },
    {
      "cell_type": "markdown",
      "source": [
        "# Rows to Delete"
      ],
      "metadata": {
        "id": "qTOtKY7VWioN"
      }
    },
    {
      "cell_type": "code",
      "source": [
        "def checkRowStillExists(df, ref):\n",
        "  row = df[df['Ref'] == ref]\n",
        "  if(len(row.index) > 0):\n",
        "    return True\n",
        "  else:\n",
        "    return False"
      ],
      "metadata": {
        "id": "WMLlxeRYcr7d"
      },
      "execution_count": 194,
      "outputs": []
    },
    {
      "cell_type": "code",
      "source": [
        "def dropRowBasedOnErrorMsg(df, dfErrors, errorMsg):\n",
        "  errorDf = dfErrors[dfErrors['ColumnIssue'] ==  errorMsg]\n",
        "  for index, row in errorDf.iterrows():\n",
        "    if(checkRowStillExists(df, row[\"Ref\"])):\n",
        "      rowInDataframeToDelete = df[df[\"Ref\"] == row[\"Ref\"]]\n",
        "      rowInDataframeToDeleteIndex = rowInDataframeToDelete.index\n",
        "      df = df.drop(rowInDataframeToDeleteIndex)\n",
        "  return df"
      ],
      "metadata": {
        "id": "0vjrsb0NeIhk"
      },
      "execution_count": 195,
      "outputs": []
    },
    {
      "cell_type": "code",
      "source": [
        "def deleteUnwantedValuesDf(df, dfErrors):\n",
        "  dfDeletedValues = df.copy()\n",
        "\n",
        "  dfDeletedValues = dropRowBasedOnErrorMsg(dfDeletedValues, dfErrors, messageErrorNA)\n",
        "  dfDeletedValues = dropRowBasedOnErrorMsg(dfDeletedValues, dfErrors, messageErrorOverLength)\n",
        "  dfDeletedValues = dropRowBasedOnErrorMsg(dfDeletedValues, dfErrors, messageErrorNotValidIPAddress)\n",
        "  dfDeletedValues = dropRowBasedOnErrorMsg(dfDeletedValues, dfErrors, messageErrorNot18OrOverBy1stDec2020)\n",
        "  dfDeletedValues = dropRowBasedOnErrorMsg(dfDeletedValues, dfErrors, messageErrorNotString)\n",
        "  dfDeletedValues = dropRowBasedOnErrorMsg(dfDeletedValues, dfErrors, messageDateOfBirthIncorrectFormat)\n",
        "\n",
        "  return dfDeletedValues"
      ],
      "metadata": {
        "id": "9KrBP18IbmxB"
      },
      "execution_count": 196,
      "outputs": []
    },
    {
      "cell_type": "code",
      "source": [
        "cleanDeletedDf = deleteUnwantedValuesDf(cleanDf, dfErrorsCleaned)"
      ],
      "metadata": {
        "id": "s0MZiBPoevtE"
      },
      "execution_count": 197,
      "outputs": []
    },
    {
      "cell_type": "code",
      "source": [
        "dfErrorsCleanedDeleted = findErrorsData(cleanDeletedDf)\n",
        "createHTMLOfDf(dfErrorsCleanedDeleted, \"DfErrorsFixErrorsCleanedDeleted.html\")"
      ],
      "metadata": {
        "colab": {
          "base_uri": "https://localhost:8080/"
        },
        "id": "ldjQyiw_3od5",
        "outputId": "704a3263-8bd8-4093-aab4-1542facdb142"
      },
      "execution_count": 198,
      "outputs": [
        {
          "output_type": "stream",
          "name": "stdout",
          "text": [
            "Are ref unique: True\n"
          ]
        }
      ]
    },
    {
      "cell_type": "code",
      "source": [
        "createHTMLOfDf(cleanDeletedDf, \"DfCleaned.html\")"
      ],
      "metadata": {
        "id": "1gZM6dTN0v6n"
      },
      "execution_count": 199,
      "outputs": []
    },
    {
      "cell_type": "code",
      "source": [
        "print(\"size after cleaning and deleting: \" + str(len(cleanDeletedDf.index)))"
      ],
      "metadata": {
        "colab": {
          "base_uri": "https://localhost:8080/"
        },
        "id": "zqf47cp651VF",
        "outputId": "38e5d9a4-a58e-4c21-eead-4ac5cce2e845"
      },
      "execution_count": 200,
      "outputs": [
        {
          "output_type": "stream",
          "name": "stdout",
          "text": [
            "size after cleaning and deleting: 942\n"
          ]
        }
      ]
    }
  ]
}